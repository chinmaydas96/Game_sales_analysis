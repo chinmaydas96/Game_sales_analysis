{
 "cells": [
  {
   "cell_type": "markdown",
   "metadata": {
    "collapsed": true
   },
   "source": [
    "import sys\n",
    "from zipfile import PyZipFile\n",
    "#for zip_file in sys.argv[1:]:\n",
    "zip_file = \"vgsales1.csv.zip\"\n",
    "pzf = PyZipFile(zip_file)\n",
    "pzf.extractall()"
   ]
  },
  {
   "cell_type": "markdown",
   "metadata": {},
   "source": [
    "## 1.Importing all the necessary libraries"
   ]
  },
  {
   "cell_type": "code",
   "execution_count": 1,
   "metadata": {},
   "outputs": [],
   "source": [
    "\n",
    "import pandas as pd\n",
    "import numpy as np\n",
    "import seaborn as sns\n",
    "import matplotlib as mp\n",
    "from matplotlib.pyplot import suptitle\n",
    "import os\n",
    "\n",
    "\n",
    "import sklearn\n",
    "import seaborn as sn\n",
    "import matplotlib.pyplot as plt\n",
    "import seaborn as sns\n",
    "from scipy import stats\n",
    "from scipy.stats import norm, skew \n",
    "\n",
    "import warnings\n",
    "def ignore_warn(*args, **kwargs):\n",
    "    pass\n",
    "warnings.warn = ignore_warn #ignore annoying warning (from sklearn and seaborn)"
   ]
  },
  {
   "cell_type": "markdown",
   "metadata": {},
   "source": [
    "##  2.Obtaining Data"
   ]
  },
  {
   "cell_type": "code",
   "execution_count": 2,
   "metadata": {},
   "outputs": [
    {
     "data": {
      "text/html": [
       "<div>\n",
       "<style scoped>\n",
       "    .dataframe tbody tr th:only-of-type {\n",
       "        vertical-align: middle;\n",
       "    }\n",
       "\n",
       "    .dataframe tbody tr th {\n",
       "        vertical-align: top;\n",
       "    }\n",
       "\n",
       "    .dataframe thead th {\n",
       "        text-align: right;\n",
       "    }\n",
       "</style>\n",
       "<table border=\"1\" class=\"dataframe\">\n",
       "  <thead>\n",
       "    <tr style=\"text-align: right;\">\n",
       "      <th></th>\n",
       "      <th>Name</th>\n",
       "      <th>Platform</th>\n",
       "      <th>Year_of_Release</th>\n",
       "      <th>Genre</th>\n",
       "      <th>Publisher</th>\n",
       "      <th>NA_Sales</th>\n",
       "      <th>EU_Sales</th>\n",
       "      <th>JP_Sales</th>\n",
       "      <th>Other_Sales</th>\n",
       "      <th>Global_Sales</th>\n",
       "      <th>Critic_Score</th>\n",
       "      <th>Critic_Count</th>\n",
       "      <th>User_Score</th>\n",
       "      <th>User_Count</th>\n",
       "      <th>Developer</th>\n",
       "      <th>Rating</th>\n",
       "    </tr>\n",
       "  </thead>\n",
       "  <tbody>\n",
       "    <tr>\n",
       "      <th>0</th>\n",
       "      <td>Wii Sports</td>\n",
       "      <td>Wii</td>\n",
       "      <td>2006.0</td>\n",
       "      <td>Sports</td>\n",
       "      <td>Nintendo</td>\n",
       "      <td>41.36</td>\n",
       "      <td>28.96</td>\n",
       "      <td>3.77</td>\n",
       "      <td>8.45</td>\n",
       "      <td>82.53</td>\n",
       "      <td>76.0</td>\n",
       "      <td>51.0</td>\n",
       "      <td>8</td>\n",
       "      <td>322.0</td>\n",
       "      <td>Nintendo</td>\n",
       "      <td>E</td>\n",
       "    </tr>\n",
       "    <tr>\n",
       "      <th>1</th>\n",
       "      <td>Super Mario Bros.</td>\n",
       "      <td>NES</td>\n",
       "      <td>1985.0</td>\n",
       "      <td>Platform</td>\n",
       "      <td>Nintendo</td>\n",
       "      <td>29.08</td>\n",
       "      <td>3.58</td>\n",
       "      <td>6.81</td>\n",
       "      <td>0.77</td>\n",
       "      <td>40.24</td>\n",
       "      <td>NaN</td>\n",
       "      <td>NaN</td>\n",
       "      <td>NaN</td>\n",
       "      <td>NaN</td>\n",
       "      <td>NaN</td>\n",
       "      <td>NaN</td>\n",
       "    </tr>\n",
       "    <tr>\n",
       "      <th>2</th>\n",
       "      <td>Mario Kart Wii</td>\n",
       "      <td>Wii</td>\n",
       "      <td>2008.0</td>\n",
       "      <td>Racing</td>\n",
       "      <td>Nintendo</td>\n",
       "      <td>15.68</td>\n",
       "      <td>12.76</td>\n",
       "      <td>3.79</td>\n",
       "      <td>3.29</td>\n",
       "      <td>35.52</td>\n",
       "      <td>82.0</td>\n",
       "      <td>73.0</td>\n",
       "      <td>8.3</td>\n",
       "      <td>709.0</td>\n",
       "      <td>Nintendo</td>\n",
       "      <td>E</td>\n",
       "    </tr>\n",
       "    <tr>\n",
       "      <th>3</th>\n",
       "      <td>Wii Sports Resort</td>\n",
       "      <td>Wii</td>\n",
       "      <td>2009.0</td>\n",
       "      <td>Sports</td>\n",
       "      <td>Nintendo</td>\n",
       "      <td>15.61</td>\n",
       "      <td>10.93</td>\n",
       "      <td>3.28</td>\n",
       "      <td>2.95</td>\n",
       "      <td>32.77</td>\n",
       "      <td>80.0</td>\n",
       "      <td>73.0</td>\n",
       "      <td>8</td>\n",
       "      <td>192.0</td>\n",
       "      <td>Nintendo</td>\n",
       "      <td>E</td>\n",
       "    </tr>\n",
       "    <tr>\n",
       "      <th>4</th>\n",
       "      <td>Pokemon Red/Pokemon Blue</td>\n",
       "      <td>GB</td>\n",
       "      <td>1996.0</td>\n",
       "      <td>Role-Playing</td>\n",
       "      <td>Nintendo</td>\n",
       "      <td>11.27</td>\n",
       "      <td>8.89</td>\n",
       "      <td>10.22</td>\n",
       "      <td>1.00</td>\n",
       "      <td>31.37</td>\n",
       "      <td>NaN</td>\n",
       "      <td>NaN</td>\n",
       "      <td>NaN</td>\n",
       "      <td>NaN</td>\n",
       "      <td>NaN</td>\n",
       "      <td>NaN</td>\n",
       "    </tr>\n",
       "  </tbody>\n",
       "</table>\n",
       "</div>"
      ],
      "text/plain": [
       "                       Name Platform  Year_of_Release         Genre Publisher  \\\n",
       "0                Wii Sports      Wii           2006.0        Sports  Nintendo   \n",
       "1         Super Mario Bros.      NES           1985.0      Platform  Nintendo   \n",
       "2            Mario Kart Wii      Wii           2008.0        Racing  Nintendo   \n",
       "3         Wii Sports Resort      Wii           2009.0        Sports  Nintendo   \n",
       "4  Pokemon Red/Pokemon Blue       GB           1996.0  Role-Playing  Nintendo   \n",
       "\n",
       "   NA_Sales  EU_Sales  JP_Sales  Other_Sales  Global_Sales  Critic_Score  \\\n",
       "0     41.36     28.96      3.77         8.45         82.53          76.0   \n",
       "1     29.08      3.58      6.81         0.77         40.24           NaN   \n",
       "2     15.68     12.76      3.79         3.29         35.52          82.0   \n",
       "3     15.61     10.93      3.28         2.95         32.77          80.0   \n",
       "4     11.27      8.89     10.22         1.00         31.37           NaN   \n",
       "\n",
       "   Critic_Count User_Score  User_Count Developer Rating  \n",
       "0          51.0          8       322.0  Nintendo      E  \n",
       "1           NaN        NaN         NaN       NaN    NaN  \n",
       "2          73.0        8.3       709.0  Nintendo      E  \n",
       "3          73.0          8       192.0  Nintendo      E  \n",
       "4           NaN        NaN         NaN       NaN    NaN  "
      ]
     },
     "execution_count": 2,
     "metadata": {},
     "output_type": "execute_result"
    }
   ],
   "source": [
    "vgs = pd.read_csv('vgsales1.csv')\n",
    "vgs.head()"
   ]
  },
  {
   "cell_type": "code",
   "execution_count": 3,
   "metadata": {},
   "outputs": [
    {
     "name": "stdout",
     "output_type": "stream",
     "text": [
      "<class 'pandas.core.frame.DataFrame'>\n",
      "RangeIndex: 16719 entries, 0 to 16718\n",
      "Data columns (total 16 columns):\n",
      "Name               16717 non-null object\n",
      "Platform           16719 non-null object\n",
      "Year_of_Release    16450 non-null float64\n",
      "Genre              16717 non-null object\n",
      "Publisher          16665 non-null object\n",
      "NA_Sales           16719 non-null float64\n",
      "EU_Sales           16719 non-null float64\n",
      "JP_Sales           16719 non-null float64\n",
      "Other_Sales        16719 non-null float64\n",
      "Global_Sales       16719 non-null float64\n",
      "Critic_Score       8137 non-null float64\n",
      "Critic_Count       8137 non-null float64\n",
      "User_Score         10015 non-null object\n",
      "User_Count         7590 non-null float64\n",
      "Developer          10096 non-null object\n",
      "Rating             9950 non-null object\n",
      "dtypes: float64(9), object(7)\n",
      "memory usage: 2.0+ MB\n"
     ]
    }
   ],
   "source": [
    "vgs.info()"
   ]
  },
  {
   "cell_type": "markdown",
   "metadata": {},
   "source": [
    "## 3. Data Fetching: Cleaning, and Processing\n",
    "\n",
    "### 3.1 Data Cleaning"
   ]
  },
  {
   "cell_type": "code",
   "execution_count": 4,
   "metadata": {},
   "outputs": [
    {
     "name": "stdout",
     "output_type": "stream",
     "text": [
      "/home/bat/anaconda3/bin/python\r\n"
     ]
    }
   ],
   "source": [
    "! which python"
   ]
  },
  {
   "cell_type": "code",
   "execution_count": 5,
   "metadata": {},
   "outputs": [
    {
     "data": {
      "text/plain": [
       "['Name',\n",
       " 'Year_of_Release',\n",
       " 'Genre',\n",
       " 'Publisher',\n",
       " 'Critic_Score',\n",
       " 'Critic_Count',\n",
       " 'User_Score',\n",
       " 'User_Count',\n",
       " 'Developer',\n",
       " 'Rating']"
      ]
     },
     "execution_count": 5,
     "metadata": {},
     "output_type": "execute_result"
    }
   ],
   "source": [
    "# Finding all the columns containing NA values\n",
    "vgs.columns[vgs.isna().any()].tolist()"
   ]
  },
  {
   "cell_type": "code",
   "execution_count": 6,
   "metadata": {},
   "outputs": [],
   "source": [
    "# replacing NA values in Year of Release column with the current year \n",
    "vgs[\"Year_of_Release\"].fillna(2018, inplace = True) \n",
    "\n",
    "# replacing NA values in Genre column with MISC\n",
    "vgs[\"Genre\"].fillna(\"Misc\", inplace = True)\n",
    "\n",
    "# replacing NA values in Publisher column with MISC\n",
    "vgs[\"Publisher\"].fillna(\"Misc\", inplace = True)"
   ]
  },
  {
   "cell_type": "markdown",
   "metadata": {
    "collapsed": true
   },
   "source": [
    "#### Changing the column datatypes"
   ]
  },
  {
   "cell_type": "code",
   "execution_count": 7,
   "metadata": {},
   "outputs": [],
   "source": [
    "#changing the Year of Release Column datatype to Integer\n",
    "vgs = vgs.astype({ \"Year_of_Release\": int})"
   ]
  },
  {
   "cell_type": "markdown",
   "metadata": {},
   "source": [
    "#### Deleting the unnecesary columns"
   ]
  },
  {
   "cell_type": "code",
   "execution_count": 8,
   "metadata": {},
   "outputs": [],
   "source": [
    "#deleting the column 'Other Sales' from the dataset as we not analyzing other regions apart from Europe, North America and Japan\n",
    "vgs = vgs.drop(['Other_Sales'], axis=1)"
   ]
  },
  {
   "cell_type": "code",
   "execution_count": 9,
   "metadata": {},
   "outputs": [
    {
     "data": {
      "text/html": [
       "<div>\n",
       "<style scoped>\n",
       "    .dataframe tbody tr th:only-of-type {\n",
       "        vertical-align: middle;\n",
       "    }\n",
       "\n",
       "    .dataframe tbody tr th {\n",
       "        vertical-align: top;\n",
       "    }\n",
       "\n",
       "    .dataframe thead th {\n",
       "        text-align: right;\n",
       "    }\n",
       "</style>\n",
       "<table border=\"1\" class=\"dataframe\">\n",
       "  <thead>\n",
       "    <tr style=\"text-align: right;\">\n",
       "      <th></th>\n",
       "      <th>Name</th>\n",
       "      <th>Platform</th>\n",
       "      <th>Year_of_Release</th>\n",
       "      <th>Genre</th>\n",
       "      <th>Publisher</th>\n",
       "      <th>NA_Sales</th>\n",
       "      <th>EU_Sales</th>\n",
       "      <th>JP_Sales</th>\n",
       "      <th>Global_Sales</th>\n",
       "      <th>Critic_Score</th>\n",
       "      <th>Critic_Count</th>\n",
       "      <th>User_Score</th>\n",
       "      <th>User_Count</th>\n",
       "      <th>Developer</th>\n",
       "      <th>Rating</th>\n",
       "    </tr>\n",
       "  </thead>\n",
       "  <tbody>\n",
       "    <tr>\n",
       "      <th>0</th>\n",
       "      <td>Wii Sports</td>\n",
       "      <td>Wii</td>\n",
       "      <td>2006</td>\n",
       "      <td>Sports</td>\n",
       "      <td>Nintendo</td>\n",
       "      <td>41.36</td>\n",
       "      <td>28.96</td>\n",
       "      <td>3.77</td>\n",
       "      <td>82.53</td>\n",
       "      <td>76.0</td>\n",
       "      <td>51.0</td>\n",
       "      <td>8</td>\n",
       "      <td>322.0</td>\n",
       "      <td>Nintendo</td>\n",
       "      <td>E</td>\n",
       "    </tr>\n",
       "    <tr>\n",
       "      <th>1</th>\n",
       "      <td>Super Mario Bros.</td>\n",
       "      <td>NES</td>\n",
       "      <td>1985</td>\n",
       "      <td>Platform</td>\n",
       "      <td>Nintendo</td>\n",
       "      <td>29.08</td>\n",
       "      <td>3.58</td>\n",
       "      <td>6.81</td>\n",
       "      <td>40.24</td>\n",
       "      <td>NaN</td>\n",
       "      <td>NaN</td>\n",
       "      <td>NaN</td>\n",
       "      <td>NaN</td>\n",
       "      <td>NaN</td>\n",
       "      <td>NaN</td>\n",
       "    </tr>\n",
       "    <tr>\n",
       "      <th>2</th>\n",
       "      <td>Mario Kart Wii</td>\n",
       "      <td>Wii</td>\n",
       "      <td>2008</td>\n",
       "      <td>Racing</td>\n",
       "      <td>Nintendo</td>\n",
       "      <td>15.68</td>\n",
       "      <td>12.76</td>\n",
       "      <td>3.79</td>\n",
       "      <td>35.52</td>\n",
       "      <td>82.0</td>\n",
       "      <td>73.0</td>\n",
       "      <td>8.3</td>\n",
       "      <td>709.0</td>\n",
       "      <td>Nintendo</td>\n",
       "      <td>E</td>\n",
       "    </tr>\n",
       "    <tr>\n",
       "      <th>3</th>\n",
       "      <td>Wii Sports Resort</td>\n",
       "      <td>Wii</td>\n",
       "      <td>2009</td>\n",
       "      <td>Sports</td>\n",
       "      <td>Nintendo</td>\n",
       "      <td>15.61</td>\n",
       "      <td>10.93</td>\n",
       "      <td>3.28</td>\n",
       "      <td>32.77</td>\n",
       "      <td>80.0</td>\n",
       "      <td>73.0</td>\n",
       "      <td>8</td>\n",
       "      <td>192.0</td>\n",
       "      <td>Nintendo</td>\n",
       "      <td>E</td>\n",
       "    </tr>\n",
       "    <tr>\n",
       "      <th>4</th>\n",
       "      <td>Pokemon Red/Pokemon Blue</td>\n",
       "      <td>GB</td>\n",
       "      <td>1996</td>\n",
       "      <td>Role-Playing</td>\n",
       "      <td>Nintendo</td>\n",
       "      <td>11.27</td>\n",
       "      <td>8.89</td>\n",
       "      <td>10.22</td>\n",
       "      <td>31.37</td>\n",
       "      <td>NaN</td>\n",
       "      <td>NaN</td>\n",
       "      <td>NaN</td>\n",
       "      <td>NaN</td>\n",
       "      <td>NaN</td>\n",
       "      <td>NaN</td>\n",
       "    </tr>\n",
       "  </tbody>\n",
       "</table>\n",
       "</div>"
      ],
      "text/plain": [
       "                       Name Platform  Year_of_Release         Genre Publisher  \\\n",
       "0                Wii Sports      Wii             2006        Sports  Nintendo   \n",
       "1         Super Mario Bros.      NES             1985      Platform  Nintendo   \n",
       "2            Mario Kart Wii      Wii             2008        Racing  Nintendo   \n",
       "3         Wii Sports Resort      Wii             2009        Sports  Nintendo   \n",
       "4  Pokemon Red/Pokemon Blue       GB             1996  Role-Playing  Nintendo   \n",
       "\n",
       "   NA_Sales  EU_Sales  JP_Sales  Global_Sales  Critic_Score  Critic_Count  \\\n",
       "0     41.36     28.96      3.77         82.53          76.0          51.0   \n",
       "1     29.08      3.58      6.81         40.24           NaN           NaN   \n",
       "2     15.68     12.76      3.79         35.52          82.0          73.0   \n",
       "3     15.61     10.93      3.28         32.77          80.0          73.0   \n",
       "4     11.27      8.89     10.22         31.37           NaN           NaN   \n",
       "\n",
       "  User_Score  User_Count Developer Rating  \n",
       "0          8       322.0  Nintendo      E  \n",
       "1        NaN         NaN       NaN    NaN  \n",
       "2        8.3       709.0  Nintendo      E  \n",
       "3          8       192.0  Nintendo      E  \n",
       "4        NaN         NaN       NaN    NaN  "
      ]
     },
     "execution_count": 9,
     "metadata": {},
     "output_type": "execute_result"
    }
   ],
   "source": [
    "vgs.head()"
   ]
  },
  {
   "cell_type": "markdown",
   "metadata": {},
   "source": [
    "# 4. Visualizing: The Video Game Sales Analysis"
   ]
  },
  {
   "cell_type": "markdown",
   "metadata": {},
   "source": [
    "## Current: Looking At Trends 2005 Onwards "
   ]
  },
  {
   "cell_type": "code",
   "execution_count": 10,
   "metadata": {},
   "outputs": [],
   "source": [
    "vgs_2000 = vgs[ vgs[\"Year_of_Release\"] >= 2005]\n",
    "top_genre_global = vgs_2000.groupby('Genre').agg({'Global_Sales':np.sum}).sort_values(['Global_Sales'], ascending=[False])\n",
    "top_genre_na = vgs_2000.groupby('Genre').agg({'NA_Sales':np.sum}).sort_values(['NA_Sales'], ascending=[False])\n",
    "top_genre_eu = vgs_2000.groupby('Genre').agg({'EU_Sales':np.sum}).sort_values(['EU_Sales'], ascending=[False])\n",
    "top_genre_jp = vgs_2000.groupby('Genre').agg({'JP_Sales':np.sum}).sort_values(['JP_Sales'], ascending=[False])"
   ]
  },
  {
   "cell_type": "code",
   "execution_count": 11,
   "metadata": {},
   "outputs": [
    {
     "data": {
      "text/plain": [
       "DS      2128\n",
       "PS3     1331\n",
       "Wii     1320\n",
       "X360    1262\n",
       "PSP     1194\n",
       "PS2     1099\n",
       "PC       830\n",
       "3DS      520\n",
       "PSV      432\n",
       "PS4      393\n",
       "XB       266\n",
       "XOne     247\n",
       "GBA      191\n",
       "GC       155\n",
       "WiiU     147\n",
       "2600      17\n",
       "PS         7\n",
       "N64        3\n",
       "DC         2\n",
       "GB         1\n",
       "Name: Platform, dtype: int64"
      ]
     },
     "execution_count": 11,
     "metadata": {},
     "output_type": "execute_result"
    }
   ],
   "source": [
    "vgs_2000['Platform'].value_counts()"
   ]
  },
  {
   "cell_type": "markdown",
   "metadata": {},
   "source": [
    "### Sales Comparison by \"Genre\" for Each Region"
   ]
  },
  {
   "cell_type": "code",
   "execution_count": 12,
   "metadata": {},
   "outputs": [
    {
     "data": {
      "text/html": [
       "<script type=\"text/javascript\">window.PlotlyConfig = {MathJaxConfig: 'local'};</script><script type=\"text/javascript\">if (window.MathJax) {MathJax.Hub.Config({SVG: {font: \"STIX-Web\"}});}</script><script>requirejs.config({paths: { 'plotly': ['https://cdn.plot.ly/plotly-latest.min']},});if(!window._Plotly) {require(['plotly'],function(plotly) {window._Plotly=plotly;});}</script>"
      ],
      "text/vnd.plotly.v1+html": [
       "<script type=\"text/javascript\">window.PlotlyConfig = {MathJaxConfig: 'local'};</script><script type=\"text/javascript\">if (window.MathJax) {MathJax.Hub.Config({SVG: {font: \"STIX-Web\"}});}</script><script>requirejs.config({paths: { 'plotly': ['https://cdn.plot.ly/plotly-latest.min']},});if(!window._Plotly) {require(['plotly'],function(plotly) {window._Plotly=plotly;});}</script>"
      ]
     },
     "metadata": {},
     "output_type": "display_data"
    },
    {
     "data": {
      "application/vnd.plotly.v1+json": {
       "config": {
        "linkText": "Export to plot.ly",
        "plotlyServerURL": "https://plot.ly",
        "showLink": false
       },
       "data": [
        {
         "marker": {
          "color": [
           1230.4399999999698,
           875.3299999999969,
           769.9599999999973,
           628.4399999999964,
           554.2099999999932,
           360.37999999999903,
           305.479999999999,
           272.1099999999975,
           212.91000000000034,
           154.12000000000114,
           113.3200000000001,
           80.30000000000001
          ],
          "colorscale": "Viridis"
         },
         "name": "Video game Genre in order of sales Count",
         "type": "bar",
         "uid": "72e1b652-d1f7-4601-9f51-1d09261938e5",
         "x": [
          "Action",
          "Sports",
          "Shooter",
          "Misc",
          "Role-Playing",
          "Racing",
          "Platform",
          "Simulation",
          "Fighting",
          "Adventure",
          "Puzzle",
          "Strategy"
         ],
         "y": [
          1230.4399999999698,
          875.3299999999969,
          769.9599999999973,
          628.4399999999964,
          554.2099999999932,
          360.37999999999903,
          305.479999999999,
          272.1099999999975,
          212.91000000000034,
          154.12000000000114,
          113.3200000000001,
          80.30000000000001
         ]
        }
       ],
       "layout": {
        "title": "Video game Genre in order of sales Count in Global",
        "xaxis": {
         "title": "Genre",
         "titlefont": {
          "color": "#0000FF",
          "family": "Courier New, monospace",
          "size": 18
         }
        },
        "yaxis": {
         "title": "Sales Count",
         "titlefont": {
          "color": "#0000FF",
          "family": "Courier New, monospace",
          "size": 18
         }
        }
       }
      },
      "text/html": [
       "<div id=\"082d17c5-5b76-44f7-b7f6-9af0919c5e84\" style=\"height: 525px; width: 100%;\" class=\"plotly-graph-div\"></div><script type=\"text/javascript\">require([\"plotly\"], function(Plotly) { window.PLOTLYENV=window.PLOTLYENV || {};window.PLOTLYENV.BASE_URL=\"https://plot.ly\";Plotly.newPlot(\"082d17c5-5b76-44f7-b7f6-9af0919c5e84\", [{\"marker\": {\"color\": [1230.4399999999698, 875.3299999999969, 769.9599999999973, 628.4399999999964, 554.2099999999932, 360.37999999999903, 305.479999999999, 272.1099999999975, 212.91000000000034, 154.12000000000114, 113.3200000000001, 80.30000000000001], \"colorscale\": \"Viridis\"}, \"name\": \"Video game Genre in order of sales Count\", \"x\": [\"Action\", \"Sports\", \"Shooter\", \"Misc\", \"Role-Playing\", \"Racing\", \"Platform\", \"Simulation\", \"Fighting\", \"Adventure\", \"Puzzle\", \"Strategy\"], \"y\": [1230.4399999999698, 875.3299999999969, 769.9599999999973, 628.4399999999964, 554.2099999999932, 360.37999999999903, 305.479999999999, 272.1099999999975, 212.91000000000034, 154.12000000000114, 113.3200000000001, 80.30000000000001], \"type\": \"bar\", \"uid\": \"72e1b652-d1f7-4601-9f51-1d09261938e5\"}], {\"title\": \"Video game Genre in order of sales Count in Global\", \"xaxis\": {\"title\": \"Genre\", \"titlefont\": {\"color\": \"#0000FF\", \"family\": \"Courier New, monospace\", \"size\": 18}}, \"yaxis\": {\"title\": \"Sales Count\", \"titlefont\": {\"color\": \"#0000FF\", \"family\": \"Courier New, monospace\", \"size\": 18}}}, {\"showLink\": false, \"linkText\": \"Export to plot.ly\", \"plotlyServerURL\": \"https://plot.ly\"})});</script><script type=\"text/javascript\">window.addEventListener(\"resize\", function(){window._Plotly.Plots.resize(document.getElementById(\"082d17c5-5b76-44f7-b7f6-9af0919c5e84\"));});</script>"
      ],
      "text/vnd.plotly.v1+html": [
       "<div id=\"082d17c5-5b76-44f7-b7f6-9af0919c5e84\" style=\"height: 525px; width: 100%;\" class=\"plotly-graph-div\"></div><script type=\"text/javascript\">require([\"plotly\"], function(Plotly) { window.PLOTLYENV=window.PLOTLYENV || {};window.PLOTLYENV.BASE_URL=\"https://plot.ly\";Plotly.newPlot(\"082d17c5-5b76-44f7-b7f6-9af0919c5e84\", [{\"marker\": {\"color\": [1230.4399999999698, 875.3299999999969, 769.9599999999973, 628.4399999999964, 554.2099999999932, 360.37999999999903, 305.479999999999, 272.1099999999975, 212.91000000000034, 154.12000000000114, 113.3200000000001, 80.30000000000001], \"colorscale\": \"Viridis\"}, \"name\": \"Video game Genre in order of sales Count\", \"x\": [\"Action\", \"Sports\", \"Shooter\", \"Misc\", \"Role-Playing\", \"Racing\", \"Platform\", \"Simulation\", \"Fighting\", \"Adventure\", \"Puzzle\", \"Strategy\"], \"y\": [1230.4399999999698, 875.3299999999969, 769.9599999999973, 628.4399999999964, 554.2099999999932, 360.37999999999903, 305.479999999999, 272.1099999999975, 212.91000000000034, 154.12000000000114, 113.3200000000001, 80.30000000000001], \"type\": \"bar\", \"uid\": \"72e1b652-d1f7-4601-9f51-1d09261938e5\"}], {\"title\": \"Video game Genre in order of sales Count in Global\", \"xaxis\": {\"title\": \"Genre\", \"titlefont\": {\"color\": \"#0000FF\", \"family\": \"Courier New, monospace\", \"size\": 18}}, \"yaxis\": {\"title\": \"Sales Count\", \"titlefont\": {\"color\": \"#0000FF\", \"family\": \"Courier New, monospace\", \"size\": 18}}}, {\"showLink\": false, \"linkText\": \"Export to plot.ly\", \"plotlyServerURL\": \"https://plot.ly\"})});</script><script type=\"text/javascript\">window.addEventListener(\"resize\", function(){window._Plotly.Plots.resize(document.getElementById(\"082d17c5-5b76-44f7-b7f6-9af0919c5e84\"));});</script>"
      ]
     },
     "metadata": {},
     "output_type": "display_data"
    }
   ],
   "source": [
    "from plotly.offline import download_plotlyjs, init_notebook_mode, plot, iplot\n",
    "import plotly.graph_objs as go\n",
    "\n",
    "\n",
    "init_notebook_mode(connected=True)\n",
    "\n",
    "trace = go.Bar(\n",
    "                x = top_genre_global.index,\n",
    "                y =top_genre_global['Global_Sales'].tolist(),\n",
    "                name = 'Video game Genre in order of sales Count',\n",
    "    marker={'color': top_genre_global['Global_Sales'].tolist(),\n",
    "        'colorscale': 'Viridis'\n",
    "\n",
    "           }\n",
    "               )\n",
    "\n",
    "\n",
    "data = [trace]\n",
    "layout = go.Layout(title='Video game Genre in order of sales Count in Global',\n",
    "                  xaxis = dict(\n",
    "                          title = 'Genre',\n",
    "                            titlefont = dict(\n",
    "                                        family = 'Courier New, monospace',\n",
    "                                        size = 18,\n",
    "                                        color = '#0000FF'\n",
    "                                            )\n",
    "                  \n",
    "                              ),\n",
    "                   yaxis = dict(\n",
    "                          title = 'Sales Count',\n",
    "                            titlefont = dict(\n",
    "                                        family = 'Courier New, monospace',\n",
    "                                        size = 18,\n",
    "                                        color = '#0000FF'\n",
    "                                        )\n",
    "                               )                  \n",
    "                  )\n",
    "\n",
    "fig = go.Figure(data=data,layout=layout)\n",
    "config={'showLink': False}\n",
    "iplot(fig,filename='grouped bar',config=config)"
   ]
  },
  {
   "cell_type": "code",
   "execution_count": 13,
   "metadata": {},
   "outputs": [
    {
     "data": {
      "application/vnd.plotly.v1+json": {
       "config": {
        "linkText": "Export to plot.ly",
        "plotlyServerURL": "https://plot.ly",
        "showLink": false
       },
       "data": [
        {
         "domain": {
          "x": [
           0,
           0.3
          ],
          "y": [
           0,
           1
          ]
         },
         "hole": 0.3,
         "hoverinfo": "label+percent+name",
         "labels": [
          "Action",
          "Sports",
          "Shooter",
          "Misc",
          "Role-Playing",
          "Racing",
          "Platform",
          "Simulation",
          "Fighting",
          "Adventure",
          "Puzzle",
          "Strategy"
         ],
         "name": "NA",
         "textinfo": "value",
         "textposition": "inside",
         "type": "pie",
         "uid": "b41ea77f-d0b0-4d2e-a810-04c0133ce83a",
         "values": [
          595.8799999999951,
          445.929999999998,
          408.36999999999955,
          319.5199999999994,
          212.6200000000004,
          166.07000000000025,
          150.8100000000003,
          128.74000000000004,
          107.47999999999993,
          70.31000000000012,
          50.770000000000074,
          31.740000000000006
         ]
        },
        {
         "domain": {
          "x": [
           0.36,
           0.66
          ],
          "y": [
           0,
           1
          ]
         },
         "hole": 0.3,
         "hoverinfo": "label+percent+name",
         "labels": [
          "Action",
          "Sports",
          "Shooter",
          "Misc",
          "Racing",
          "Role-Playing",
          "Platform",
          "Simulation",
          "Fighting",
          "Adventure",
          "Puzzle",
          "Strategy"
         ],
         "name": "EU",
         "textinfo": "value",
         "textposition": "inside",
         "type": "pie",
         "uid": "7a1158ff-fcab-41e5-be2c-40a54f6c03a3",
         "values": [
          380.71999999999105,
          271.06999999999766,
          250.8899999999999,
          169.23000000000016,
          131.07000000000002,
          115.99000000000022,
          87.89000000000027,
          86.1900000000002,
          48.42000000000005,
          40.27000000000005,
          34.04000000000001,
          25.790000000000067
         ]
        },
        {
         "domain": {
          "x": [
           0.7,
           1
          ],
          "y": [
           0,
           1
          ]
         },
         "hole": 0.3,
         "hoverinfo": "label+percent+name",
         "labels": [
          "Role-Playing",
          "Action",
          "Misc",
          "Sports",
          "Platform",
          "Simulation",
          "Fighting",
          "Adventure",
          "Shooter",
          "Puzzle",
          "Racing",
          "Strategy"
         ],
         "name": "JP",
         "textinfo": "value",
         "textposition": "inside",
         "type": "pie",
         "uid": "8186d37d-35bf-4e86-ad06-e3dd11d7fc68",
         "values": [
          181.67000000000058,
          109.6900000000003,
          73.58,
          53.12000000000008,
          36.440000000000005,
          32.49000000000008,
          31.88000000000003,
          30.33000000000019,
          20.750000000000032,
          19.27,
          17.650000000000013,
          15.469999999999978
         ]
        }
       ],
       "layout": {
        "annotations": [
         {
          "font": {
           "size": 20
          },
          "showarrow": false,
          "text": "NA",
          "x": 0.13,
          "y": 0.5
         },
         {
          "font": {
           "size": 20
          },
          "showarrow": false,
          "text": "EU",
          "x": 0.51,
          "y": 0.5
         },
         {
          "font": {
           "size": 20
          },
          "showarrow": false,
          "text": "JP",
          "x": 0.87,
          "y": 0.5
         }
        ],
        "autosize": true,
        "title": "Top Genre in Each Region",
        "titlefont": {
         "color": "#4292f4",
         "size": 30
        }
       }
      },
      "text/html": [
       "<div id=\"46f352c9-e7e4-4ba2-9adb-18c9c6e4faba\" style=\"height: 525px; width: 100%;\" class=\"plotly-graph-div\"></div><script type=\"text/javascript\">require([\"plotly\"], function(Plotly) { window.PLOTLYENV=window.PLOTLYENV || {};window.PLOTLYENV.BASE_URL=\"https://plot.ly\";Plotly.newPlot(\"46f352c9-e7e4-4ba2-9adb-18c9c6e4faba\", [{\"domain\": {\"x\": [0, 0.3], \"y\": [0, 1]}, \"hole\": 0.3, \"hoverinfo\": \"label+percent+name\", \"labels\": [\"Action\", \"Sports\", \"Shooter\", \"Misc\", \"Role-Playing\", \"Racing\", \"Platform\", \"Simulation\", \"Fighting\", \"Adventure\", \"Puzzle\", \"Strategy\"], \"name\": \"NA\", \"textinfo\": \"value\", \"textposition\": \"inside\", \"values\": [595.8799999999951, 445.929999999998, 408.36999999999955, 319.5199999999994, 212.6200000000004, 166.07000000000025, 150.8100000000003, 128.74000000000004, 107.47999999999993, 70.31000000000012, 50.770000000000074, 31.740000000000006], \"type\": \"pie\", \"uid\": \"e33c28b3-aa56-404f-913c-bb27a14128bc\"}, {\"domain\": {\"x\": [0.36, 0.66], \"y\": [0, 1]}, \"hole\": 0.3, \"hoverinfo\": \"label+percent+name\", \"labels\": [\"Action\", \"Sports\", \"Shooter\", \"Misc\", \"Racing\", \"Role-Playing\", \"Platform\", \"Simulation\", \"Fighting\", \"Adventure\", \"Puzzle\", \"Strategy\"], \"name\": \"EU\", \"textinfo\": \"value\", \"textposition\": \"inside\", \"values\": [380.71999999999105, 271.06999999999766, 250.8899999999999, 169.23000000000016, 131.07000000000002, 115.99000000000022, 87.89000000000027, 86.1900000000002, 48.42000000000005, 40.27000000000005, 34.04000000000001, 25.790000000000067], \"type\": \"pie\", \"uid\": \"dc2faf7e-0206-433d-89da-e5fb702c28c1\"}, {\"domain\": {\"x\": [0.7, 1], \"y\": [0, 1]}, \"hole\": 0.3, \"hoverinfo\": \"label+percent+name\", \"labels\": [\"Role-Playing\", \"Action\", \"Misc\", \"Sports\", \"Platform\", \"Simulation\", \"Fighting\", \"Adventure\", \"Shooter\", \"Puzzle\", \"Racing\", \"Strategy\"], \"name\": \"JP\", \"textinfo\": \"value\", \"textposition\": \"inside\", \"values\": [181.67000000000058, 109.6900000000003, 73.58, 53.12000000000008, 36.440000000000005, 32.49000000000008, 31.88000000000003, 30.33000000000019, 20.750000000000032, 19.27, 17.650000000000013, 15.469999999999978], \"type\": \"pie\", \"uid\": \"487b1f1d-0584-4ffd-8468-9f47c7250037\"}], {\"annotations\": [{\"font\": {\"size\": 20}, \"showarrow\": false, \"text\": \"NA\", \"x\": 0.13, \"y\": 0.5}, {\"font\": {\"size\": 20}, \"showarrow\": false, \"text\": \"EU\", \"x\": 0.51, \"y\": 0.5}, {\"font\": {\"size\": 20}, \"showarrow\": false, \"text\": \"JP\", \"x\": 0.87, \"y\": 0.5}], \"autosize\": true, \"title\": \"Top Genre in Each Region\", \"titlefont\": {\"color\": \"#4292f4\", \"size\": 30}}, {\"showLink\": false, \"linkText\": \"Export to plot.ly\", \"plotlyServerURL\": \"https://plot.ly\"})});</script><script type=\"text/javascript\">window.addEventListener(\"resize\", function(){window._Plotly.Plots.resize(document.getElementById(\"46f352c9-e7e4-4ba2-9adb-18c9c6e4faba\"));});</script>"
      ],
      "text/vnd.plotly.v1+html": [
       "<div id=\"46f352c9-e7e4-4ba2-9adb-18c9c6e4faba\" style=\"height: 525px; width: 100%;\" class=\"plotly-graph-div\"></div><script type=\"text/javascript\">require([\"plotly\"], function(Plotly) { window.PLOTLYENV=window.PLOTLYENV || {};window.PLOTLYENV.BASE_URL=\"https://plot.ly\";Plotly.newPlot(\"46f352c9-e7e4-4ba2-9adb-18c9c6e4faba\", [{\"domain\": {\"x\": [0, 0.3], \"y\": [0, 1]}, \"hole\": 0.3, \"hoverinfo\": \"label+percent+name\", \"labels\": [\"Action\", \"Sports\", \"Shooter\", \"Misc\", \"Role-Playing\", \"Racing\", \"Platform\", \"Simulation\", \"Fighting\", \"Adventure\", \"Puzzle\", \"Strategy\"], \"name\": \"NA\", \"textinfo\": \"value\", \"textposition\": \"inside\", \"values\": [595.8799999999951, 445.929999999998, 408.36999999999955, 319.5199999999994, 212.6200000000004, 166.07000000000025, 150.8100000000003, 128.74000000000004, 107.47999999999993, 70.31000000000012, 50.770000000000074, 31.740000000000006], \"type\": \"pie\", \"uid\": \"e33c28b3-aa56-404f-913c-bb27a14128bc\"}, {\"domain\": {\"x\": [0.36, 0.66], \"y\": [0, 1]}, \"hole\": 0.3, \"hoverinfo\": \"label+percent+name\", \"labels\": [\"Action\", \"Sports\", \"Shooter\", \"Misc\", \"Racing\", \"Role-Playing\", \"Platform\", \"Simulation\", \"Fighting\", \"Adventure\", \"Puzzle\", \"Strategy\"], \"name\": \"EU\", \"textinfo\": \"value\", \"textposition\": \"inside\", \"values\": [380.71999999999105, 271.06999999999766, 250.8899999999999, 169.23000000000016, 131.07000000000002, 115.99000000000022, 87.89000000000027, 86.1900000000002, 48.42000000000005, 40.27000000000005, 34.04000000000001, 25.790000000000067], \"type\": \"pie\", \"uid\": \"dc2faf7e-0206-433d-89da-e5fb702c28c1\"}, {\"domain\": {\"x\": [0.7, 1], \"y\": [0, 1]}, \"hole\": 0.3, \"hoverinfo\": \"label+percent+name\", \"labels\": [\"Role-Playing\", \"Action\", \"Misc\", \"Sports\", \"Platform\", \"Simulation\", \"Fighting\", \"Adventure\", \"Shooter\", \"Puzzle\", \"Racing\", \"Strategy\"], \"name\": \"JP\", \"textinfo\": \"value\", \"textposition\": \"inside\", \"values\": [181.67000000000058, 109.6900000000003, 73.58, 53.12000000000008, 36.440000000000005, 32.49000000000008, 31.88000000000003, 30.33000000000019, 20.750000000000032, 19.27, 17.650000000000013, 15.469999999999978], \"type\": \"pie\", \"uid\": \"487b1f1d-0584-4ffd-8468-9f47c7250037\"}], {\"annotations\": [{\"font\": {\"size\": 20}, \"showarrow\": false, \"text\": \"NA\", \"x\": 0.13, \"y\": 0.5}, {\"font\": {\"size\": 20}, \"showarrow\": false, \"text\": \"EU\", \"x\": 0.51, \"y\": 0.5}, {\"font\": {\"size\": 20}, \"showarrow\": false, \"text\": \"JP\", \"x\": 0.87, \"y\": 0.5}], \"autosize\": true, \"title\": \"Top Genre in Each Region\", \"titlefont\": {\"color\": \"#4292f4\", \"size\": 30}}, {\"showLink\": false, \"linkText\": \"Export to plot.ly\", \"plotlyServerURL\": \"https://plot.ly\"})});</script><script type=\"text/javascript\">window.addEventListener(\"resize\", function(){window._Plotly.Plots.resize(document.getElementById(\"46f352c9-e7e4-4ba2-9adb-18c9c6e4faba\"));});</script>"
      ]
     },
     "metadata": {},
     "output_type": "display_data"
    }
   ],
   "source": [
    "fig = {\n",
    "  \"data\": [\n",
    "    {\n",
    "      \"values\": top_genre_na['NA_Sales'].tolist(),\n",
    "      \"labels\": top_genre_na.index,\n",
    "      \"domain\": {\"x\": [0, .30],'y': [0, 1]},\n",
    "      \"name\": \"NA\",\n",
    "      \"hoverinfo\":\"label+percent+name\",\n",
    "      \"textinfo\":'value', \n",
    "      \"textposition\":\"inside\",\n",
    "      \"hole\": .3,\n",
    "      \"type\": \"pie\"\n",
    "    },\n",
    "    {\n",
    "      \"values\": top_genre_eu['EU_Sales'].tolist(),\n",
    "      \"labels\": top_genre_eu.index,\n",
    "      \"textposition\":\"inside\",\n",
    "      \"domain\": {\"x\": [.36, 0.66],'y': [0, 1]},\n",
    "      \"name\": \"EU\",\n",
    "      \"hoverinfo\":\"label+percent+name\",\n",
    "        \"textinfo\":'value',\n",
    "      \"hole\": .3,\n",
    "      \"type\": \"pie\"\n",
    "    },\n",
    "    {\n",
    "      \"values\": top_genre_jp['JP_Sales'].tolist(),\n",
    "      \"labels\": top_genre_jp.index,\n",
    "      \"textposition\":\"inside\",\n",
    "      \"domain\": {\"x\": [.70, 1],'y': [0, 1]},\n",
    "      \"name\": \"JP\",\n",
    "      \"hoverinfo\":\"label+percent+name\",\n",
    "        \"textinfo\":'value',\n",
    "      \"hole\": .3,\n",
    "      \"type\": \"pie\"\n",
    "    }\n",
    "  \n",
    "  \n",
    "  \n",
    "  ],\n",
    "  \"layout\": {\n",
    "        \"title\":\"Top Genre in Each Region\",'titlefont':{'size' : 30,'color' : '#4292f4'},\n",
    "        \"annotations\": [\n",
    "            {\n",
    "                \"font\": {\n",
    "                    \"size\": 20\n",
    "                },\n",
    "                \"showarrow\": False,\n",
    "                \"text\": \"NA\",\n",
    "                \"x\": 0.13,\n",
    "                \"y\": 0.5\n",
    "            },\n",
    "            {\n",
    "                \"font\": {\n",
    "                    \"size\": 20\n",
    "                },\n",
    "                \"showarrow\": False,\n",
    "                \"text\": \"EU\",\n",
    "                \"x\": 0.51,\n",
    "                \"y\": 0.5\n",
    "            },\n",
    "            {\n",
    "                \"font\": {\n",
    "                    \"size\": 20\n",
    "                },\n",
    "                \"showarrow\": False,\n",
    "                \"text\": \"JP\",\n",
    "                \"x\": 0.87,\n",
    "                \"y\": 0.5\n",
    "            }\n",
    "        ]\n",
    "    ,\"autosize\": True}\n",
    "}\n",
    "\n",
    " \n",
    "\n",
    "config={'showLink': False}\n",
    "iplot(fig, filename='donut',config=config)\n",
    "\n",
    "#iplot(fig,filename='donut group',config=config, image_width=1000, image_height=2000)"
   ]
  },
  {
   "cell_type": "markdown",
   "metadata": {},
   "source": [
    "## Top Titles"
   ]
  },
  {
   "cell_type": "code",
   "execution_count": 14,
   "metadata": {},
   "outputs": [],
   "source": [
    "labels = vgs_2000['Name'].value_counts()[:10].index\n",
    "values = vgs_2000['Name'].value_counts()[:10].values"
   ]
  },
  {
   "cell_type": "code",
   "execution_count": 15,
   "metadata": {},
   "outputs": [],
   "source": [
    "title_na = vgs.sort_values(['NA_Sales'], ascending=[False])[['Name','NA_Sales']][:10]\n",
    "title_eu = vgs.sort_values(['EU_Sales'], ascending=[False])[['Name','EU_Sales']][:10]\n",
    "title_jp = vgs.sort_values(['JP_Sales'], ascending=[False])[['Name','JP_Sales']][:10]"
   ]
  },
  {
   "cell_type": "code",
   "execution_count": 16,
   "metadata": {},
   "outputs": [
    {
     "data": {
      "application/vnd.plotly.v1+json": {
       "config": {
        "linkText": "Export to plot.ly",
        "plotlyServerURL": "https://plot.ly",
        "showLink": false
       },
       "data": [
        {
         "marker": {
          "color": "rgb(255,100,50)",
          "line": {
           "color": "rgb(8,48,107)",
           "width": 1.5
          }
         },
         "name": "NA",
         "type": "bar",
         "uid": "727fad35-c1be-4498-8112-4b973c095e1b",
         "x": [
          "Wii Sports",
          "Super Mario Bros.",
          "Duck Hunt",
          "Tetris",
          "Mario Kart Wii",
          "Wii Sports Resort",
          "Kinect Adventures!",
          "New Super Mario Bros. Wii",
          "Wii Play",
          "Super Mario World"
         ],
         "xaxis": "x",
         "y": [
          41.36,
          29.08,
          26.93,
          23.2,
          15.68,
          15.61,
          15,
          14.44,
          13.96,
          12.78
         ],
         "yaxis": "y"
        },
        {
         "marker": {
          "color": "rgb(100,150,200)",
          "line": {
           "color": "rgb(8,48,107)",
           "width": 1.5
          }
         },
         "name": "EU",
         "type": "bar",
         "uid": "28628845-942c-4409-af91-5730e036222e",
         "x": [
          "Wii Sports",
          "Mario Kart Wii",
          "Nintendogs",
          "Wii Sports Resort",
          "Brain Age: Train Your Brain in Minutes a Day",
          "Wii Play",
          "New Super Mario Bros.",
          "Grand Theft Auto V",
          "Pokemon Red/Pokemon Blue",
          "Wii Fit Plus"
         ],
         "xaxis": "x2",
         "y": [
          28.96,
          12.76,
          10.95,
          10.93,
          9.2,
          9.18,
          9.14,
          9.09,
          8.89,
          8.49
         ],
         "yaxis": "y2"
        },
        {
         "marker": {
          "color": "rgb(50,200,50)",
          "line": {
           "color": "rgb(8,48,107)",
           "width": 1.5
          }
         },
         "name": "JP",
         "type": "bar",
         "uid": "7317e6b6-f156-476c-b9ed-e1fd95da9aac",
         "x": [
          "Pokemon Red/Pokemon Blue",
          "Pokemon Gold/Pokemon Silver",
          "Super Mario Bros.",
          "New Super Mario Bros.",
          "Pokemon Diamond/Pokemon Pearl",
          "Pokemon Black/Pokemon White",
          "Pokemon Ruby/Pokemon Sapphire",
          "Animal Crossing: Wild World",
          "Brain Age 2: More Training in Minutes a Day",
          "Monster Hunter Freedom 3"
         ],
         "xaxis": "x3",
         "y": [
          10.22,
          7.2,
          6.81,
          6.5,
          6.04,
          5.65,
          5.38,
          5.33,
          5.32,
          4.87
         ],
         "yaxis": "y3"
        }
       ],
       "layout": {
        "annotations": [
         {
          "font": {
           "size": 16
          },
          "showarrow": false,
          "text": "North America",
          "x": 0.5,
          "xanchor": "center",
          "xref": "paper",
          "y": 1,
          "yanchor": "bottom",
          "yref": "paper"
         },
         {
          "font": {
           "size": 16
          },
          "showarrow": false,
          "text": "Europe",
          "x": 0.5,
          "xanchor": "center",
          "xref": "paper",
          "y": 0.6111111111111112,
          "yanchor": "bottom",
          "yref": "paper"
         },
         {
          "font": {
           "size": 16
          },
          "showarrow": false,
          "text": "Japan",
          "x": 0.5,
          "xanchor": "center",
          "xref": "paper",
          "y": 0.22222222222222224,
          "yanchor": "bottom",
          "yref": "paper"
         }
        ],
        "height": 1200,
        "margin": {
         "b": 200,
         "l": 100,
         "pad": 10,
         "r": 100,
         "t": 100
        },
        "title": "TOP 10 TITLE SELL",
        "titlefont": {
         "color": "#4292f4",
         "size": 30
        },
        "width": 900,
        "xaxis": {
         "anchor": "y",
         "domain": [
          0,
          1
         ]
        },
        "xaxis2": {
         "anchor": "y2",
         "domain": [
          0,
          1
         ]
        },
        "xaxis3": {
         "anchor": "y3",
         "domain": [
          0,
          1
         ],
         "title": "Title of the Game",
         "titlefont": {
          "color": "#4292f4",
          "size": 25
         }
        },
        "yaxis": {
         "anchor": "x",
         "domain": [
          0.7777777777777778,
          1
         ]
        },
        "yaxis2": {
         "anchor": "x2",
         "domain": [
          0.3888888888888889,
          0.6111111111111112
         ],
         "title": "Total Sales",
         "titlefont": {
          "color": "#4292f4",
          "size": 25
         }
        },
        "yaxis3": {
         "anchor": "x3",
         "domain": [
          0,
          0.22222222222222224
         ]
        }
       }
      },
      "text/html": [
       "<div id=\"0b880fa1-437c-44f6-b64b-1100f0559a21\" style=\"height: 1200px; width: 900px;\" class=\"plotly-graph-div\"></div><script type=\"text/javascript\">require([\"plotly\"], function(Plotly) { window.PLOTLYENV=window.PLOTLYENV || {};window.PLOTLYENV.BASE_URL=\"https://plot.ly\";Plotly.newPlot(\"0b880fa1-437c-44f6-b64b-1100f0559a21\", [{\"marker\": {\"color\": \"rgb(255,100,50)\", \"line\": {\"color\": \"rgb(8,48,107)\", \"width\": 1.5}}, \"name\": \"NA\", \"x\": [\"Wii Sports\", \"Super Mario Bros.\", \"Duck Hunt\", \"Tetris\", \"Mario Kart Wii\", \"Wii Sports Resort\", \"Kinect Adventures!\", \"New Super Mario Bros. Wii\", \"Wii Play\", \"Super Mario World\"], \"y\": [41.36, 29.08, 26.93, 23.2, 15.68, 15.61, 15.0, 14.44, 13.96, 12.78], \"type\": \"bar\", \"uid\": \"727fad35-c1be-4498-8112-4b973c095e1b\", \"xaxis\": \"x\", \"yaxis\": \"y\"}, {\"marker\": {\"color\": \"rgb(100,150,200)\", \"line\": {\"color\": \"rgb(8,48,107)\", \"width\": 1.5}}, \"name\": \"EU\", \"x\": [\"Wii Sports\", \"Mario Kart Wii\", \"Nintendogs\", \"Wii Sports Resort\", \"Brain Age: Train Your Brain in Minutes a Day\", \"Wii Play\", \"New Super Mario Bros.\", \"Grand Theft Auto V\", \"Pokemon Red/Pokemon Blue\", \"Wii Fit Plus\"], \"y\": [28.96, 12.76, 10.95, 10.93, 9.2, 9.18, 9.14, 9.09, 8.89, 8.49], \"type\": \"bar\", \"uid\": \"28628845-942c-4409-af91-5730e036222e\", \"xaxis\": \"x2\", \"yaxis\": \"y2\"}, {\"marker\": {\"color\": \"rgb(50,200,50)\", \"line\": {\"color\": \"rgb(8,48,107)\", \"width\": 1.5}}, \"name\": \"JP\", \"x\": [\"Pokemon Red/Pokemon Blue\", \"Pokemon Gold/Pokemon Silver\", \"Super Mario Bros.\", \"New Super Mario Bros.\", \"Pokemon Diamond/Pokemon Pearl\", \"Pokemon Black/Pokemon White\", \"Pokemon Ruby/Pokemon Sapphire\", \"Animal Crossing: Wild World\", \"Brain Age 2: More Training in Minutes a Day\", \"Monster Hunter Freedom 3\"], \"y\": [10.22, 7.2, 6.81, 6.5, 6.04, 5.65, 5.38, 5.33, 5.32, 4.87], \"type\": \"bar\", \"uid\": \"7317e6b6-f156-476c-b9ed-e1fd95da9aac\", \"xaxis\": \"x3\", \"yaxis\": \"y3\"}], {\"annotations\": [{\"font\": {\"size\": 16}, \"showarrow\": false, \"text\": \"North America\", \"x\": 0.5, \"xanchor\": \"center\", \"xref\": \"paper\", \"y\": 1.0, \"yanchor\": \"bottom\", \"yref\": \"paper\"}, {\"font\": {\"size\": 16}, \"showarrow\": false, \"text\": \"Europe\", \"x\": 0.5, \"xanchor\": \"center\", \"xref\": \"paper\", \"y\": 0.6111111111111112, \"yanchor\": \"bottom\", \"yref\": \"paper\"}, {\"font\": {\"size\": 16}, \"showarrow\": false, \"text\": \"Japan\", \"x\": 0.5, \"xanchor\": \"center\", \"xref\": \"paper\", \"y\": 0.22222222222222224, \"yanchor\": \"bottom\", \"yref\": \"paper\"}], \"xaxis\": {\"anchor\": \"y\", \"domain\": [0.0, 1.0]}, \"yaxis\": {\"anchor\": \"x\", \"domain\": [0.7777777777777778, 1.0]}, \"xaxis2\": {\"anchor\": \"y2\", \"domain\": [0.0, 1.0]}, \"yaxis2\": {\"anchor\": \"x2\", \"domain\": [0.3888888888888889, 0.6111111111111112], \"titlefont\": {\"size\": 25, \"color\": \"#4292f4\"}, \"title\": \"Total Sales\"}, \"xaxis3\": {\"anchor\": \"y3\", \"domain\": [0.0, 1.0], \"titlefont\": {\"size\": 25, \"color\": \"#4292f4\"}, \"title\": \"Title of the Game\"}, \"yaxis3\": {\"anchor\": \"x3\", \"domain\": [0.0, 0.22222222222222224]}, \"titlefont\": {\"size\": 30, \"color\": \"#4292f4\"}, \"margin\": {\"b\": 200, \"l\": 100, \"pad\": 10, \"r\": 100, \"t\": 100}, \"title\": \"TOP 10 TITLE SELL\", \"height\": 1200, \"width\": 900}, {\"showLink\": false, \"linkText\": \"Export to plot.ly\", \"plotlyServerURL\": \"https://plot.ly\"})});</script>"
      ],
      "text/vnd.plotly.v1+html": [
       "<div id=\"0b880fa1-437c-44f6-b64b-1100f0559a21\" style=\"height: 1200px; width: 900px;\" class=\"plotly-graph-div\"></div><script type=\"text/javascript\">require([\"plotly\"], function(Plotly) { window.PLOTLYENV=window.PLOTLYENV || {};window.PLOTLYENV.BASE_URL=\"https://plot.ly\";Plotly.newPlot(\"0b880fa1-437c-44f6-b64b-1100f0559a21\", [{\"marker\": {\"color\": \"rgb(255,100,50)\", \"line\": {\"color\": \"rgb(8,48,107)\", \"width\": 1.5}}, \"name\": \"NA\", \"x\": [\"Wii Sports\", \"Super Mario Bros.\", \"Duck Hunt\", \"Tetris\", \"Mario Kart Wii\", \"Wii Sports Resort\", \"Kinect Adventures!\", \"New Super Mario Bros. Wii\", \"Wii Play\", \"Super Mario World\"], \"y\": [41.36, 29.08, 26.93, 23.2, 15.68, 15.61, 15.0, 14.44, 13.96, 12.78], \"type\": \"bar\", \"uid\": \"727fad35-c1be-4498-8112-4b973c095e1b\", \"xaxis\": \"x\", \"yaxis\": \"y\"}, {\"marker\": {\"color\": \"rgb(100,150,200)\", \"line\": {\"color\": \"rgb(8,48,107)\", \"width\": 1.5}}, \"name\": \"EU\", \"x\": [\"Wii Sports\", \"Mario Kart Wii\", \"Nintendogs\", \"Wii Sports Resort\", \"Brain Age: Train Your Brain in Minutes a Day\", \"Wii Play\", \"New Super Mario Bros.\", \"Grand Theft Auto V\", \"Pokemon Red/Pokemon Blue\", \"Wii Fit Plus\"], \"y\": [28.96, 12.76, 10.95, 10.93, 9.2, 9.18, 9.14, 9.09, 8.89, 8.49], \"type\": \"bar\", \"uid\": \"28628845-942c-4409-af91-5730e036222e\", \"xaxis\": \"x2\", \"yaxis\": \"y2\"}, {\"marker\": {\"color\": \"rgb(50,200,50)\", \"line\": {\"color\": \"rgb(8,48,107)\", \"width\": 1.5}}, \"name\": \"JP\", \"x\": [\"Pokemon Red/Pokemon Blue\", \"Pokemon Gold/Pokemon Silver\", \"Super Mario Bros.\", \"New Super Mario Bros.\", \"Pokemon Diamond/Pokemon Pearl\", \"Pokemon Black/Pokemon White\", \"Pokemon Ruby/Pokemon Sapphire\", \"Animal Crossing: Wild World\", \"Brain Age 2: More Training in Minutes a Day\", \"Monster Hunter Freedom 3\"], \"y\": [10.22, 7.2, 6.81, 6.5, 6.04, 5.65, 5.38, 5.33, 5.32, 4.87], \"type\": \"bar\", \"uid\": \"7317e6b6-f156-476c-b9ed-e1fd95da9aac\", \"xaxis\": \"x3\", \"yaxis\": \"y3\"}], {\"annotations\": [{\"font\": {\"size\": 16}, \"showarrow\": false, \"text\": \"North America\", \"x\": 0.5, \"xanchor\": \"center\", \"xref\": \"paper\", \"y\": 1.0, \"yanchor\": \"bottom\", \"yref\": \"paper\"}, {\"font\": {\"size\": 16}, \"showarrow\": false, \"text\": \"Europe\", \"x\": 0.5, \"xanchor\": \"center\", \"xref\": \"paper\", \"y\": 0.6111111111111112, \"yanchor\": \"bottom\", \"yref\": \"paper\"}, {\"font\": {\"size\": 16}, \"showarrow\": false, \"text\": \"Japan\", \"x\": 0.5, \"xanchor\": \"center\", \"xref\": \"paper\", \"y\": 0.22222222222222224, \"yanchor\": \"bottom\", \"yref\": \"paper\"}], \"xaxis\": {\"anchor\": \"y\", \"domain\": [0.0, 1.0]}, \"yaxis\": {\"anchor\": \"x\", \"domain\": [0.7777777777777778, 1.0]}, \"xaxis2\": {\"anchor\": \"y2\", \"domain\": [0.0, 1.0]}, \"yaxis2\": {\"anchor\": \"x2\", \"domain\": [0.3888888888888889, 0.6111111111111112], \"titlefont\": {\"size\": 25, \"color\": \"#4292f4\"}, \"title\": \"Total Sales\"}, \"xaxis3\": {\"anchor\": \"y3\", \"domain\": [0.0, 1.0], \"titlefont\": {\"size\": 25, \"color\": \"#4292f4\"}, \"title\": \"Title of the Game\"}, \"yaxis3\": {\"anchor\": \"x3\", \"domain\": [0.0, 0.22222222222222224]}, \"titlefont\": {\"size\": 30, \"color\": \"#4292f4\"}, \"margin\": {\"b\": 200, \"l\": 100, \"pad\": 10, \"r\": 100, \"t\": 100}, \"title\": \"TOP 10 TITLE SELL\", \"height\": 1200, \"width\": 900}, {\"showLink\": false, \"linkText\": \"Export to plot.ly\", \"plotlyServerURL\": \"https://plot.ly\"})});</script>"
      ]
     },
     "metadata": {},
     "output_type": "display_data"
    }
   ],
   "source": [
    "from plotly import tools\n",
    "\n",
    "trace1 = go.Bar(\n",
    "                x = title_na['Name'].tolist(),\n",
    "                y = title_na['NA_Sales'].tolist(),\n",
    "                name = 'NA',\n",
    "    marker=dict(\n",
    "        color='rgb(255,100,50)',\n",
    "        line=dict(\n",
    "            color='rgb(8,48,107)',\n",
    "            width=1.5,\n",
    "        ))\n",
    "               )\n",
    "\n",
    "trace2 = go.Bar(\n",
    "                x = title_eu['Name'].tolist(),\n",
    "                y = title_eu['EU_Sales'].tolist(),\n",
    "                name = 'EU',\n",
    "    marker=dict(\n",
    "        color='rgb(100,150,200)',\n",
    "        line=dict(\n",
    "            color='rgb(8,48,107)',\n",
    "            width=1.5,\n",
    "        ))\n",
    "               )\n",
    "trace3 = go.Bar(\n",
    "                x = title_jp['Name'].tolist(),\n",
    "                y = title_jp['JP_Sales'].tolist(),\n",
    "                name = 'JP',\n",
    "    marker=dict(\n",
    "        color='rgb(50,200,50)',\n",
    "        line=dict(\n",
    "            color='rgb(8,48,107)',\n",
    "            width=1.5,\n",
    "        ))\n",
    "               )\n",
    "data = [trace1,trace2,trace3]\n",
    "fig = tools.make_subplots(rows=3, cols=1, subplot_titles=('North America', 'Europe',\n",
    "                                                          'Japan'), print_grid=False,shared_yaxes=True)\n",
    "\n",
    "fig.append_trace(trace1, 1, 1)\n",
    "fig.append_trace(trace2, 2, 1)\n",
    "fig.append_trace(trace3, 3, 1)\n",
    "fig['layout']['xaxis3'].update(title='Title of the Game',titlefont={'size' : 25,'color' : '#4292f4'})\n",
    "fig['layout']['yaxis2'].update(title='Total Sales',titlefont={'size' : 25,'color' : '#4292f4'})\n",
    "fig['layout'].update(title=\"TOP 10 TITLE SELL\",titlefont={'size' : 30,'color' : '#4292f4'}, height=1200, width=900,margin=go.layout.Margin(\n",
    "        l=100,\n",
    "        r=100,\n",
    "        b=200,\n",
    "        t=100,\n",
    "        pad=10\n",
    "    ))\n",
    "                     \n",
    "config={'showLink': False}\n",
    "iplot(fig,filename='grouped bar',config=config, image_width=800, image_height=700)"
   ]
  },
  {
   "cell_type": "markdown",
   "metadata": {},
   "source": [
    "## Top Publisher"
   ]
  },
  {
   "cell_type": "code",
   "execution_count": 17,
   "metadata": {},
   "outputs": [],
   "source": [
    "top_publisher_na = vgs_2000.groupby('Publisher').agg({'NA_Sales':np.sum}).sort_values(['NA_Sales'], ascending=[False]).head(10)\n",
    "top_publisher_eu = vgs_2000.groupby('Publisher').agg({'EU_Sales':np.sum}).sort_values(['EU_Sales'], ascending=[False]).head(10)\n",
    "top_publisher_jp = vgs_2000.groupby('Publisher').agg({'JP_Sales':np.sum}).sort_values(['JP_Sales'], ascending=[False]).head(10)"
   ]
  },
  {
   "cell_type": "code",
   "execution_count": 18,
   "metadata": {},
   "outputs": [
    {
     "data": {
      "application/vnd.plotly.v1+json": {
       "config": {
        "linkText": "Export to plot.ly",
        "plotlyServerURL": "https://plot.ly",
        "showLink": false
       },
       "data": [
        {
         "marker": {
          "color": "rgb(50,170,120)",
          "line": {
           "color": "rgb(8,48,107)",
           "width": 1.5
          }
         },
         "name": "NA",
         "type": "bar",
         "uid": "d3bce1b5-7a87-442d-9dc7-7b8a49b297ee",
         "x": [
          "Nintendo",
          "Electronic Arts",
          "Activision",
          "Ubisoft",
          "Take-Two Interactive",
          "Sony Computer Entertainment",
          "THQ",
          "Microsoft Game Studios",
          "Warner Bros. Interactive Entertainment",
          "Disney Interactive Studios"
         ],
         "xaxis": "x",
         "y": [
          384.1299999999996,
          380.2699999999993,
          331.24999999999955,
          214.14000000000016,
          174.31000000000034,
          121.95999999999994,
          121.83999999999997,
          121.48999999999998,
          81.12999999999994,
          65.77000000000001
         ],
         "yaxis": "y"
        },
        {
         "marker": {
          "color": "rgb(10,50,100)",
          "line": {
           "color": "rgb(8,48,107)",
           "width": 1.5
          }
         },
         "name": "EU",
         "type": "bar",
         "uid": "c4dec225-b894-41c4-9f21-0b7df7ddef6b",
         "x": [
          "Nintendo",
          "Electronic Arts",
          "Activision",
          "Ubisoft",
          "Sony Computer Entertainment",
          "Take-Two Interactive",
          "Sega",
          "Microsoft Game Studios",
          "Warner Bros. Interactive Entertainment",
          "THQ"
         ],
         "xaxis": "x2",
         "y": [
          278.77999999999935,
          263.8099999999985,
          163.1500000000004,
          140.77000000000004,
          96.10000000000007,
          94.68000000000013,
          63.05000000000002,
          57.51999999999999,
          50.84,
          49.870000000000076
         ],
         "yaxis": "y2"
        },
        {
         "marker": {
          "color": "rgb(170,20,100)",
          "line": {
           "color": "rgb(8,48,107)",
           "width": 1.5
          }
         },
         "name": "JP",
         "type": "bar",
         "uid": "e7960e46-9c53-4ca5-bcc9-6e720b7fd43c",
         "x": [
          "Nintendo",
          "Namco Bandai Games",
          "Square Enix",
          "Capcom",
          "Konami Digital Entertainment",
          "Sega",
          "Tecmo Koei",
          "Sony Computer Entertainment",
          "Level 5",
          "Electronic Arts"
         ],
         "xaxis": "x3",
         "y": [
          227.7000000000003,
          73.78999999999996,
          44.14,
          41.53000000000001,
          40.14000000000008,
          27.109999999999992,
          18.550000000000043,
          15.879999999999976,
          11.729999999999999,
          6.969999999999976
         ],
         "yaxis": "y3"
        }
       ],
       "layout": {
        "annotations": [
         {
          "font": {
           "size": 16
          },
          "showarrow": false,
          "text": "North America",
          "x": 0.5,
          "xanchor": "center",
          "xref": "paper",
          "y": 1,
          "yanchor": "bottom",
          "yref": "paper"
         },
         {
          "font": {
           "size": 16
          },
          "showarrow": false,
          "text": "Europe",
          "x": 0.5,
          "xanchor": "center",
          "xref": "paper",
          "y": 0.6111111111111112,
          "yanchor": "bottom",
          "yref": "paper"
         },
         {
          "font": {
           "size": 16
          },
          "showarrow": false,
          "text": "Japan",
          "x": 0.5,
          "xanchor": "center",
          "xref": "paper",
          "y": 0.22222222222222224,
          "yanchor": "bottom",
          "yref": "paper"
         }
        ],
        "height": 1200,
        "margin": {
         "b": 200,
         "l": 100,
         "pad": 10,
         "r": 100,
         "t": 100
        },
        "title": "TOP 10 Pubishers based on Sell",
        "titlefont": {
         "color": "#4292f4",
         "size": 30
        },
        "width": 900,
        "xaxis": {
         "anchor": "y",
         "domain": [
          0,
          1
         ]
        },
        "xaxis2": {
         "anchor": "y2",
         "domain": [
          0,
          1
         ]
        },
        "xaxis3": {
         "anchor": "y3",
         "domain": [
          0,
          1
         ],
         "title": "Publisher",
         "titlefont": {
          "color": "#4292f4",
          "size": 25
         }
        },
        "yaxis": {
         "anchor": "x",
         "domain": [
          0.7777777777777778,
          1
         ]
        },
        "yaxis2": {
         "anchor": "x2",
         "domain": [
          0.3888888888888889,
          0.6111111111111112
         ],
         "title": "Total Sales",
         "titlefont": {
          "color": "#4292f4",
          "size": 25
         }
        },
        "yaxis3": {
         "anchor": "x3",
         "domain": [
          0,
          0.22222222222222224
         ]
        }
       }
      },
      "text/html": [
       "<div id=\"aa5bc5c5-b8e4-4765-b6a5-bfcbabdaddfd\" style=\"height: 1200px; width: 900px;\" class=\"plotly-graph-div\"></div><script type=\"text/javascript\">require([\"plotly\"], function(Plotly) { window.PLOTLYENV=window.PLOTLYENV || {};window.PLOTLYENV.BASE_URL=\"https://plot.ly\";Plotly.newPlot(\"aa5bc5c5-b8e4-4765-b6a5-bfcbabdaddfd\", [{\"marker\": {\"color\": \"rgb(50,170,120)\", \"line\": {\"color\": \"rgb(8,48,107)\", \"width\": 1.5}}, \"name\": \"NA\", \"x\": [\"Nintendo\", \"Electronic Arts\", \"Activision\", \"Ubisoft\", \"Take-Two Interactive\", \"Sony Computer Entertainment\", \"THQ\", \"Microsoft Game Studios\", \"Warner Bros. Interactive Entertainment\", \"Disney Interactive Studios\"], \"y\": [384.1299999999996, 380.2699999999993, 331.24999999999955, 214.14000000000016, 174.31000000000034, 121.95999999999994, 121.83999999999997, 121.48999999999998, 81.12999999999994, 65.77000000000001], \"type\": \"bar\", \"uid\": \"d3bce1b5-7a87-442d-9dc7-7b8a49b297ee\", \"xaxis\": \"x\", \"yaxis\": \"y\"}, {\"marker\": {\"color\": \"rgb(10,50,100)\", \"line\": {\"color\": \"rgb(8,48,107)\", \"width\": 1.5}}, \"name\": \"EU\", \"x\": [\"Nintendo\", \"Electronic Arts\", \"Activision\", \"Ubisoft\", \"Sony Computer Entertainment\", \"Take-Two Interactive\", \"Sega\", \"Microsoft Game Studios\", \"Warner Bros. Interactive Entertainment\", \"THQ\"], \"y\": [278.77999999999935, 263.8099999999985, 163.1500000000004, 140.77000000000004, 96.10000000000007, 94.68000000000013, 63.05000000000002, 57.51999999999999, 50.84, 49.870000000000076], \"type\": \"bar\", \"uid\": \"c4dec225-b894-41c4-9f21-0b7df7ddef6b\", \"xaxis\": \"x2\", \"yaxis\": \"y2\"}, {\"marker\": {\"color\": \"rgb(170,20,100)\", \"line\": {\"color\": \"rgb(8,48,107)\", \"width\": 1.5}}, \"name\": \"JP\", \"x\": [\"Nintendo\", \"Namco Bandai Games\", \"Square Enix\", \"Capcom\", \"Konami Digital Entertainment\", \"Sega\", \"Tecmo Koei\", \"Sony Computer Entertainment\", \"Level 5\", \"Electronic Arts\"], \"y\": [227.7000000000003, 73.78999999999996, 44.14, 41.53000000000001, 40.14000000000008, 27.109999999999992, 18.550000000000043, 15.879999999999976, 11.729999999999999, 6.969999999999976], \"type\": \"bar\", \"uid\": \"e7960e46-9c53-4ca5-bcc9-6e720b7fd43c\", \"xaxis\": \"x3\", \"yaxis\": \"y3\"}], {\"annotations\": [{\"font\": {\"size\": 16}, \"showarrow\": false, \"text\": \"North America\", \"x\": 0.5, \"xanchor\": \"center\", \"xref\": \"paper\", \"y\": 1.0, \"yanchor\": \"bottom\", \"yref\": \"paper\"}, {\"font\": {\"size\": 16}, \"showarrow\": false, \"text\": \"Europe\", \"x\": 0.5, \"xanchor\": \"center\", \"xref\": \"paper\", \"y\": 0.6111111111111112, \"yanchor\": \"bottom\", \"yref\": \"paper\"}, {\"font\": {\"size\": 16}, \"showarrow\": false, \"text\": \"Japan\", \"x\": 0.5, \"xanchor\": \"center\", \"xref\": \"paper\", \"y\": 0.22222222222222224, \"yanchor\": \"bottom\", \"yref\": \"paper\"}], \"xaxis\": {\"anchor\": \"y\", \"domain\": [0.0, 1.0]}, \"yaxis\": {\"anchor\": \"x\", \"domain\": [0.7777777777777778, 1.0]}, \"xaxis2\": {\"anchor\": \"y2\", \"domain\": [0.0, 1.0]}, \"yaxis2\": {\"anchor\": \"x2\", \"domain\": [0.3888888888888889, 0.6111111111111112], \"titlefont\": {\"size\": 25, \"color\": \"#4292f4\"}, \"title\": \"Total Sales\"}, \"xaxis3\": {\"anchor\": \"y3\", \"domain\": [0.0, 1.0], \"titlefont\": {\"size\": 25, \"color\": \"#4292f4\"}, \"title\": \"Publisher\"}, \"yaxis3\": {\"anchor\": \"x3\", \"domain\": [0.0, 0.22222222222222224]}, \"titlefont\": {\"size\": 30, \"color\": \"#4292f4\"}, \"margin\": {\"b\": 200, \"l\": 100, \"pad\": 10, \"r\": 100, \"t\": 100}, \"title\": \"TOP 10 Pubishers based on Sell\", \"height\": 1200, \"width\": 900}, {\"showLink\": false, \"linkText\": \"Export to plot.ly\", \"plotlyServerURL\": \"https://plot.ly\"})});</script>"
      ],
      "text/vnd.plotly.v1+html": [
       "<div id=\"aa5bc5c5-b8e4-4765-b6a5-bfcbabdaddfd\" style=\"height: 1200px; width: 900px;\" class=\"plotly-graph-div\"></div><script type=\"text/javascript\">require([\"plotly\"], function(Plotly) { window.PLOTLYENV=window.PLOTLYENV || {};window.PLOTLYENV.BASE_URL=\"https://plot.ly\";Plotly.newPlot(\"aa5bc5c5-b8e4-4765-b6a5-bfcbabdaddfd\", [{\"marker\": {\"color\": \"rgb(50,170,120)\", \"line\": {\"color\": \"rgb(8,48,107)\", \"width\": 1.5}}, \"name\": \"NA\", \"x\": [\"Nintendo\", \"Electronic Arts\", \"Activision\", \"Ubisoft\", \"Take-Two Interactive\", \"Sony Computer Entertainment\", \"THQ\", \"Microsoft Game Studios\", \"Warner Bros. Interactive Entertainment\", \"Disney Interactive Studios\"], \"y\": [384.1299999999996, 380.2699999999993, 331.24999999999955, 214.14000000000016, 174.31000000000034, 121.95999999999994, 121.83999999999997, 121.48999999999998, 81.12999999999994, 65.77000000000001], \"type\": \"bar\", \"uid\": \"d3bce1b5-7a87-442d-9dc7-7b8a49b297ee\", \"xaxis\": \"x\", \"yaxis\": \"y\"}, {\"marker\": {\"color\": \"rgb(10,50,100)\", \"line\": {\"color\": \"rgb(8,48,107)\", \"width\": 1.5}}, \"name\": \"EU\", \"x\": [\"Nintendo\", \"Electronic Arts\", \"Activision\", \"Ubisoft\", \"Sony Computer Entertainment\", \"Take-Two Interactive\", \"Sega\", \"Microsoft Game Studios\", \"Warner Bros. Interactive Entertainment\", \"THQ\"], \"y\": [278.77999999999935, 263.8099999999985, 163.1500000000004, 140.77000000000004, 96.10000000000007, 94.68000000000013, 63.05000000000002, 57.51999999999999, 50.84, 49.870000000000076], \"type\": \"bar\", \"uid\": \"c4dec225-b894-41c4-9f21-0b7df7ddef6b\", \"xaxis\": \"x2\", \"yaxis\": \"y2\"}, {\"marker\": {\"color\": \"rgb(170,20,100)\", \"line\": {\"color\": \"rgb(8,48,107)\", \"width\": 1.5}}, \"name\": \"JP\", \"x\": [\"Nintendo\", \"Namco Bandai Games\", \"Square Enix\", \"Capcom\", \"Konami Digital Entertainment\", \"Sega\", \"Tecmo Koei\", \"Sony Computer Entertainment\", \"Level 5\", \"Electronic Arts\"], \"y\": [227.7000000000003, 73.78999999999996, 44.14, 41.53000000000001, 40.14000000000008, 27.109999999999992, 18.550000000000043, 15.879999999999976, 11.729999999999999, 6.969999999999976], \"type\": \"bar\", \"uid\": \"e7960e46-9c53-4ca5-bcc9-6e720b7fd43c\", \"xaxis\": \"x3\", \"yaxis\": \"y3\"}], {\"annotations\": [{\"font\": {\"size\": 16}, \"showarrow\": false, \"text\": \"North America\", \"x\": 0.5, \"xanchor\": \"center\", \"xref\": \"paper\", \"y\": 1.0, \"yanchor\": \"bottom\", \"yref\": \"paper\"}, {\"font\": {\"size\": 16}, \"showarrow\": false, \"text\": \"Europe\", \"x\": 0.5, \"xanchor\": \"center\", \"xref\": \"paper\", \"y\": 0.6111111111111112, \"yanchor\": \"bottom\", \"yref\": \"paper\"}, {\"font\": {\"size\": 16}, \"showarrow\": false, \"text\": \"Japan\", \"x\": 0.5, \"xanchor\": \"center\", \"xref\": \"paper\", \"y\": 0.22222222222222224, \"yanchor\": \"bottom\", \"yref\": \"paper\"}], \"xaxis\": {\"anchor\": \"y\", \"domain\": [0.0, 1.0]}, \"yaxis\": {\"anchor\": \"x\", \"domain\": [0.7777777777777778, 1.0]}, \"xaxis2\": {\"anchor\": \"y2\", \"domain\": [0.0, 1.0]}, \"yaxis2\": {\"anchor\": \"x2\", \"domain\": [0.3888888888888889, 0.6111111111111112], \"titlefont\": {\"size\": 25, \"color\": \"#4292f4\"}, \"title\": \"Total Sales\"}, \"xaxis3\": {\"anchor\": \"y3\", \"domain\": [0.0, 1.0], \"titlefont\": {\"size\": 25, \"color\": \"#4292f4\"}, \"title\": \"Publisher\"}, \"yaxis3\": {\"anchor\": \"x3\", \"domain\": [0.0, 0.22222222222222224]}, \"titlefont\": {\"size\": 30, \"color\": \"#4292f4\"}, \"margin\": {\"b\": 200, \"l\": 100, \"pad\": 10, \"r\": 100, \"t\": 100}, \"title\": \"TOP 10 Pubishers based on Sell\", \"height\": 1200, \"width\": 900}, {\"showLink\": false, \"linkText\": \"Export to plot.ly\", \"plotlyServerURL\": \"https://plot.ly\"})});</script>"
      ]
     },
     "metadata": {},
     "output_type": "display_data"
    }
   ],
   "source": [
    "from plotly import tools\n",
    "\n",
    "trace1 = go.Bar(\n",
    "                x = top_publisher_na.index,\n",
    "                y = top_publisher_na['NA_Sales'].tolist(),\n",
    "                name = 'NA',\n",
    "    marker=dict(\n",
    "        color='rgb(50,170,120)',\n",
    "        line=dict(\n",
    "            color='rgb(8,48,107)',\n",
    "            width=1.5,\n",
    "        ))\n",
    "               )\n",
    "\n",
    "trace2 = go.Bar(\n",
    "                x = top_publisher_eu.index,\n",
    "                y = top_publisher_eu['EU_Sales'].tolist(),\n",
    "                name = 'EU',\n",
    "    marker=dict(\n",
    "        color='rgb(10,50,100)',\n",
    "        line=dict(\n",
    "            color='rgb(8,48,107)',\n",
    "            width=1.5,\n",
    "        ))\n",
    "               )\n",
    "trace3 = go.Bar(\n",
    "                x = top_publisher_jp.index,\n",
    "                y = top_publisher_jp['JP_Sales'].tolist(),\n",
    "                name = 'JP',\n",
    "    marker=dict(\n",
    "        color='rgb(170,20,100)',\n",
    "        line=dict(\n",
    "            color='rgb(8,48,107)',\n",
    "            width=1.5,\n",
    "        ))\n",
    "               )\n",
    "data = [trace1,trace2,trace3]\n",
    "fig = tools.make_subplots(rows=3, cols=1, subplot_titles=('North America', 'Europe',\n",
    "                                                          'Japan'), print_grid=False,shared_yaxes=True)\n",
    "\n",
    "fig.append_trace(trace1, 1, 1)\n",
    "fig.append_trace(trace2, 2, 1)\n",
    "fig.append_trace(trace3, 3, 1)\n",
    "fig['layout']['xaxis3'].update(title='Publisher',titlefont={'size' : 25,'color' : '#4292f4'})\n",
    "fig['layout']['yaxis2'].update(title='Total Sales',titlefont={'size' : 25,'color' : '#4292f4'})\n",
    "fig['layout'].update(title=\"TOP 10 Pubishers based on Sell\",titlefont={'size' : 30,'color' : '#4292f4'}, height=1200, width=900,margin=go.layout.Margin(\n",
    "        l=100,\n",
    "        r=100,\n",
    "        b=200,\n",
    "        t=100,\n",
    "        pad=10\n",
    "    ))\n",
    "                     \n",
    "config={'showLink': False}\n",
    "iplot(fig,filename='grouped bar',config=config, image_width=800, image_height=700)"
   ]
  },
  {
   "cell_type": "markdown",
   "metadata": {},
   "source": [
    "## Top Develpoers"
   ]
  },
  {
   "cell_type": "code",
   "execution_count": 19,
   "metadata": {},
   "outputs": [],
   "source": [
    "top_developer_na = vgs_2000.groupby('Developer').agg({'NA_Sales':np.sum}).sort_values(['NA_Sales'], ascending=[False]).head(10)\n",
    "top_developer_eu = vgs_2000.groupby('Developer').agg({'EU_Sales':np.sum}).sort_values(['EU_Sales'], ascending=[False]).head(10)\n",
    "top_developer_jp = vgs_2000.groupby('Developer').agg({'JP_Sales':np.sum}).sort_values(['JP_Sales'], ascending=[False]).head(10)"
   ]
  },
  {
   "cell_type": "code",
   "execution_count": 20,
   "metadata": {},
   "outputs": [
    {
     "data": {
      "application/vnd.plotly.v1+json": {
       "config": {
        "linkText": "Export to plot.ly",
        "plotlyServerURL": "https://plot.ly",
        "showLink": false
       },
       "data": [
        {
         "marker": {
          "color": "rgb(25,90,100)",
          "line": {
           "color": "rgb(8,48,107)",
           "width": 1.5
          }
         },
         "name": "NA",
         "type": "bar",
         "uid": "3842d1d1-4b06-4f78-bfdb-492e17197a20",
         "x": [
          "Nintendo",
          "Ubisoft",
          "EA Tiburon",
          "EA Sports",
          "EA Canada",
          "Treyarch",
          "Ubisoft Montreal",
          "Visual Concepts",
          "Infinity Ward",
          "Traveller's Tales"
         ],
         "xaxis": "x",
         "y": [
          208.53000000000003,
          70.05999999999993,
          63.89999999999997,
          62.460000000000036,
          48.45,
          47.75999999999999,
          46.77999999999999,
          43.83000000000001,
          42.010000000000005,
          38.10000000000001
         ],
         "yaxis": "y"
        },
        {
         "marker": {
          "color": "rgb(10,138,170)",
          "line": {
           "color": "rgb(8,48,107)",
           "width": 1.5
          }
         },
         "name": "EU",
         "type": "bar",
         "uid": "b6c1d88d-a603-4f94-9608-4d253ed40a34",
         "x": [
          "Nintendo",
          "EA Sports",
          "EA Canada",
          "Ubisoft Montreal",
          "Ubisoft",
          "Rockstar North",
          "Treyarch",
          "Infinity Ward",
          "Konami",
          "Traveller's Tales"
         ],
         "xaxis": "x2",
         "y": [
          159.88,
          45.10000000000004,
          40.44000000000005,
          39.18,
          37.58000000000002,
          31.720000000000002,
          29.120000000000005,
          25.089999999999996,
          23.050000000000004,
          21.960000000000015
         ],
         "yaxis": "y2"
        },
        {
         "marker": {
          "color": "rgb(150,50,100)",
          "line": {
           "color": "rgb(8,48,107)",
           "width": 1.5
          }
         },
         "name": "JP",
         "type": "bar",
         "uid": "9420f82d-687a-451d-a320-3b39372e524f",
         "x": [
          "Nintendo",
          "Capcom",
          "Square Enix",
          "Konami",
          "Level 5",
          "Omega Force",
          "TOSE",
          "HAL Labs",
          "Bandai Namco Games",
          "Nd Cube"
         ],
         "xaxis": "x3",
         "y": [
          80.18,
          20.58,
          17.009999999999998,
          10.019999999999994,
          9.93,
          9.699999999999996,
          5.83,
          5.3100000000000005,
          4.28,
          4.09
         ],
         "yaxis": "y3"
        }
       ],
       "layout": {
        "annotations": [
         {
          "font": {
           "size": 16
          },
          "showarrow": false,
          "text": "North America",
          "x": 0.5,
          "xanchor": "center",
          "xref": "paper",
          "y": 1,
          "yanchor": "bottom",
          "yref": "paper"
         },
         {
          "font": {
           "size": 16
          },
          "showarrow": false,
          "text": "Europe",
          "x": 0.5,
          "xanchor": "center",
          "xref": "paper",
          "y": 0.6111111111111112,
          "yanchor": "bottom",
          "yref": "paper"
         },
         {
          "font": {
           "size": 16
          },
          "showarrow": false,
          "text": "Japan",
          "x": 0.5,
          "xanchor": "center",
          "xref": "paper",
          "y": 0.22222222222222224,
          "yanchor": "bottom",
          "yref": "paper"
         }
        ],
        "height": 1200,
        "margin": {
         "b": 200,
         "l": 100,
         "pad": 10,
         "r": 100,
         "t": 100
        },
        "title": "TOP 10 Developers based on Sell",
        "titlefont": {
         "color": "#4292f4",
         "size": 30
        },
        "width": 900,
        "xaxis": {
         "anchor": "y",
         "domain": [
          0,
          1
         ]
        },
        "xaxis2": {
         "anchor": "y2",
         "domain": [
          0,
          1
         ]
        },
        "xaxis3": {
         "anchor": "y3",
         "domain": [
          0,
          1
         ],
         "title": "Developer",
         "titlefont": {
          "color": "#4292f4",
          "size": 25
         }
        },
        "yaxis": {
         "anchor": "x",
         "domain": [
          0.7777777777777778,
          1
         ]
        },
        "yaxis2": {
         "anchor": "x2",
         "domain": [
          0.3888888888888889,
          0.6111111111111112
         ],
         "title": "Total Sales",
         "titlefont": {
          "color": "#4292f4",
          "size": 25
         }
        },
        "yaxis3": {
         "anchor": "x3",
         "domain": [
          0,
          0.22222222222222224
         ]
        }
       }
      },
      "text/html": [
       "<div id=\"5929bd99-1475-4c51-936c-9754ea54d759\" style=\"height: 1200px; width: 900px;\" class=\"plotly-graph-div\"></div><script type=\"text/javascript\">require([\"plotly\"], function(Plotly) { window.PLOTLYENV=window.PLOTLYENV || {};window.PLOTLYENV.BASE_URL=\"https://plot.ly\";Plotly.newPlot(\"5929bd99-1475-4c51-936c-9754ea54d759\", [{\"marker\": {\"color\": \"rgb(25,90,100)\", \"line\": {\"color\": \"rgb(8,48,107)\", \"width\": 1.5}}, \"name\": \"NA\", \"x\": [\"Nintendo\", \"Ubisoft\", \"EA Tiburon\", \"EA Sports\", \"EA Canada\", \"Treyarch\", \"Ubisoft Montreal\", \"Visual Concepts\", \"Infinity Ward\", \"Traveller's Tales\"], \"y\": [208.53000000000003, 70.05999999999993, 63.89999999999997, 62.460000000000036, 48.45, 47.75999999999999, 46.77999999999999, 43.83000000000001, 42.010000000000005, 38.10000000000001], \"type\": \"bar\", \"uid\": \"3842d1d1-4b06-4f78-bfdb-492e17197a20\", \"xaxis\": \"x\", \"yaxis\": \"y\"}, {\"marker\": {\"color\": \"rgb(10,138,170)\", \"line\": {\"color\": \"rgb(8,48,107)\", \"width\": 1.5}}, \"name\": \"EU\", \"x\": [\"Nintendo\", \"EA Sports\", \"EA Canada\", \"Ubisoft Montreal\", \"Ubisoft\", \"Rockstar North\", \"Treyarch\", \"Infinity Ward\", \"Konami\", \"Traveller's Tales\"], \"y\": [159.88, 45.10000000000004, 40.44000000000005, 39.18, 37.58000000000002, 31.720000000000002, 29.120000000000005, 25.089999999999996, 23.050000000000004, 21.960000000000015], \"type\": \"bar\", \"uid\": \"b6c1d88d-a603-4f94-9608-4d253ed40a34\", \"xaxis\": \"x2\", \"yaxis\": \"y2\"}, {\"marker\": {\"color\": \"rgb(150,50,100)\", \"line\": {\"color\": \"rgb(8,48,107)\", \"width\": 1.5}}, \"name\": \"JP\", \"x\": [\"Nintendo\", \"Capcom\", \"Square Enix\", \"Konami\", \"Level 5\", \"Omega Force\", \"TOSE\", \"HAL Labs\", \"Bandai Namco Games\", \"Nd Cube\"], \"y\": [80.18, 20.58, 17.009999999999998, 10.019999999999994, 9.93, 9.699999999999996, 5.83, 5.3100000000000005, 4.28, 4.09], \"type\": \"bar\", \"uid\": \"9420f82d-687a-451d-a320-3b39372e524f\", \"xaxis\": \"x3\", \"yaxis\": \"y3\"}], {\"annotations\": [{\"font\": {\"size\": 16}, \"showarrow\": false, \"text\": \"North America\", \"x\": 0.5, \"xanchor\": \"center\", \"xref\": \"paper\", \"y\": 1.0, \"yanchor\": \"bottom\", \"yref\": \"paper\"}, {\"font\": {\"size\": 16}, \"showarrow\": false, \"text\": \"Europe\", \"x\": 0.5, \"xanchor\": \"center\", \"xref\": \"paper\", \"y\": 0.6111111111111112, \"yanchor\": \"bottom\", \"yref\": \"paper\"}, {\"font\": {\"size\": 16}, \"showarrow\": false, \"text\": \"Japan\", \"x\": 0.5, \"xanchor\": \"center\", \"xref\": \"paper\", \"y\": 0.22222222222222224, \"yanchor\": \"bottom\", \"yref\": \"paper\"}], \"xaxis\": {\"anchor\": \"y\", \"domain\": [0.0, 1.0]}, \"yaxis\": {\"anchor\": \"x\", \"domain\": [0.7777777777777778, 1.0]}, \"xaxis2\": {\"anchor\": \"y2\", \"domain\": [0.0, 1.0]}, \"yaxis2\": {\"anchor\": \"x2\", \"domain\": [0.3888888888888889, 0.6111111111111112], \"titlefont\": {\"size\": 25, \"color\": \"#4292f4\"}, \"title\": \"Total Sales\"}, \"xaxis3\": {\"anchor\": \"y3\", \"domain\": [0.0, 1.0], \"titlefont\": {\"size\": 25, \"color\": \"#4292f4\"}, \"title\": \"Developer\"}, \"yaxis3\": {\"anchor\": \"x3\", \"domain\": [0.0, 0.22222222222222224]}, \"titlefont\": {\"size\": 30, \"color\": \"#4292f4\"}, \"margin\": {\"b\": 200, \"l\": 100, \"pad\": 10, \"r\": 100, \"t\": 100}, \"title\": \"TOP 10 Developers based on Sell\", \"height\": 1200, \"width\": 900}, {\"showLink\": false, \"linkText\": \"Export to plot.ly\", \"plotlyServerURL\": \"https://plot.ly\"})});</script>"
      ],
      "text/vnd.plotly.v1+html": [
       "<div id=\"5929bd99-1475-4c51-936c-9754ea54d759\" style=\"height: 1200px; width: 900px;\" class=\"plotly-graph-div\"></div><script type=\"text/javascript\">require([\"plotly\"], function(Plotly) { window.PLOTLYENV=window.PLOTLYENV || {};window.PLOTLYENV.BASE_URL=\"https://plot.ly\";Plotly.newPlot(\"5929bd99-1475-4c51-936c-9754ea54d759\", [{\"marker\": {\"color\": \"rgb(25,90,100)\", \"line\": {\"color\": \"rgb(8,48,107)\", \"width\": 1.5}}, \"name\": \"NA\", \"x\": [\"Nintendo\", \"Ubisoft\", \"EA Tiburon\", \"EA Sports\", \"EA Canada\", \"Treyarch\", \"Ubisoft Montreal\", \"Visual Concepts\", \"Infinity Ward\", \"Traveller's Tales\"], \"y\": [208.53000000000003, 70.05999999999993, 63.89999999999997, 62.460000000000036, 48.45, 47.75999999999999, 46.77999999999999, 43.83000000000001, 42.010000000000005, 38.10000000000001], \"type\": \"bar\", \"uid\": \"3842d1d1-4b06-4f78-bfdb-492e17197a20\", \"xaxis\": \"x\", \"yaxis\": \"y\"}, {\"marker\": {\"color\": \"rgb(10,138,170)\", \"line\": {\"color\": \"rgb(8,48,107)\", \"width\": 1.5}}, \"name\": \"EU\", \"x\": [\"Nintendo\", \"EA Sports\", \"EA Canada\", \"Ubisoft Montreal\", \"Ubisoft\", \"Rockstar North\", \"Treyarch\", \"Infinity Ward\", \"Konami\", \"Traveller's Tales\"], \"y\": [159.88, 45.10000000000004, 40.44000000000005, 39.18, 37.58000000000002, 31.720000000000002, 29.120000000000005, 25.089999999999996, 23.050000000000004, 21.960000000000015], \"type\": \"bar\", \"uid\": \"b6c1d88d-a603-4f94-9608-4d253ed40a34\", \"xaxis\": \"x2\", \"yaxis\": \"y2\"}, {\"marker\": {\"color\": \"rgb(150,50,100)\", \"line\": {\"color\": \"rgb(8,48,107)\", \"width\": 1.5}}, \"name\": \"JP\", \"x\": [\"Nintendo\", \"Capcom\", \"Square Enix\", \"Konami\", \"Level 5\", \"Omega Force\", \"TOSE\", \"HAL Labs\", \"Bandai Namco Games\", \"Nd Cube\"], \"y\": [80.18, 20.58, 17.009999999999998, 10.019999999999994, 9.93, 9.699999999999996, 5.83, 5.3100000000000005, 4.28, 4.09], \"type\": \"bar\", \"uid\": \"9420f82d-687a-451d-a320-3b39372e524f\", \"xaxis\": \"x3\", \"yaxis\": \"y3\"}], {\"annotations\": [{\"font\": {\"size\": 16}, \"showarrow\": false, \"text\": \"North America\", \"x\": 0.5, \"xanchor\": \"center\", \"xref\": \"paper\", \"y\": 1.0, \"yanchor\": \"bottom\", \"yref\": \"paper\"}, {\"font\": {\"size\": 16}, \"showarrow\": false, \"text\": \"Europe\", \"x\": 0.5, \"xanchor\": \"center\", \"xref\": \"paper\", \"y\": 0.6111111111111112, \"yanchor\": \"bottom\", \"yref\": \"paper\"}, {\"font\": {\"size\": 16}, \"showarrow\": false, \"text\": \"Japan\", \"x\": 0.5, \"xanchor\": \"center\", \"xref\": \"paper\", \"y\": 0.22222222222222224, \"yanchor\": \"bottom\", \"yref\": \"paper\"}], \"xaxis\": {\"anchor\": \"y\", \"domain\": [0.0, 1.0]}, \"yaxis\": {\"anchor\": \"x\", \"domain\": [0.7777777777777778, 1.0]}, \"xaxis2\": {\"anchor\": \"y2\", \"domain\": [0.0, 1.0]}, \"yaxis2\": {\"anchor\": \"x2\", \"domain\": [0.3888888888888889, 0.6111111111111112], \"titlefont\": {\"size\": 25, \"color\": \"#4292f4\"}, \"title\": \"Total Sales\"}, \"xaxis3\": {\"anchor\": \"y3\", \"domain\": [0.0, 1.0], \"titlefont\": {\"size\": 25, \"color\": \"#4292f4\"}, \"title\": \"Developer\"}, \"yaxis3\": {\"anchor\": \"x3\", \"domain\": [0.0, 0.22222222222222224]}, \"titlefont\": {\"size\": 30, \"color\": \"#4292f4\"}, \"margin\": {\"b\": 200, \"l\": 100, \"pad\": 10, \"r\": 100, \"t\": 100}, \"title\": \"TOP 10 Developers based on Sell\", \"height\": 1200, \"width\": 900}, {\"showLink\": false, \"linkText\": \"Export to plot.ly\", \"plotlyServerURL\": \"https://plot.ly\"})});</script>"
      ]
     },
     "metadata": {},
     "output_type": "display_data"
    }
   ],
   "source": [
    "from plotly import tools\n",
    "\n",
    "trace1 = go.Bar(\n",
    "                x = top_developer_na.index,\n",
    "                y = top_developer_na['NA_Sales'].tolist(),\n",
    "                name = 'NA',\n",
    "    marker=dict(\n",
    "        color='rgb(25,90,100)',\n",
    "        line=dict(\n",
    "            color='rgb(8,48,107)',\n",
    "            width=1.5,\n",
    "        ))\n",
    "               )\n",
    "\n",
    "trace2 = go.Bar(\n",
    "                x = top_developer_eu.index,\n",
    "                y = top_developer_eu['EU_Sales'].tolist(),\n",
    "                name = 'EU',\n",
    "    marker=dict(\n",
    "        color='rgb(10,138,170)',\n",
    "        line=dict(\n",
    "            color='rgb(8,48,107)',\n",
    "            width=1.5,\n",
    "        ))\n",
    "               )\n",
    "trace3 = go.Bar(\n",
    "                x = top_developer_jp.index,\n",
    "                y = top_developer_jp['JP_Sales'].tolist(),\n",
    "                name = 'JP',\n",
    "    marker=dict(\n",
    "        color='rgb(150,50,100)',\n",
    "        line=dict(\n",
    "            color='rgb(8,48,107)',\n",
    "            width=1.5,\n",
    "        ))\n",
    "               )\n",
    "data = [trace1,trace2,trace3]\n",
    "fig = tools.make_subplots(rows=3, cols=1, subplot_titles=('North America', 'Europe',\n",
    "                                                          'Japan'), print_grid=False,shared_yaxes=True)\n",
    "\n",
    "fig.append_trace(trace1, 1, 1)\n",
    "fig.append_trace(trace2, 2, 1)\n",
    "fig.append_trace(trace3, 3, 1)\n",
    "fig['layout']['xaxis3'].update(title='Developer',titlefont={'size' : 25,'color' : '#4292f4'})\n",
    "fig['layout']['yaxis2'].update(title='Total Sales',titlefont={'size' : 25,'color' : '#4292f4'})\n",
    "fig['layout'].update(title=\"TOP 10 Developers based on Sell\",titlefont={'size' : 30,'color' : '#4292f4'}, height=1200, width=900,margin=go.layout.Margin(\n",
    "        l=100,\n",
    "        r=100,\n",
    "        b=200,\n",
    "        t=100,\n",
    "        pad=10\n",
    "    ))\n",
    "                     \n",
    "config={'showLink': False}\n",
    "iplot(fig,filename='grouped bar',config=config, image_width=800, image_height=700)"
   ]
  },
  {
   "cell_type": "markdown",
   "metadata": {},
   "source": [
    "## Top Platform"
   ]
  },
  {
   "cell_type": "code",
   "execution_count": 21,
   "metadata": {},
   "outputs": [],
   "source": [
    "platform_na = vgs_2000.groupby('Platform').agg({'NA_Sales':np.sum}).sort_values(['NA_Sales'], ascending=[False])\n",
    "platform_eu = vgs_2000.groupby('Platform').agg({'EU_Sales':np.sum}).sort_values(['EU_Sales'], ascending=[False])\n",
    "platform_jp = vgs_2000.groupby('Platform').agg({'JP_Sales':np.sum}).sort_values(['JP_Sales'], ascending=[False])"
   ]
  },
  {
   "cell_type": "code",
   "execution_count": 22,
   "metadata": {},
   "outputs": [
    {
     "data": {
      "application/vnd.plotly.v1+json": {
       "config": {
        "linkText": "Export to plot.ly",
        "plotlyServerURL": "https://plot.ly",
        "showLink": false
       },
       "data": [
        {
         "domain": {
          "x": [
           0,
           0.3
          ],
          "y": [
           0,
           1
          ]
         },
         "hole": 0.3,
         "hoverinfo": "label+percent+name",
         "labels": [
          "X360",
          "Wii",
          "PS3",
          "DS",
          "PS2",
          "PS4",
          "PSP",
          "XOne",
          "3DS",
          "XB",
          "PC",
          "WiiU",
          "GBA",
          "GC",
          "PSV",
          "2600",
          "PS",
          "GB",
          "N64",
          "DC"
         ],
         "name": "NA",
         "textinfo": "value",
         "textposition": "inside",
         "type": "pie",
         "uid": "aaec5b8e-d7bb-47c9-bd78-3ea3a0664a0a",
         "values": [
          602.4699999999993,
          496.8999999999991,
          393.48999999999995,
          374.33999999999793,
          211.4099999999999,
          108.7400000000001,
          106.91999999999979,
          93.12000000000005,
          83.48999999999992,
          47.480000000000004,
          47.03000000000001,
          38.10000000000003,
          30.270000000000017,
          29.49000000000001,
          12.579999999999973,
          9.82,
          1.8000000000000003,
          0.68,
          0.11,
          0
         ]
        },
        {
         "domain": {
          "x": [
           0.36,
           0.66
          ],
          "y": [
           0,
           1
          ]
         },
         "hole": 0.3,
         "hoverinfo": "label+percent+name",
         "labels": [
          "PS3",
          "X360",
          "Wii",
          "DS",
          "PS4",
          "PC",
          "PS2",
          "PSP",
          "3DS",
          "XOne",
          "WiiU",
          "XB",
          "PSV",
          "GBA",
          "GC",
          "PS",
          "2600",
          "GB",
          "N64",
          "DC"
         ],
         "name": "EU",
         "textinfo": "value",
         "textposition": "inside",
         "type": "pie",
         "uid": "e714c4c1-e65c-4db3-88c0-0557b742dc3b",
         "values": [
          330.2899999999974,
          270.75999999999675,
          262.2099999999984,
          184.95999999999955,
          141.09000000000032,
          105.08000000000028,
          93.80000000000045,
          64.98000000000008,
          61.48000000000004,
          51.59,
          25.13000000000003,
          16.19999999999998,
          13.119999999999978,
          10.849999999999973,
          7.8599999999999905,
          1.2200000000000002,
          0.6100000000000002,
          0.31,
          0.03,
          0
         ]
        },
        {
         "domain": {
          "x": [
           0.7,
           1
          ],
          "y": [
           0,
           1
          ]
         },
         "hole": 0.3,
         "hoverinfo": "label+percent+name",
         "labels": [
          "DS",
          "3DS",
          "PS3",
          "PSP",
          "Wii",
          "PS2",
          "PSV",
          "PS4",
          "WiiU",
          "X360",
          "GBA",
          "GC",
          "N64",
          "XOne",
          "DC",
          "PS",
          "XB",
          "PC",
          "GB",
          "2600"
         ],
         "name": "JP",
         "textinfo": "value",
         "textposition": "inside",
         "type": "pie",
         "uid": "4c52d049-8e92-48dd-8301-c73efe91713b",
         "values": [
          171.9000000000005,
          100.66999999999999,
          80.1900000000001,
          74.75000000000031,
          69.33000000000001,
          52.64000000000015,
          21.93000000000008,
          15.99999999999997,
          13.009999999999993,
          12.429999999999923,
          5.550000000000002,
          3.0199999999999996,
          0.45999999999999996,
          0.3400000000000001,
          0.06,
          0.04,
          0.02,
          0,
          0,
          0
         ]
        }
       ],
       "layout": {
        "annotations": [
         {
          "font": {
           "size": 20
          },
          "showarrow": false,
          "text": "NA",
          "x": 0.13,
          "y": 0.5
         },
         {
          "font": {
           "size": 20
          },
          "showarrow": false,
          "text": "EU",
          "x": 0.51,
          "y": 0.5
         },
         {
          "font": {
           "size": 20
          },
          "showarrow": false,
          "text": "JP",
          "x": 0.87,
          "y": 0.5
         }
        ],
        "autosize": true,
        "title": "Top Platform in Each Region",
        "titlefont": {
         "color": "#4292f4",
         "size": 30
        }
       }
      },
      "text/html": [
       "<div id=\"254cc72f-8284-4b8e-b86b-a466753c9a10\" style=\"height: 525px; width: 100%;\" class=\"plotly-graph-div\"></div><script type=\"text/javascript\">require([\"plotly\"], function(Plotly) { window.PLOTLYENV=window.PLOTLYENV || {};window.PLOTLYENV.BASE_URL=\"https://plot.ly\";Plotly.newPlot(\"254cc72f-8284-4b8e-b86b-a466753c9a10\", [{\"domain\": {\"x\": [0, 0.3], \"y\": [0, 1]}, \"hole\": 0.3, \"hoverinfo\": \"label+percent+name\", \"labels\": [\"X360\", \"Wii\", \"PS3\", \"DS\", \"PS2\", \"PS4\", \"PSP\", \"XOne\", \"3DS\", \"XB\", \"PC\", \"WiiU\", \"GBA\", \"GC\", \"PSV\", \"2600\", \"PS\", \"GB\", \"N64\", \"DC\"], \"name\": \"NA\", \"textinfo\": \"value\", \"textposition\": \"inside\", \"values\": [602.4699999999993, 496.8999999999991, 393.48999999999995, 374.33999999999793, 211.4099999999999, 108.7400000000001, 106.91999999999979, 93.12000000000005, 83.48999999999992, 47.480000000000004, 47.03000000000001, 38.10000000000003, 30.270000000000017, 29.49000000000001, 12.579999999999973, 9.82, 1.8000000000000003, 0.68, 0.11, 0.0], \"type\": \"pie\", \"uid\": \"671a51e9-421e-4a28-b3c4-4f7e81d45d79\"}, {\"domain\": {\"x\": [0.36, 0.66], \"y\": [0, 1]}, \"hole\": 0.3, \"hoverinfo\": \"label+percent+name\", \"labels\": [\"PS3\", \"X360\", \"Wii\", \"DS\", \"PS4\", \"PC\", \"PS2\", \"PSP\", \"3DS\", \"XOne\", \"WiiU\", \"XB\", \"PSV\", \"GBA\", \"GC\", \"PS\", \"2600\", \"GB\", \"N64\", \"DC\"], \"name\": \"EU\", \"textinfo\": \"value\", \"textposition\": \"inside\", \"values\": [330.2899999999974, 270.75999999999675, 262.2099999999984, 184.95999999999955, 141.09000000000032, 105.08000000000028, 93.80000000000045, 64.98000000000008, 61.48000000000004, 51.59, 25.13000000000003, 16.19999999999998, 13.119999999999978, 10.849999999999973, 7.8599999999999905, 1.2200000000000002, 0.6100000000000002, 0.31, 0.03, 0.0], \"type\": \"pie\", \"uid\": \"cf893f7c-ab07-4b53-b84c-0f91ed0b0158\"}, {\"domain\": {\"x\": [0.7, 1], \"y\": [0, 1]}, \"hole\": 0.3, \"hoverinfo\": \"label+percent+name\", \"labels\": [\"DS\", \"3DS\", \"PS3\", \"PSP\", \"Wii\", \"PS2\", \"PSV\", \"PS4\", \"WiiU\", \"X360\", \"GBA\", \"GC\", \"N64\", \"XOne\", \"DC\", \"PS\", \"XB\", \"PC\", \"GB\", \"2600\"], \"name\": \"JP\", \"textinfo\": \"value\", \"textposition\": \"inside\", \"values\": [171.9000000000005, 100.66999999999999, 80.1900000000001, 74.75000000000031, 69.33000000000001, 52.64000000000015, 21.93000000000008, 15.99999999999997, 13.009999999999993, 12.429999999999923, 5.550000000000002, 3.0199999999999996, 0.45999999999999996, 0.3400000000000001, 0.06, 0.04, 0.02, 0.0, 0.0, 0.0], \"type\": \"pie\", \"uid\": \"b03f190e-328c-49bc-9a70-02a137fc457b\"}], {\"annotations\": [{\"font\": {\"size\": 20}, \"showarrow\": false, \"text\": \"NA\", \"x\": 0.13, \"y\": 0.5}, {\"font\": {\"size\": 20}, \"showarrow\": false, \"text\": \"EU\", \"x\": 0.51, \"y\": 0.5}, {\"font\": {\"size\": 20}, \"showarrow\": false, \"text\": \"JP\", \"x\": 0.87, \"y\": 0.5}], \"autosize\": true, \"title\": \"Top Platform in Each Region\", \"titlefont\": {\"color\": \"#4292f4\", \"size\": 30}}, {\"showLink\": false, \"linkText\": \"Export to plot.ly\", \"plotlyServerURL\": \"https://plot.ly\"})});</script><script type=\"text/javascript\">window.addEventListener(\"resize\", function(){window._Plotly.Plots.resize(document.getElementById(\"254cc72f-8284-4b8e-b86b-a466753c9a10\"));});</script>"
      ],
      "text/vnd.plotly.v1+html": [
       "<div id=\"254cc72f-8284-4b8e-b86b-a466753c9a10\" style=\"height: 525px; width: 100%;\" class=\"plotly-graph-div\"></div><script type=\"text/javascript\">require([\"plotly\"], function(Plotly) { window.PLOTLYENV=window.PLOTLYENV || {};window.PLOTLYENV.BASE_URL=\"https://plot.ly\";Plotly.newPlot(\"254cc72f-8284-4b8e-b86b-a466753c9a10\", [{\"domain\": {\"x\": [0, 0.3], \"y\": [0, 1]}, \"hole\": 0.3, \"hoverinfo\": \"label+percent+name\", \"labels\": [\"X360\", \"Wii\", \"PS3\", \"DS\", \"PS2\", \"PS4\", \"PSP\", \"XOne\", \"3DS\", \"XB\", \"PC\", \"WiiU\", \"GBA\", \"GC\", \"PSV\", \"2600\", \"PS\", \"GB\", \"N64\", \"DC\"], \"name\": \"NA\", \"textinfo\": \"value\", \"textposition\": \"inside\", \"values\": [602.4699999999993, 496.8999999999991, 393.48999999999995, 374.33999999999793, 211.4099999999999, 108.7400000000001, 106.91999999999979, 93.12000000000005, 83.48999999999992, 47.480000000000004, 47.03000000000001, 38.10000000000003, 30.270000000000017, 29.49000000000001, 12.579999999999973, 9.82, 1.8000000000000003, 0.68, 0.11, 0.0], \"type\": \"pie\", \"uid\": \"671a51e9-421e-4a28-b3c4-4f7e81d45d79\"}, {\"domain\": {\"x\": [0.36, 0.66], \"y\": [0, 1]}, \"hole\": 0.3, \"hoverinfo\": \"label+percent+name\", \"labels\": [\"PS3\", \"X360\", \"Wii\", \"DS\", \"PS4\", \"PC\", \"PS2\", \"PSP\", \"3DS\", \"XOne\", \"WiiU\", \"XB\", \"PSV\", \"GBA\", \"GC\", \"PS\", \"2600\", \"GB\", \"N64\", \"DC\"], \"name\": \"EU\", \"textinfo\": \"value\", \"textposition\": \"inside\", \"values\": [330.2899999999974, 270.75999999999675, 262.2099999999984, 184.95999999999955, 141.09000000000032, 105.08000000000028, 93.80000000000045, 64.98000000000008, 61.48000000000004, 51.59, 25.13000000000003, 16.19999999999998, 13.119999999999978, 10.849999999999973, 7.8599999999999905, 1.2200000000000002, 0.6100000000000002, 0.31, 0.03, 0.0], \"type\": \"pie\", \"uid\": \"cf893f7c-ab07-4b53-b84c-0f91ed0b0158\"}, {\"domain\": {\"x\": [0.7, 1], \"y\": [0, 1]}, \"hole\": 0.3, \"hoverinfo\": \"label+percent+name\", \"labels\": [\"DS\", \"3DS\", \"PS3\", \"PSP\", \"Wii\", \"PS2\", \"PSV\", \"PS4\", \"WiiU\", \"X360\", \"GBA\", \"GC\", \"N64\", \"XOne\", \"DC\", \"PS\", \"XB\", \"PC\", \"GB\", \"2600\"], \"name\": \"JP\", \"textinfo\": \"value\", \"textposition\": \"inside\", \"values\": [171.9000000000005, 100.66999999999999, 80.1900000000001, 74.75000000000031, 69.33000000000001, 52.64000000000015, 21.93000000000008, 15.99999999999997, 13.009999999999993, 12.429999999999923, 5.550000000000002, 3.0199999999999996, 0.45999999999999996, 0.3400000000000001, 0.06, 0.04, 0.02, 0.0, 0.0, 0.0], \"type\": \"pie\", \"uid\": \"b03f190e-328c-49bc-9a70-02a137fc457b\"}], {\"annotations\": [{\"font\": {\"size\": 20}, \"showarrow\": false, \"text\": \"NA\", \"x\": 0.13, \"y\": 0.5}, {\"font\": {\"size\": 20}, \"showarrow\": false, \"text\": \"EU\", \"x\": 0.51, \"y\": 0.5}, {\"font\": {\"size\": 20}, \"showarrow\": false, \"text\": \"JP\", \"x\": 0.87, \"y\": 0.5}], \"autosize\": true, \"title\": \"Top Platform in Each Region\", \"titlefont\": {\"color\": \"#4292f4\", \"size\": 30}}, {\"showLink\": false, \"linkText\": \"Export to plot.ly\", \"plotlyServerURL\": \"https://plot.ly\"})});</script><script type=\"text/javascript\">window.addEventListener(\"resize\", function(){window._Plotly.Plots.resize(document.getElementById(\"254cc72f-8284-4b8e-b86b-a466753c9a10\"));});</script>"
      ]
     },
     "metadata": {},
     "output_type": "display_data"
    }
   ],
   "source": [
    "fig = {\n",
    "  \"data\": [\n",
    "    {\n",
    "      \"values\": platform_na['NA_Sales'].tolist(),\n",
    "      \"labels\": platform_na.index,\n",
    "      \"domain\": {\"x\": [0, .30],'y': [0, 1]},\n",
    "      \"name\": \"NA\",\n",
    "      \"hoverinfo\":\"label+percent+name\",\n",
    "      \"textinfo\":'value', \n",
    "      \"textposition\":\"inside\",\n",
    "      \"hole\": .3,\n",
    "      \"type\": \"pie\"\n",
    "    },\n",
    "    {\n",
    "      \"values\": platform_eu['EU_Sales'].tolist(),\n",
    "      \"labels\": platform_eu.index,\n",
    "      \"textposition\":\"inside\",\n",
    "      \"domain\": {\"x\": [.36, 0.66],'y': [0, 1]},\n",
    "      \"name\": \"EU\",\n",
    "      \"hoverinfo\":\"label+percent+name\",\n",
    "        \"textinfo\":'value',\n",
    "      \"hole\": .3,\n",
    "      \"type\": \"pie\"\n",
    "    },\n",
    "    {\n",
    "      \"values\": platform_jp['JP_Sales'].tolist(),\n",
    "      \"labels\": platform_jp.index,\n",
    "      \"textposition\":\"inside\",\n",
    "      \"domain\": {\"x\": [.70, 1],'y': [0, 1]},\n",
    "      \"name\": \"JP\",\n",
    "      \"hoverinfo\":\"label+percent+name\",\n",
    "        \"textinfo\":'value',\n",
    "      \"hole\": .3,\n",
    "      \"type\": \"pie\"\n",
    "    }\n",
    "  \n",
    "  \n",
    "  \n",
    "  ],\n",
    "  \"layout\": {\n",
    "        \"title\":\"Top Platform in Each Region\",'titlefont':{'size' : 30,'color' : '#4292f4'},\n",
    "        \"annotations\": [\n",
    "            {\n",
    "                \"font\": {\n",
    "                    \"size\": 20\n",
    "                },\n",
    "                \"showarrow\": False,\n",
    "                \"text\": \"NA\",\n",
    "                \"x\": 0.13,\n",
    "                \"y\": 0.5\n",
    "            },\n",
    "            {\n",
    "                \"font\": {\n",
    "                    \"size\": 20\n",
    "                },\n",
    "                \"showarrow\": False,\n",
    "                \"text\": \"EU\",\n",
    "                \"x\": 0.51,\n",
    "                \"y\": 0.5\n",
    "            },\n",
    "            {\n",
    "                \"font\": {\n",
    "                    \"size\": 20\n",
    "                },\n",
    "                \"showarrow\": False,\n",
    "                \"text\": \"JP\",\n",
    "                \"x\": 0.87,\n",
    "                \"y\": 0.5\n",
    "            }\n",
    "        ]\n",
    "    ,\"autosize\": True}\n",
    "}\n",
    "\n",
    " \n",
    "\n",
    "config={'showLink': False}\n",
    "iplot(fig, filename='donut',config=config)\n",
    "\n",
    "#iplot(fig,filename='donut group',config=config, image_width=1000, image_height=2000)"
   ]
  },
  {
   "cell_type": "code",
   "execution_count": 23,
   "metadata": {},
   "outputs": [
    {
     "data": {
      "text/html": [
       "<div>\n",
       "<style scoped>\n",
       "    .dataframe tbody tr th:only-of-type {\n",
       "        vertical-align: middle;\n",
       "    }\n",
       "\n",
       "    .dataframe tbody tr th {\n",
       "        vertical-align: top;\n",
       "    }\n",
       "\n",
       "    .dataframe thead th {\n",
       "        text-align: right;\n",
       "    }\n",
       "</style>\n",
       "<table border=\"1\" class=\"dataframe\">\n",
       "  <thead>\n",
       "    <tr style=\"text-align: right;\">\n",
       "      <th></th>\n",
       "      <th>Name</th>\n",
       "      <th>Platform</th>\n",
       "      <th>Year_of_Release</th>\n",
       "      <th>Genre</th>\n",
       "      <th>Publisher</th>\n",
       "      <th>NA_Sales</th>\n",
       "      <th>EU_Sales</th>\n",
       "      <th>JP_Sales</th>\n",
       "      <th>Global_Sales</th>\n",
       "      <th>Critic_Score</th>\n",
       "      <th>Critic_Count</th>\n",
       "      <th>User_Score</th>\n",
       "      <th>User_Count</th>\n",
       "      <th>Developer</th>\n",
       "      <th>Rating</th>\n",
       "    </tr>\n",
       "  </thead>\n",
       "  <tbody>\n",
       "    <tr>\n",
       "      <th>0</th>\n",
       "      <td>Wii Sports</td>\n",
       "      <td>Wii</td>\n",
       "      <td>2006</td>\n",
       "      <td>Sports</td>\n",
       "      <td>Nintendo</td>\n",
       "      <td>41.36</td>\n",
       "      <td>28.96</td>\n",
       "      <td>3.77</td>\n",
       "      <td>82.53</td>\n",
       "      <td>76.0</td>\n",
       "      <td>51.0</td>\n",
       "      <td>8</td>\n",
       "      <td>322.0</td>\n",
       "      <td>Nintendo</td>\n",
       "      <td>E</td>\n",
       "    </tr>\n",
       "  </tbody>\n",
       "</table>\n",
       "</div>"
      ],
      "text/plain": [
       "         Name Platform  Year_of_Release   Genre Publisher  NA_Sales  EU_Sales  \\\n",
       "0  Wii Sports      Wii             2006  Sports  Nintendo     41.36     28.96   \n",
       "\n",
       "   JP_Sales  Global_Sales  Critic_Score  Critic_Count User_Score  User_Count  \\\n",
       "0      3.77         82.53          76.0          51.0          8       322.0   \n",
       "\n",
       "  Developer Rating  \n",
       "0  Nintendo      E  "
      ]
     },
     "execution_count": 23,
     "metadata": {},
     "output_type": "execute_result"
    }
   ],
   "source": [
    "vgs.head(1)"
   ]
  },
  {
   "cell_type": "code",
   "execution_count": 24,
   "metadata": {},
   "outputs": [],
   "source": [
    "top_sale_global = vgs.groupby('Year_of_Release').agg({'Global_Sales':np.sum}).sort_index()\n",
    "top_sale_na = vgs.groupby('Year_of_Release').agg({'NA_Sales':np.sum}).sort_index()\n",
    "top_sale_eu = vgs.groupby('Year_of_Release').agg({'EU_Sales':np.sum}).sort_index()\n",
    "top_sale_jp = vgs.groupby('Year_of_Release').agg({'JP_Sales':np.sum}).sort_index()"
   ]
  },
  {
   "cell_type": "code",
   "execution_count": 25,
   "metadata": {},
   "outputs": [
    {
     "data": {
      "text/html": [
       "<div>\n",
       "<style scoped>\n",
       "    .dataframe tbody tr th:only-of-type {\n",
       "        vertical-align: middle;\n",
       "    }\n",
       "\n",
       "    .dataframe tbody tr th {\n",
       "        vertical-align: top;\n",
       "    }\n",
       "\n",
       "    .dataframe thead th {\n",
       "        text-align: right;\n",
       "    }\n",
       "</style>\n",
       "<table border=\"1\" class=\"dataframe\">\n",
       "  <thead>\n",
       "    <tr style=\"text-align: right;\">\n",
       "      <th></th>\n",
       "      <th>EU_Sales</th>\n",
       "    </tr>\n",
       "    <tr>\n",
       "      <th>Year_of_Release</th>\n",
       "      <th></th>\n",
       "    </tr>\n",
       "  </thead>\n",
       "  <tbody>\n",
       "    <tr>\n",
       "      <th>1980</th>\n",
       "      <td>0.67</td>\n",
       "    </tr>\n",
       "  </tbody>\n",
       "</table>\n",
       "</div>"
      ],
      "text/plain": [
       "                 EU_Sales\n",
       "Year_of_Release          \n",
       "1980                 0.67"
      ]
     },
     "execution_count": 25,
     "metadata": {},
     "output_type": "execute_result"
    }
   ],
   "source": [
    "top_sale_eu.head(1)"
   ]
  },
  {
   "cell_type": "code",
   "execution_count": 26,
   "metadata": {},
   "outputs": [
    {
     "data": {
      "application/vnd.plotly.v1+json": {
       "config": {
        "linkText": "Export to plot.ly",
        "plotlyServerURL": "https://plot.ly",
        "showLink": false
       },
       "data": [
        {
         "fill": "tonexty",
         "name": "Global",
         "type": "scatter",
         "uid": "7c12ee72-c37d-4e13-93df-65b2a3f2f58d",
         "x": [
          1980,
          1981,
          1982,
          1983,
          1984,
          1985,
          1986,
          1987,
          1988,
          1989,
          1990,
          1991,
          1992,
          1993,
          1994,
          1995,
          1996,
          1997,
          1998,
          1999,
          2000,
          2001,
          2002,
          2003,
          2004,
          2005,
          2006,
          2007,
          2008,
          2009,
          2010,
          2011,
          2012,
          2013,
          2014,
          2015,
          2016,
          2017,
          2018,
          2020
         ],
         "y": [
          11.379999999999999,
          35.77000000000001,
          28.859999999999996,
          16.790000000000003,
          50.360000000000014,
          53.940000000000005,
          37.07,
          21.739999999999995,
          47.22,
          73.45,
          49.38999999999999,
          32.230000000000004,
          76.16999999999997,
          48.399999999999984,
          79.18000000000002,
          88.10999999999991,
          199.14999999999995,
          200.98000000000013,
          256.4499999999997,
          251.2500000000002,
          201.5800000000002,
          331.4699999999991,
          395.5099999999983,
          357.7999999999988,
          419.0499999999986,
          458.3099999999975,
          518.2199999999954,
          605.369999999993,
          671.7899999999953,
          658.8799999999958,
          590.5899999999947,
          507.7899999999968,
          355.83999999999827,
          361.2399999999984,
          331.50999999999874,
          268.04999999999706,
          130.10000000000028,
          0.060000000000000005,
          98.95999999999994,
          0.29
         ]
        },
        {
         "fill": "tonexty",
         "name": "North America",
         "type": "scatter",
         "uid": "230a48b7-c141-4dba-90f9-132fd9c9eeec",
         "x": [
          1980,
          1981,
          1982,
          1983,
          1984,
          1985,
          1986,
          1987,
          1988,
          1989,
          1990,
          1991,
          1992,
          1993,
          1994,
          1995,
          1996,
          1997,
          1998,
          1999,
          2000,
          2001,
          2002,
          2003,
          2004,
          2005,
          2006,
          2007,
          2008,
          2009,
          2010,
          2011,
          2012,
          2013,
          2014,
          2015,
          2016,
          2017,
          2018,
          2020
         ],
         "y": [
          10.590000000000003,
          33.4,
          26.920000000000005,
          7.76,
          33.28,
          33.73,
          12.5,
          8.460000000000003,
          23.869999999999997,
          45.15,
          25.46,
          12.76,
          33.89000000000001,
          16.9,
          28.16,
          24.83000000000001,
          86.75999999999999,
          94.75000000000007,
          128.35999999999999,
          126.06000000000004,
          94.50000000000006,
          173.9800000000004,
          216.1900000000001,
          193.6100000000007,
          222.51000000000036,
          242.15000000000052,
          262.12999999999863,
          309.8899999999984,
          348.6899999999998,
          335.5499999999985,
          300.64999999999935,
          238.79000000000067,
          153.26000000000002,
          153.64999999999998,
          132.27000000000024,
          106.86,
          44.93000000000001,
          0,
          59.15000000000001,
          0.27
         ]
        },
        {
         "fill": "tonexty",
         "name": "Europe",
         "type": "scatter",
         "uid": "d38f687f-3ae1-41c1-9298-7b26738ce227",
         "x": [
          1980,
          1981,
          1982,
          1983,
          1984,
          1985,
          1986,
          1987,
          1988,
          1989,
          1990,
          1991,
          1992,
          1993,
          1994,
          1995,
          1996,
          1997,
          1998,
          1999,
          2000,
          2001,
          2002,
          2003,
          2004,
          2005,
          2006,
          2007,
          2008,
          2009,
          2010,
          2011,
          2012,
          2013,
          2014,
          2015,
          2016,
          2017,
          2018,
          2020
         ],
         "y": [
          0.6700000000000002,
          1.9600000000000006,
          1.6500000000000008,
          0.8000000000000003,
          2.0999999999999996,
          4.74,
          2.8400000000000007,
          1.4100000000000001,
          6.590000000000001,
          8.44,
          7.629999999999998,
          3.9499999999999993,
          11.710000000000003,
          5.18,
          14.879999999999997,
          14.89999999999998,
          47.259999999999984,
          48.319999999999986,
          66.90000000000012,
          62.67000000000003,
          52.770000000000024,
          94.88999999999986,
          109.75000000000033,
          103.8100000000003,
          107.28000000000033,
          121.11000000000041,
          127.89000000000053,
          157.81999999999974,
          181.13999999999996,
          187.94,
          171.42000000000036,
          162.9700000000006,
          114.5899999999999,
          121.55000000000013,
          122.74000000000017,
          96.72000000000006,
          51.22,
          0,
          24.460000000000054,
          0
         ]
        },
        {
         "fill": "tonexty",
         "name": "Japan",
         "type": "scatter",
         "uid": "5de89d51-6b41-4f4f-be89-d7df1e0b73e5",
         "x": [
          1980,
          1981,
          1982,
          1983,
          1984,
          1985,
          1986,
          1987,
          1988,
          1989,
          1990,
          1991,
          1992,
          1993,
          1994,
          1995,
          1996,
          1997,
          1998,
          1999,
          2000,
          2001,
          2002,
          2003,
          2004,
          2005,
          2006,
          2007,
          2008,
          2009,
          2010,
          2011,
          2012,
          2013,
          2014,
          2015,
          2016,
          2017,
          2018,
          2020
         ],
         "y": [
          0,
          0,
          0,
          8.1,
          14.269999999999998,
          14.56,
          19.81,
          11.63,
          15.759999999999998,
          18.360000000000003,
          14.880000000000003,
          14.780000000000001,
          28.91,
          25.36000000000001,
          33.990000000000016,
          45.750000000000014,
          57.43999999999997,
          48.86999999999997,
          50.04,
          52.34,
          42.770000000000046,
          39.85999999999999,
          41.76000000000002,
          34.20000000000003,
          41.64999999999999,
          54.27,
          73.73999999999997,
          60.290000000000106,
          60.25000000000003,
          61.88999999999998,
          59.49000000000022,
          53.070000000000086,
          51.80000000000012,
          47.690000000000055,
          39.69000000000008,
          34.09000000000011,
          19.31000000000004,
          0.060000000000000005,
          6.699999999999996,
          0
         ]
        }
       ],
       "layout": {
        "margin": {
         "b": 50,
         "l": 100,
         "pad": 10,
         "r": 100,
         "t": 100
        },
        "title": "Glocal sale per Year",
        "xaxis": {
         "title": "Year",
         "titlefont": {
          "color": "#0000FF",
          "family": "Courier New, monospace",
          "size": 18
         }
        },
        "yaxis": {
         "title": "Total Sales(In millions)",
         "titlefont": {
          "color": "#0000FF",
          "family": "Courier New, monospace",
          "size": 18
         }
        }
       }
      },
      "text/html": [
       "<div id=\"defe510f-cc83-42f9-a1a1-fbc08cf5277d\" style=\"height: 525px; width: 100%;\" class=\"plotly-graph-div\"></div><script type=\"text/javascript\">require([\"plotly\"], function(Plotly) { window.PLOTLYENV=window.PLOTLYENV || {};window.PLOTLYENV.BASE_URL=\"https://plot.ly\";Plotly.newPlot(\"defe510f-cc83-42f9-a1a1-fbc08cf5277d\", [{\"fill\": \"tonexty\", \"name\": \"Global\", \"x\": [1980, 1981, 1982, 1983, 1984, 1985, 1986, 1987, 1988, 1989, 1990, 1991, 1992, 1993, 1994, 1995, 1996, 1997, 1998, 1999, 2000, 2001, 2002, 2003, 2004, 2005, 2006, 2007, 2008, 2009, 2010, 2011, 2012, 2013, 2014, 2015, 2016, 2017, 2018, 2020], \"y\": [11.379999999999999, 35.77000000000001, 28.859999999999996, 16.790000000000003, 50.360000000000014, 53.940000000000005, 37.07, 21.739999999999995, 47.22, 73.45, 49.38999999999999, 32.230000000000004, 76.16999999999997, 48.399999999999984, 79.18000000000002, 88.10999999999991, 199.14999999999995, 200.98000000000013, 256.4499999999997, 251.2500000000002, 201.5800000000002, 331.4699999999991, 395.5099999999983, 357.7999999999988, 419.0499999999986, 458.3099999999975, 518.2199999999954, 605.369999999993, 671.7899999999953, 658.8799999999958, 590.5899999999947, 507.7899999999968, 355.83999999999827, 361.2399999999984, 331.50999999999874, 268.04999999999706, 130.10000000000028, 0.060000000000000005, 98.95999999999994, 0.29], \"type\": \"scatter\", \"uid\": \"7c12ee72-c37d-4e13-93df-65b2a3f2f58d\"}, {\"fill\": \"tonexty\", \"name\": \"North America\", \"x\": [1980, 1981, 1982, 1983, 1984, 1985, 1986, 1987, 1988, 1989, 1990, 1991, 1992, 1993, 1994, 1995, 1996, 1997, 1998, 1999, 2000, 2001, 2002, 2003, 2004, 2005, 2006, 2007, 2008, 2009, 2010, 2011, 2012, 2013, 2014, 2015, 2016, 2017, 2018, 2020], \"y\": [10.590000000000003, 33.4, 26.920000000000005, 7.76, 33.28, 33.73, 12.5, 8.460000000000003, 23.869999999999997, 45.15, 25.46, 12.76, 33.89000000000001, 16.9, 28.16, 24.83000000000001, 86.75999999999999, 94.75000000000007, 128.35999999999999, 126.06000000000004, 94.50000000000006, 173.9800000000004, 216.1900000000001, 193.6100000000007, 222.51000000000036, 242.15000000000052, 262.12999999999863, 309.8899999999984, 348.6899999999998, 335.5499999999985, 300.64999999999935, 238.79000000000067, 153.26000000000002, 153.64999999999998, 132.27000000000024, 106.86, 44.93000000000001, 0.0, 59.15000000000001, 0.27], \"type\": \"scatter\", \"uid\": \"230a48b7-c141-4dba-90f9-132fd9c9eeec\"}, {\"fill\": \"tonexty\", \"name\": \"Europe\", \"x\": [1980, 1981, 1982, 1983, 1984, 1985, 1986, 1987, 1988, 1989, 1990, 1991, 1992, 1993, 1994, 1995, 1996, 1997, 1998, 1999, 2000, 2001, 2002, 2003, 2004, 2005, 2006, 2007, 2008, 2009, 2010, 2011, 2012, 2013, 2014, 2015, 2016, 2017, 2018, 2020], \"y\": [0.6700000000000002, 1.9600000000000006, 1.6500000000000008, 0.8000000000000003, 2.0999999999999996, 4.74, 2.8400000000000007, 1.4100000000000001, 6.590000000000001, 8.44, 7.629999999999998, 3.9499999999999993, 11.710000000000003, 5.18, 14.879999999999997, 14.89999999999998, 47.259999999999984, 48.319999999999986, 66.90000000000012, 62.67000000000003, 52.770000000000024, 94.88999999999986, 109.75000000000033, 103.8100000000003, 107.28000000000033, 121.11000000000041, 127.89000000000053, 157.81999999999974, 181.13999999999996, 187.94, 171.42000000000036, 162.9700000000006, 114.5899999999999, 121.55000000000013, 122.74000000000017, 96.72000000000006, 51.22, 0.0, 24.460000000000054, 0.0], \"type\": \"scatter\", \"uid\": \"d38f687f-3ae1-41c1-9298-7b26738ce227\"}, {\"fill\": \"tonexty\", \"name\": \"Japan\", \"x\": [1980, 1981, 1982, 1983, 1984, 1985, 1986, 1987, 1988, 1989, 1990, 1991, 1992, 1993, 1994, 1995, 1996, 1997, 1998, 1999, 2000, 2001, 2002, 2003, 2004, 2005, 2006, 2007, 2008, 2009, 2010, 2011, 2012, 2013, 2014, 2015, 2016, 2017, 2018, 2020], \"y\": [0.0, 0.0, 0.0, 8.1, 14.269999999999998, 14.56, 19.81, 11.63, 15.759999999999998, 18.360000000000003, 14.880000000000003, 14.780000000000001, 28.91, 25.36000000000001, 33.990000000000016, 45.750000000000014, 57.43999999999997, 48.86999999999997, 50.04, 52.34, 42.770000000000046, 39.85999999999999, 41.76000000000002, 34.20000000000003, 41.64999999999999, 54.27, 73.73999999999997, 60.290000000000106, 60.25000000000003, 61.88999999999998, 59.49000000000022, 53.070000000000086, 51.80000000000012, 47.690000000000055, 39.69000000000008, 34.09000000000011, 19.31000000000004, 0.060000000000000005, 6.699999999999996, 0.0], \"type\": \"scatter\", \"uid\": \"5de89d51-6b41-4f4f-be89-d7df1e0b73e5\"}], {\"margin\": {\"b\": 50, \"l\": 100, \"pad\": 10, \"r\": 100, \"t\": 100}, \"title\": \"Glocal sale per Year\", \"xaxis\": {\"title\": \"Year\", \"titlefont\": {\"color\": \"#0000FF\", \"family\": \"Courier New, monospace\", \"size\": 18}}, \"yaxis\": {\"title\": \"Total Sales(In millions)\", \"titlefont\": {\"color\": \"#0000FF\", \"family\": \"Courier New, monospace\", \"size\": 18}}}, {\"showLink\": false, \"linkText\": \"Export to plot.ly\", \"plotlyServerURL\": \"https://plot.ly\"})});</script><script type=\"text/javascript\">window.addEventListener(\"resize\", function(){window._Plotly.Plots.resize(document.getElementById(\"defe510f-cc83-42f9-a1a1-fbc08cf5277d\"));});</script>"
      ],
      "text/vnd.plotly.v1+html": [
       "<div id=\"defe510f-cc83-42f9-a1a1-fbc08cf5277d\" style=\"height: 525px; width: 100%;\" class=\"plotly-graph-div\"></div><script type=\"text/javascript\">require([\"plotly\"], function(Plotly) { window.PLOTLYENV=window.PLOTLYENV || {};window.PLOTLYENV.BASE_URL=\"https://plot.ly\";Plotly.newPlot(\"defe510f-cc83-42f9-a1a1-fbc08cf5277d\", [{\"fill\": \"tonexty\", \"name\": \"Global\", \"x\": [1980, 1981, 1982, 1983, 1984, 1985, 1986, 1987, 1988, 1989, 1990, 1991, 1992, 1993, 1994, 1995, 1996, 1997, 1998, 1999, 2000, 2001, 2002, 2003, 2004, 2005, 2006, 2007, 2008, 2009, 2010, 2011, 2012, 2013, 2014, 2015, 2016, 2017, 2018, 2020], \"y\": [11.379999999999999, 35.77000000000001, 28.859999999999996, 16.790000000000003, 50.360000000000014, 53.940000000000005, 37.07, 21.739999999999995, 47.22, 73.45, 49.38999999999999, 32.230000000000004, 76.16999999999997, 48.399999999999984, 79.18000000000002, 88.10999999999991, 199.14999999999995, 200.98000000000013, 256.4499999999997, 251.2500000000002, 201.5800000000002, 331.4699999999991, 395.5099999999983, 357.7999999999988, 419.0499999999986, 458.3099999999975, 518.2199999999954, 605.369999999993, 671.7899999999953, 658.8799999999958, 590.5899999999947, 507.7899999999968, 355.83999999999827, 361.2399999999984, 331.50999999999874, 268.04999999999706, 130.10000000000028, 0.060000000000000005, 98.95999999999994, 0.29], \"type\": \"scatter\", \"uid\": \"7c12ee72-c37d-4e13-93df-65b2a3f2f58d\"}, {\"fill\": \"tonexty\", \"name\": \"North America\", \"x\": [1980, 1981, 1982, 1983, 1984, 1985, 1986, 1987, 1988, 1989, 1990, 1991, 1992, 1993, 1994, 1995, 1996, 1997, 1998, 1999, 2000, 2001, 2002, 2003, 2004, 2005, 2006, 2007, 2008, 2009, 2010, 2011, 2012, 2013, 2014, 2015, 2016, 2017, 2018, 2020], \"y\": [10.590000000000003, 33.4, 26.920000000000005, 7.76, 33.28, 33.73, 12.5, 8.460000000000003, 23.869999999999997, 45.15, 25.46, 12.76, 33.89000000000001, 16.9, 28.16, 24.83000000000001, 86.75999999999999, 94.75000000000007, 128.35999999999999, 126.06000000000004, 94.50000000000006, 173.9800000000004, 216.1900000000001, 193.6100000000007, 222.51000000000036, 242.15000000000052, 262.12999999999863, 309.8899999999984, 348.6899999999998, 335.5499999999985, 300.64999999999935, 238.79000000000067, 153.26000000000002, 153.64999999999998, 132.27000000000024, 106.86, 44.93000000000001, 0.0, 59.15000000000001, 0.27], \"type\": \"scatter\", \"uid\": \"230a48b7-c141-4dba-90f9-132fd9c9eeec\"}, {\"fill\": \"tonexty\", \"name\": \"Europe\", \"x\": [1980, 1981, 1982, 1983, 1984, 1985, 1986, 1987, 1988, 1989, 1990, 1991, 1992, 1993, 1994, 1995, 1996, 1997, 1998, 1999, 2000, 2001, 2002, 2003, 2004, 2005, 2006, 2007, 2008, 2009, 2010, 2011, 2012, 2013, 2014, 2015, 2016, 2017, 2018, 2020], \"y\": [0.6700000000000002, 1.9600000000000006, 1.6500000000000008, 0.8000000000000003, 2.0999999999999996, 4.74, 2.8400000000000007, 1.4100000000000001, 6.590000000000001, 8.44, 7.629999999999998, 3.9499999999999993, 11.710000000000003, 5.18, 14.879999999999997, 14.89999999999998, 47.259999999999984, 48.319999999999986, 66.90000000000012, 62.67000000000003, 52.770000000000024, 94.88999999999986, 109.75000000000033, 103.8100000000003, 107.28000000000033, 121.11000000000041, 127.89000000000053, 157.81999999999974, 181.13999999999996, 187.94, 171.42000000000036, 162.9700000000006, 114.5899999999999, 121.55000000000013, 122.74000000000017, 96.72000000000006, 51.22, 0.0, 24.460000000000054, 0.0], \"type\": \"scatter\", \"uid\": \"d38f687f-3ae1-41c1-9298-7b26738ce227\"}, {\"fill\": \"tonexty\", \"name\": \"Japan\", \"x\": [1980, 1981, 1982, 1983, 1984, 1985, 1986, 1987, 1988, 1989, 1990, 1991, 1992, 1993, 1994, 1995, 1996, 1997, 1998, 1999, 2000, 2001, 2002, 2003, 2004, 2005, 2006, 2007, 2008, 2009, 2010, 2011, 2012, 2013, 2014, 2015, 2016, 2017, 2018, 2020], \"y\": [0.0, 0.0, 0.0, 8.1, 14.269999999999998, 14.56, 19.81, 11.63, 15.759999999999998, 18.360000000000003, 14.880000000000003, 14.780000000000001, 28.91, 25.36000000000001, 33.990000000000016, 45.750000000000014, 57.43999999999997, 48.86999999999997, 50.04, 52.34, 42.770000000000046, 39.85999999999999, 41.76000000000002, 34.20000000000003, 41.64999999999999, 54.27, 73.73999999999997, 60.290000000000106, 60.25000000000003, 61.88999999999998, 59.49000000000022, 53.070000000000086, 51.80000000000012, 47.690000000000055, 39.69000000000008, 34.09000000000011, 19.31000000000004, 0.060000000000000005, 6.699999999999996, 0.0], \"type\": \"scatter\", \"uid\": \"5de89d51-6b41-4f4f-be89-d7df1e0b73e5\"}], {\"margin\": {\"b\": 50, \"l\": 100, \"pad\": 10, \"r\": 100, \"t\": 100}, \"title\": \"Glocal sale per Year\", \"xaxis\": {\"title\": \"Year\", \"titlefont\": {\"color\": \"#0000FF\", \"family\": \"Courier New, monospace\", \"size\": 18}}, \"yaxis\": {\"title\": \"Total Sales(In millions)\", \"titlefont\": {\"color\": \"#0000FF\", \"family\": \"Courier New, monospace\", \"size\": 18}}}, {\"showLink\": false, \"linkText\": \"Export to plot.ly\", \"plotlyServerURL\": \"https://plot.ly\"})});</script><script type=\"text/javascript\">window.addEventListener(\"resize\", function(){window._Plotly.Plots.resize(document.getElementById(\"defe510f-cc83-42f9-a1a1-fbc08cf5277d\"));});</script>"
      ]
     },
     "metadata": {},
     "output_type": "display_data"
    }
   ],
   "source": [
    "trace1 = go.Scatter(\n",
    "    x=top_sale_global.index,\n",
    "    y = top_sale_global['Global_Sales'].tolist(),\n",
    "    fill='tonexty',\n",
    "    name = 'Global',\n",
    ")\n",
    "trace2 = go.Scatter(\n",
    "    x=top_sale_na.index,\n",
    "    y = top_sale_na['NA_Sales'].tolist(),\n",
    "    fill='tonexty',\n",
    "    name = 'North America',\n",
    ")\n",
    "\n",
    "trace3 = go.Scatter(\n",
    "    x=top_sale_eu.index,\n",
    "    y = top_sale_eu['EU_Sales'].tolist(),\n",
    "    fill='tonexty',\n",
    "    name = 'Europe',\n",
    ")\n",
    "\n",
    "trace4 = go.Scatter(\n",
    "    x=top_sale_jp.index,\n",
    "    y = top_sale_jp['JP_Sales'].tolist(),\n",
    "    fill='tonexty',\n",
    "    name = 'Japan'\n",
    ")\n",
    "\n",
    "\n",
    "data = [trace1, trace2,trace3,trace4]\n",
    "\n",
    "layout = go.Layout(title='Glocal sale per Year',\n",
    "                  xaxis = dict(\n",
    "                          title = 'Year',\n",
    "                            titlefont = dict(\n",
    "                                        family = 'Courier New, monospace',\n",
    "                                        size = 18,\n",
    "                                        color = '#0000FF'\n",
    "                                            )\n",
    "                  \n",
    "                              ),\n",
    "                   yaxis = dict(\n",
    "                          title = 'Total Sales(In millions)',\n",
    "                            titlefont = dict(\n",
    "                                        family = 'Courier New, monospace',\n",
    "                                        size = 18,\n",
    "                                        color = '#0000FF'\n",
    "                                        )\n",
    "                               )\n",
    "                  ,margin=go.layout.Margin(\n",
    "        l=100,\n",
    "        r=100,\n",
    "        b=50,\n",
    "        t=100,\n",
    "        pad=10\n",
    "    )\n",
    "                   \n",
    "                   \n",
    "                  )\n",
    "\n",
    "\n",
    "\n",
    "fig = go.Figure(data=data,layout=layout)\n",
    "config={'showLink': False}\n",
    "iplot(fig,filename='grouped bar',config=config)\n"
   ]
  },
  {
   "cell_type": "code",
   "execution_count": 27,
   "metadata": {},
   "outputs": [
    {
     "data": {
      "text/html": [
       "<div>\n",
       "<style scoped>\n",
       "    .dataframe tbody tr th:only-of-type {\n",
       "        vertical-align: middle;\n",
       "    }\n",
       "\n",
       "    .dataframe tbody tr th {\n",
       "        vertical-align: top;\n",
       "    }\n",
       "\n",
       "    .dataframe thead th {\n",
       "        text-align: right;\n",
       "    }\n",
       "</style>\n",
       "<table border=\"1\" class=\"dataframe\">\n",
       "  <thead>\n",
       "    <tr style=\"text-align: right;\">\n",
       "      <th></th>\n",
       "      <th>Name</th>\n",
       "      <th>Platform</th>\n",
       "      <th>Year_of_Release</th>\n",
       "      <th>Genre</th>\n",
       "      <th>Publisher</th>\n",
       "      <th>NA_Sales</th>\n",
       "      <th>EU_Sales</th>\n",
       "      <th>JP_Sales</th>\n",
       "      <th>Global_Sales</th>\n",
       "      <th>Critic_Score</th>\n",
       "      <th>Critic_Count</th>\n",
       "      <th>User_Score</th>\n",
       "      <th>User_Count</th>\n",
       "      <th>Developer</th>\n",
       "      <th>Rating</th>\n",
       "    </tr>\n",
       "  </thead>\n",
       "  <tbody>\n",
       "    <tr>\n",
       "      <th>0</th>\n",
       "      <td>Wii Sports</td>\n",
       "      <td>Wii</td>\n",
       "      <td>2006</td>\n",
       "      <td>Sports</td>\n",
       "      <td>Nintendo</td>\n",
       "      <td>41.36</td>\n",
       "      <td>28.96</td>\n",
       "      <td>3.77</td>\n",
       "      <td>82.53</td>\n",
       "      <td>76.0</td>\n",
       "      <td>51.0</td>\n",
       "      <td>8</td>\n",
       "      <td>322.0</td>\n",
       "      <td>Nintendo</td>\n",
       "      <td>E</td>\n",
       "    </tr>\n",
       "  </tbody>\n",
       "</table>\n",
       "</div>"
      ],
      "text/plain": [
       "         Name Platform  Year_of_Release   Genre Publisher  NA_Sales  EU_Sales  \\\n",
       "0  Wii Sports      Wii             2006  Sports  Nintendo     41.36     28.96   \n",
       "\n",
       "   JP_Sales  Global_Sales  Critic_Score  Critic_Count User_Score  User_Count  \\\n",
       "0      3.77         82.53          76.0          51.0          8       322.0   \n",
       "\n",
       "  Developer Rating  \n",
       "0  Nintendo      E  "
      ]
     },
     "execution_count": 27,
     "metadata": {},
     "output_type": "execute_result"
    }
   ],
   "source": [
    "vgs.head(1)"
   ]
  },
  {
   "cell_type": "markdown",
   "metadata": {},
   "source": [
    "### 3.3 Looking At Retro Trends: 1985 - 1995"
   ]
  },
  {
   "cell_type": "markdown",
   "metadata": {},
   "source": [
    "####  Picking Data From The Dataset Dating Only Before 1995"
   ]
  },
  {
   "cell_type": "code",
   "execution_count": 28,
   "metadata": {},
   "outputs": [
    {
     "data": {
      "text/html": [
       "<div>\n",
       "<style scoped>\n",
       "    .dataframe tbody tr th:only-of-type {\n",
       "        vertical-align: middle;\n",
       "    }\n",
       "\n",
       "    .dataframe tbody tr th {\n",
       "        vertical-align: top;\n",
       "    }\n",
       "\n",
       "    .dataframe thead th {\n",
       "        text-align: right;\n",
       "    }\n",
       "</style>\n",
       "<table border=\"1\" class=\"dataframe\">\n",
       "  <thead>\n",
       "    <tr style=\"text-align: right;\">\n",
       "      <th></th>\n",
       "      <th>Name</th>\n",
       "      <th>Platform</th>\n",
       "      <th>Year_of_Release</th>\n",
       "      <th>Genre</th>\n",
       "      <th>Publisher</th>\n",
       "      <th>NA_Sales</th>\n",
       "      <th>EU_Sales</th>\n",
       "      <th>JP_Sales</th>\n",
       "      <th>Global_Sales</th>\n",
       "      <th>Critic_Score</th>\n",
       "      <th>Critic_Count</th>\n",
       "      <th>User_Score</th>\n",
       "      <th>User_Count</th>\n",
       "      <th>Developer</th>\n",
       "      <th>Rating</th>\n",
       "    </tr>\n",
       "  </thead>\n",
       "  <tbody>\n",
       "    <tr>\n",
       "      <th>1</th>\n",
       "      <td>Super Mario Bros.</td>\n",
       "      <td>NES</td>\n",
       "      <td>1985</td>\n",
       "      <td>Platform</td>\n",
       "      <td>Nintendo</td>\n",
       "      <td>29.08</td>\n",
       "      <td>3.58</td>\n",
       "      <td>6.81</td>\n",
       "      <td>40.24</td>\n",
       "      <td>NaN</td>\n",
       "      <td>NaN</td>\n",
       "      <td>NaN</td>\n",
       "      <td>NaN</td>\n",
       "      <td>NaN</td>\n",
       "      <td>NaN</td>\n",
       "    </tr>\n",
       "    <tr>\n",
       "      <th>5</th>\n",
       "      <td>Tetris</td>\n",
       "      <td>GB</td>\n",
       "      <td>1989</td>\n",
       "      <td>Puzzle</td>\n",
       "      <td>Nintendo</td>\n",
       "      <td>23.20</td>\n",
       "      <td>2.26</td>\n",
       "      <td>4.22</td>\n",
       "      <td>30.26</td>\n",
       "      <td>NaN</td>\n",
       "      <td>NaN</td>\n",
       "      <td>NaN</td>\n",
       "      <td>NaN</td>\n",
       "      <td>NaN</td>\n",
       "      <td>NaN</td>\n",
       "    </tr>\n",
       "    <tr>\n",
       "      <th>9</th>\n",
       "      <td>Duck Hunt</td>\n",
       "      <td>NES</td>\n",
       "      <td>1984</td>\n",
       "      <td>Shooter</td>\n",
       "      <td>Nintendo</td>\n",
       "      <td>26.93</td>\n",
       "      <td>0.63</td>\n",
       "      <td>0.28</td>\n",
       "      <td>28.31</td>\n",
       "      <td>NaN</td>\n",
       "      <td>NaN</td>\n",
       "      <td>NaN</td>\n",
       "      <td>NaN</td>\n",
       "      <td>NaN</td>\n",
       "      <td>NaN</td>\n",
       "    </tr>\n",
       "    <tr>\n",
       "      <th>18</th>\n",
       "      <td>Super Mario World</td>\n",
       "      <td>SNES</td>\n",
       "      <td>1990</td>\n",
       "      <td>Platform</td>\n",
       "      <td>Nintendo</td>\n",
       "      <td>12.78</td>\n",
       "      <td>3.75</td>\n",
       "      <td>3.54</td>\n",
       "      <td>20.61</td>\n",
       "      <td>NaN</td>\n",
       "      <td>NaN</td>\n",
       "      <td>NaN</td>\n",
       "      <td>NaN</td>\n",
       "      <td>NaN</td>\n",
       "      <td>NaN</td>\n",
       "    </tr>\n",
       "    <tr>\n",
       "      <th>21</th>\n",
       "      <td>Super Mario Land</td>\n",
       "      <td>GB</td>\n",
       "      <td>1989</td>\n",
       "      <td>Platform</td>\n",
       "      <td>Nintendo</td>\n",
       "      <td>10.83</td>\n",
       "      <td>2.71</td>\n",
       "      <td>4.18</td>\n",
       "      <td>18.14</td>\n",
       "      <td>NaN</td>\n",
       "      <td>NaN</td>\n",
       "      <td>NaN</td>\n",
       "      <td>NaN</td>\n",
       "      <td>NaN</td>\n",
       "      <td>NaN</td>\n",
       "    </tr>\n",
       "  </tbody>\n",
       "</table>\n",
       "</div>"
      ],
      "text/plain": [
       "                 Name Platform  Year_of_Release     Genre Publisher  NA_Sales  \\\n",
       "1   Super Mario Bros.      NES             1985  Platform  Nintendo     29.08   \n",
       "5              Tetris       GB             1989    Puzzle  Nintendo     23.20   \n",
       "9           Duck Hunt      NES             1984   Shooter  Nintendo     26.93   \n",
       "18  Super Mario World     SNES             1990  Platform  Nintendo     12.78   \n",
       "21   Super Mario Land       GB             1989  Platform  Nintendo     10.83   \n",
       "\n",
       "    EU_Sales  JP_Sales  Global_Sales  Critic_Score  Critic_Count User_Score  \\\n",
       "1       3.58      6.81         40.24           NaN           NaN        NaN   \n",
       "5       2.26      4.22         30.26           NaN           NaN        NaN   \n",
       "9       0.63      0.28         28.31           NaN           NaN        NaN   \n",
       "18      3.75      3.54         20.61           NaN           NaN        NaN   \n",
       "21      2.71      4.18         18.14           NaN           NaN        NaN   \n",
       "\n",
       "    User_Count Developer Rating  \n",
       "1          NaN       NaN    NaN  \n",
       "5          NaN       NaN    NaN  \n",
       "9          NaN       NaN    NaN  \n",
       "18         NaN       NaN    NaN  \n",
       "21         NaN       NaN    NaN  "
      ]
     },
     "execution_count": 28,
     "metadata": {},
     "output_type": "execute_result"
    }
   ],
   "source": [
    "vgs_retro = vgs[ vgs[\"Year_of_Release\"] <= 1995 ]\n",
    "vgs_retro.head()"
   ]
  },
  {
   "cell_type": "markdown",
   "metadata": {},
   "source": [
    "#### Top Retro Games In The Current Popular Genres"
   ]
  },
  {
   "cell_type": "code",
   "execution_count": 29,
   "metadata": {},
   "outputs": [
    {
     "data": {
      "text/html": [
       "<div>\n",
       "<style scoped>\n",
       "    .dataframe tbody tr th:only-of-type {\n",
       "        vertical-align: middle;\n",
       "    }\n",
       "\n",
       "    .dataframe tbody tr th {\n",
       "        vertical-align: top;\n",
       "    }\n",
       "\n",
       "    .dataframe thead th {\n",
       "        text-align: right;\n",
       "    }\n",
       "</style>\n",
       "<table border=\"1\" class=\"dataframe\">\n",
       "  <thead>\n",
       "    <tr style=\"text-align: right;\">\n",
       "      <th></th>\n",
       "      <th>Name</th>\n",
       "      <th>Platform</th>\n",
       "      <th>Year_of_Release</th>\n",
       "      <th>Genre</th>\n",
       "      <th>Publisher</th>\n",
       "      <th>NA_Sales</th>\n",
       "      <th>EU_Sales</th>\n",
       "      <th>JP_Sales</th>\n",
       "      <th>Global_Sales</th>\n",
       "      <th>Critic_Score</th>\n",
       "      <th>Critic_Count</th>\n",
       "      <th>User_Score</th>\n",
       "      <th>User_Count</th>\n",
       "      <th>Developer</th>\n",
       "      <th>Rating</th>\n",
       "    </tr>\n",
       "  </thead>\n",
       "  <tbody>\n",
       "    <tr>\n",
       "      <th>9</th>\n",
       "      <td>Duck Hunt</td>\n",
       "      <td>NES</td>\n",
       "      <td>1984</td>\n",
       "      <td>Shooter</td>\n",
       "      <td>Nintendo</td>\n",
       "      <td>26.93</td>\n",
       "      <td>0.63</td>\n",
       "      <td>0.28</td>\n",
       "      <td>28.31</td>\n",
       "      <td>NaN</td>\n",
       "      <td>NaN</td>\n",
       "      <td>NaN</td>\n",
       "      <td>NaN</td>\n",
       "      <td>NaN</td>\n",
       "      <td>NaN</td>\n",
       "    </tr>\n",
       "  </tbody>\n",
       "</table>\n",
       "</div>"
      ],
      "text/plain": [
       "        Name Platform  Year_of_Release    Genre Publisher  NA_Sales  EU_Sales  \\\n",
       "9  Duck Hunt      NES             1984  Shooter  Nintendo     26.93      0.63   \n",
       "\n",
       "   JP_Sales  Global_Sales  Critic_Score  Critic_Count User_Score  User_Count  \\\n",
       "9      0.28         28.31           NaN           NaN        NaN         NaN   \n",
       "\n",
       "  Developer Rating  \n",
       "9       NaN    NaN  "
      ]
     },
     "execution_count": 29,
     "metadata": {},
     "output_type": "execute_result"
    }
   ],
   "source": [
    "#Looking into only the top 3 Genres in our Dataset\n",
    "global_genres = ['Action', 'Shooter', 'Sports']\n",
    "vgs_retro = vgs_retro[ vgs_retro[\"Genre\"].isin(global_genres) ]\n",
    "vgs_retro.head(1)"
   ]
  },
  {
   "cell_type": "code",
   "execution_count": 30,
   "metadata": {},
   "outputs": [],
   "source": [
    "# Picking the top games with regards to the Global Sales in the Dataset filtered by Genre\n",
    "top_20_vgs_global = vgs_retro.groupby('Name').agg({'Global_Sales':np.sum}).reset_index().sort_values(['Global_Sales'], ascending=[False])[['Name','Global_Sales']].head(20)\n",
    "top_20_vgs_na = vgs_retro.groupby('Name').agg({'NA_Sales':np.sum}).reset_index().sort_values(['NA_Sales'], ascending=[False])[['Name','NA_Sales']].head(20)\n",
    "top_20_vgs_eu = vgs_retro.groupby('Name').agg({'EU_Sales':np.sum}).reset_index().sort_values(['EU_Sales'], ascending=[False])[['Name','EU_Sales']].head(20)\n",
    "top_20_vgs_jp = vgs_retro.groupby('Name').agg({'JP_Sales':np.sum}).reset_index().sort_values(['JP_Sales'], ascending=[False])[['Name','JP_Sales']].head(20)"
   ]
  },
  {
   "cell_type": "code",
   "execution_count": 31,
   "metadata": {
    "scrolled": false
   },
   "outputs": [
    {
     "data": {
      "application/vnd.plotly.v1+json": {
       "config": {
        "linkText": "Export to plot.ly",
        "plotlyServerURL": "https://plot.ly",
        "showLink": false
       },
       "data": [
        {
         "marker": {
          "color": [
           28.31,
           6.51,
           6.13,
           4.8100000000000005,
           4.61,
           4.31,
           4.17,
           4.16,
           3.83,
           3.61,
           3.5,
           3.4399999999999995,
           3.08,
           2.99,
           2.91,
           2.76,
           2.73,
           2.6,
           2.37,
           2.23
          ],
          "colorscale": "Viridis"
         },
         "name": "Global",
         "type": "bar",
         "uid": "63431084-4546-4858-a383-a556d24ddc54",
         "x": [
          "Duck Hunt",
          "The Legend of Zelda",
          "Golf",
          "Baseball",
          "The Legend of Zelda: A Link to the Past",
          "Asteroids",
          "Teenage Mutant Ninja Turtles",
          "Tennis",
          "The Legend of Zelda: Link's Awakening",
          "Doom II: Hell on Earth",
          "Kung Fu",
          "NBA Jam",
          "World Class Track Meet",
          "Star Fox",
          "Ice Hockey",
          "Missile Command",
          "Metroid",
          "Streets of Rage",
          "NBA Jam Tournament Edition",
          "Teenage Mutant Ninja Turtles II: The Arcade Game"
         ],
         "xaxis": "x",
         "y": [
          28.31,
          6.51,
          6.13,
          4.8100000000000005,
          4.61,
          4.31,
          4.17,
          4.16,
          3.83,
          3.61,
          3.5,
          3.4399999999999995,
          3.08,
          2.99,
          2.91,
          2.76,
          2.73,
          2.6,
          2.37,
          2.23
         ],
         "yaxis": "y"
        },
        {
         "marker": {
          "color": [
           26.93,
           4,
           3.74,
           3.38,
           2.94,
           2.56,
           2.42,
           2.21,
           2.06,
           2.05,
           2.05,
           1.99,
           1.96,
           1.92,
           1.86,
           1.84,
           1.74,
           1.73,
           1.64,
           1.61
          ],
          "colorscale": "Viridis"
         },
         "name": "North America",
         "type": "bar",
         "uid": "426de097-35a3-4de3-b133-0f30f784a12a",
         "x": [
          "Duck Hunt",
          "Asteroids",
          "The Legend of Zelda",
          "Teenage Mutant Ninja Turtles",
          "NBA Jam",
          "Missile Command",
          "The Legend of Zelda: A Link to the Past",
          "The Legend of Zelda: Link's Awakening",
          "Frogger",
          "Golf",
          "Doom II: Hell on Earth",
          "Demon Attack",
          "NBA Jam Tournament Edition",
          "World Class Track Meet",
          "Streets of Rage",
          "E.T.: The Extra Terrestrial",
          "Teenage Mutant Ninja Turtles II: The Arcade Game",
          "Ice Hockey",
          "Kung Fu",
          "Star Fox"
         ],
         "xaxis": "x2",
         "y": [
          26.93,
          4,
          3.74,
          3.38,
          2.94,
          2.56,
          2.42,
          2.21,
          2.06,
          2.05,
          2.05,
          1.99,
          1.96,
          1.92,
          1.86,
          1.84,
          1.74,
          1.73,
          1.64,
          1.61
         ],
         "yaxis": "y2"
        },
        {
         "marker": {
          "color": [
           1.4,
           0.96,
           0.93,
           0.91,
           0.77,
           0.63,
           0.6100000000000001,
           0.55,
           0.51,
           0.5,
           0.45,
           0.44,
           0.41000000000000003,
           0.41,
           0.39,
           0.38,
           0.38,
           0.37,
           0.35,
           0.35
          ],
          "colorscale": "Viridis"
         },
         "name": "Europe",
         "type": "bar",
         "uid": "04889f9f-0e95-4aee-ba40-c30747271e51",
         "x": [
          "Doom II: Hell on Earth",
          "The Legend of Zelda: Link's Awakening",
          "The Legend of Zelda",
          "The Legend of Zelda: A Link to the Past",
          "Star Wars: Dark Forces",
          "Duck Hunt",
          "Golf",
          "Streets of Rage",
          "Star Fox",
          "Nintendo World Cup",
          "World Class Track Meet",
          "Teenage Mutant Ninja Turtles",
          "NBA Jam",
          "Tennis",
          "SolarStriker",
          "Kung Fu",
          "Super Scope 6",
          "Baseball",
          "Ice Hockey",
          "NBA Jam Tournament Edition"
         ],
         "xaxis": "x3",
         "y": [
          1.4,
          0.96,
          0.93,
          0.91,
          0.77,
          0.63,
          0.6100000000000001,
          0.55,
          0.51,
          0.5,
          0.45,
          0.44,
          0.41000000000000003,
          0.41,
          0.39,
          0.38,
          0.38,
          0.37,
          0.35,
          0.35
         ],
         "yaxis": "y3"
        },
        {
         "marker": {
          "color": [
           3.38,
           3,
           2.46,
           2.05,
           1.98,
           1.69,
           1.53,
           1.42,
           1.3,
           1.27,
           1.2,
           1.15,
           1.15,
           1.15,
           1.08,
           1.04,
           1,
           0.87,
           0.83,
           0.83
          ],
          "colorscale": "Viridis"
         },
         "name": "Japan",
         "type": "bar",
         "uid": "8abc76a9-8a73-47dc-bbec-92c0bb931ebc",
         "x": [
          "Golf",
          "Baseball",
          "Tennis",
          "Pro Yakyuu Family Stadium",
          "Volleyball",
          "The Legend of Zelda",
          "Soccer",
          "Kung Fu",
          "Pro Yakyuu Family Stadium '87",
          "Xevious",
          "TwinBee",
          "The Legend of Zelda: A Link to the Past",
          "Doraemon",
          "Derby Stallion III",
          "Pro Yakyuu Family Stadium '88",
          "Metroid",
          "Gradius",
          "Derby Stallion II",
          "Mobile Suit Gundam",
          "Pinball"
         ],
         "xaxis": "x4",
         "y": [
          3.38,
          3,
          2.46,
          2.05,
          1.98,
          1.69,
          1.53,
          1.42,
          1.3,
          1.27,
          1.2,
          1.15,
          1.15,
          1.15,
          1.08,
          1.04,
          1,
          0.87,
          0.83,
          0.83
         ],
         "yaxis": "y4"
        }
       ],
       "layout": {
        "annotations": [
         {
          "font": {
           "size": 16
          },
          "showarrow": false,
          "text": "Global",
          "x": 0.5,
          "xanchor": "center",
          "xref": "paper",
          "y": 1,
          "yanchor": "bottom",
          "yref": "paper"
         },
         {
          "font": {
           "size": 16
          },
          "showarrow": false,
          "text": "North America",
          "x": 0.5,
          "xanchor": "center",
          "xref": "paper",
          "y": 0.71875,
          "yanchor": "bottom",
          "yref": "paper"
         },
         {
          "font": {
           "size": 16
          },
          "showarrow": false,
          "text": "Europe",
          "x": 0.5,
          "xanchor": "center",
          "xref": "paper",
          "y": 0.4375,
          "yanchor": "bottom",
          "yref": "paper"
         },
         {
          "font": {
           "size": 16
          },
          "showarrow": false,
          "text": "Japan",
          "x": 0.5,
          "xanchor": "center",
          "xref": "paper",
          "y": 0.15625,
          "yanchor": "bottom",
          "yref": "paper"
         }
        ],
        "height": 3000,
        "margin": {
         "b": 200,
         "l": 100,
         "pad": 10,
         "r": 100,
         "t": 100
        },
        "showlegend": false,
        "title": "Top 10 Retro Game Titles  Sell",
        "titlefont": {
         "color": "#4292f4",
         "size": 30
        },
        "width": 900,
        "xaxis": {
         "anchor": "y",
         "domain": [
          0,
          1
         ]
        },
        "xaxis2": {
         "anchor": "y2",
         "domain": [
          0,
          1
         ]
        },
        "xaxis3": {
         "anchor": "y3",
         "domain": [
          0,
          1
         ]
        },
        "xaxis4": {
         "anchor": "y4",
         "domain": [
          0,
          1
         ],
         "title": "Title of the Game",
         "titlefont": {
          "color": "#4292f4",
          "size": 25
         }
        },
        "yaxis": {
         "anchor": "x",
         "domain": [
          0.84375,
          1
         ]
        },
        "yaxis2": {
         "anchor": "x2",
         "domain": [
          0.5625,
          0.71875
         ],
         "title": "Total Sales",
         "titlefont": {
          "color": "#4292f4",
          "size": 25
         }
        },
        "yaxis3": {
         "anchor": "x3",
         "domain": [
          0.28125,
          0.4375
         ]
        },
        "yaxis4": {
         "anchor": "x4",
         "domain": [
          0,
          0.15625
         ]
        }
       }
      },
      "text/html": [
       "<div id=\"fe45e020-3d2c-41f9-aa38-38289195ce9a\" style=\"height: 3000px; width: 900px;\" class=\"plotly-graph-div\"></div><script type=\"text/javascript\">require([\"plotly\"], function(Plotly) { window.PLOTLYENV=window.PLOTLYENV || {};window.PLOTLYENV.BASE_URL=\"https://plot.ly\";Plotly.newPlot(\"fe45e020-3d2c-41f9-aa38-38289195ce9a\", [{\"marker\": {\"color\": [28.31, 6.51, 6.13, 4.8100000000000005, 4.61, 4.31, 4.17, 4.16, 3.83, 3.61, 3.5, 3.4399999999999995, 3.08, 2.99, 2.91, 2.76, 2.73, 2.6, 2.37, 2.23], \"colorscale\": \"Viridis\"}, \"name\": \"Global\", \"x\": [\"Duck Hunt\", \"The Legend of Zelda\", \"Golf\", \"Baseball\", \"The Legend of Zelda: A Link to the Past\", \"Asteroids\", \"Teenage Mutant Ninja Turtles\", \"Tennis\", \"The Legend of Zelda: Link's Awakening\", \"Doom II: Hell on Earth\", \"Kung Fu\", \"NBA Jam\", \"World Class Track Meet\", \"Star Fox\", \"Ice Hockey\", \"Missile Command\", \"Metroid\", \"Streets of Rage\", \"NBA Jam Tournament Edition\", \"Teenage Mutant Ninja Turtles II: The Arcade Game\"], \"y\": [28.31, 6.51, 6.13, 4.8100000000000005, 4.61, 4.31, 4.17, 4.16, 3.83, 3.61, 3.5, 3.4399999999999995, 3.08, 2.99, 2.91, 2.76, 2.73, 2.6, 2.37, 2.23], \"type\": \"bar\", \"uid\": \"63431084-4546-4858-a383-a556d24ddc54\", \"xaxis\": \"x\", \"yaxis\": \"y\"}, {\"marker\": {\"color\": [26.93, 4.0, 3.74, 3.38, 2.94, 2.56, 2.42, 2.21, 2.06, 2.05, 2.05, 1.99, 1.96, 1.92, 1.86, 1.84, 1.74, 1.73, 1.64, 1.61], \"colorscale\": \"Viridis\"}, \"name\": \"North America\", \"x\": [\"Duck Hunt\", \"Asteroids\", \"The Legend of Zelda\", \"Teenage Mutant Ninja Turtles\", \"NBA Jam\", \"Missile Command\", \"The Legend of Zelda: A Link to the Past\", \"The Legend of Zelda: Link's Awakening\", \"Frogger\", \"Golf\", \"Doom II: Hell on Earth\", \"Demon Attack\", \"NBA Jam Tournament Edition\", \"World Class Track Meet\", \"Streets of Rage\", \"E.T.: The Extra Terrestrial\", \"Teenage Mutant Ninja Turtles II: The Arcade Game\", \"Ice Hockey\", \"Kung Fu\", \"Star Fox\"], \"y\": [26.93, 4.0, 3.74, 3.38, 2.94, 2.56, 2.42, 2.21, 2.06, 2.05, 2.05, 1.99, 1.96, 1.92, 1.86, 1.84, 1.74, 1.73, 1.64, 1.61], \"type\": \"bar\", \"uid\": \"426de097-35a3-4de3-b133-0f30f784a12a\", \"xaxis\": \"x2\", \"yaxis\": \"y2\"}, {\"marker\": {\"color\": [1.4, 0.96, 0.93, 0.91, 0.77, 0.63, 0.6100000000000001, 0.55, 0.51, 0.5, 0.45, 0.44, 0.41000000000000003, 0.41, 0.39, 0.38, 0.38, 0.37, 0.35, 0.35], \"colorscale\": \"Viridis\"}, \"name\": \"Europe\", \"x\": [\"Doom II: Hell on Earth\", \"The Legend of Zelda: Link's Awakening\", \"The Legend of Zelda\", \"The Legend of Zelda: A Link to the Past\", \"Star Wars: Dark Forces\", \"Duck Hunt\", \"Golf\", \"Streets of Rage\", \"Star Fox\", \"Nintendo World Cup\", \"World Class Track Meet\", \"Teenage Mutant Ninja Turtles\", \"NBA Jam\", \"Tennis\", \"SolarStriker\", \"Kung Fu\", \"Super Scope 6\", \"Baseball\", \"Ice Hockey\", \"NBA Jam Tournament Edition\"], \"y\": [1.4, 0.96, 0.93, 0.91, 0.77, 0.63, 0.6100000000000001, 0.55, 0.51, 0.5, 0.45, 0.44, 0.41000000000000003, 0.41, 0.39, 0.38, 0.38, 0.37, 0.35, 0.35], \"type\": \"bar\", \"uid\": \"04889f9f-0e95-4aee-ba40-c30747271e51\", \"xaxis\": \"x3\", \"yaxis\": \"y3\"}, {\"marker\": {\"color\": [3.38, 3.0, 2.46, 2.05, 1.98, 1.69, 1.53, 1.42, 1.3, 1.27, 1.2, 1.15, 1.15, 1.15, 1.08, 1.04, 1.0, 0.87, 0.83, 0.83], \"colorscale\": \"Viridis\"}, \"name\": \"Japan\", \"x\": [\"Golf\", \"Baseball\", \"Tennis\", \"Pro Yakyuu Family Stadium\", \"Volleyball\", \"The Legend of Zelda\", \"Soccer\", \"Kung Fu\", \"Pro Yakyuu Family Stadium '87\", \"Xevious\", \"TwinBee\", \"The Legend of Zelda: A Link to the Past\", \"Doraemon\", \"Derby Stallion III\", \"Pro Yakyuu Family Stadium '88\", \"Metroid\", \"Gradius\", \"Derby Stallion II\", \"Mobile Suit Gundam\", \"Pinball\"], \"y\": [3.38, 3.0, 2.46, 2.05, 1.98, 1.69, 1.53, 1.42, 1.3, 1.27, 1.2, 1.15, 1.15, 1.15, 1.08, 1.04, 1.0, 0.87, 0.83, 0.83], \"type\": \"bar\", \"uid\": \"8abc76a9-8a73-47dc-bbec-92c0bb931ebc\", \"xaxis\": \"x4\", \"yaxis\": \"y4\"}], {\"annotations\": [{\"font\": {\"size\": 16}, \"showarrow\": false, \"text\": \"Global\", \"x\": 0.5, \"xanchor\": \"center\", \"xref\": \"paper\", \"y\": 1.0, \"yanchor\": \"bottom\", \"yref\": \"paper\"}, {\"font\": {\"size\": 16}, \"showarrow\": false, \"text\": \"North America\", \"x\": 0.5, \"xanchor\": \"center\", \"xref\": \"paper\", \"y\": 0.71875, \"yanchor\": \"bottom\", \"yref\": \"paper\"}, {\"font\": {\"size\": 16}, \"showarrow\": false, \"text\": \"Europe\", \"x\": 0.5, \"xanchor\": \"center\", \"xref\": \"paper\", \"y\": 0.4375, \"yanchor\": \"bottom\", \"yref\": \"paper\"}, {\"font\": {\"size\": 16}, \"showarrow\": false, \"text\": \"Japan\", \"x\": 0.5, \"xanchor\": \"center\", \"xref\": \"paper\", \"y\": 0.15625, \"yanchor\": \"bottom\", \"yref\": \"paper\"}], \"xaxis\": {\"anchor\": \"y\", \"domain\": [0.0, 1.0]}, \"yaxis\": {\"anchor\": \"x\", \"domain\": [0.84375, 1.0]}, \"xaxis2\": {\"anchor\": \"y2\", \"domain\": [0.0, 1.0]}, \"yaxis2\": {\"anchor\": \"x2\", \"domain\": [0.5625, 0.71875], \"titlefont\": {\"size\": 25, \"color\": \"#4292f4\"}, \"title\": \"Total Sales\"}, \"xaxis3\": {\"anchor\": \"y3\", \"domain\": [0.0, 1.0]}, \"yaxis3\": {\"anchor\": \"x3\", \"domain\": [0.28125, 0.4375]}, \"xaxis4\": {\"anchor\": \"y4\", \"domain\": [0.0, 1.0], \"titlefont\": {\"size\": 25, \"color\": \"#4292f4\"}, \"title\": \"Title of the Game\"}, \"yaxis4\": {\"anchor\": \"x4\", \"domain\": [0.0, 0.15625]}, \"titlefont\": {\"size\": 30, \"color\": \"#4292f4\"}, \"margin\": {\"b\": 200, \"l\": 100, \"pad\": 10, \"r\": 100, \"t\": 100}, \"title\": \"Top 10 Retro Game Titles  Sell\", \"showlegend\": false, \"height\": 3000, \"width\": 900}, {\"showLink\": false, \"linkText\": \"Export to plot.ly\", \"plotlyServerURL\": \"https://plot.ly\"})});</script>"
      ],
      "text/vnd.plotly.v1+html": [
       "<div id=\"fe45e020-3d2c-41f9-aa38-38289195ce9a\" style=\"height: 3000px; width: 900px;\" class=\"plotly-graph-div\"></div><script type=\"text/javascript\">require([\"plotly\"], function(Plotly) { window.PLOTLYENV=window.PLOTLYENV || {};window.PLOTLYENV.BASE_URL=\"https://plot.ly\";Plotly.newPlot(\"fe45e020-3d2c-41f9-aa38-38289195ce9a\", [{\"marker\": {\"color\": [28.31, 6.51, 6.13, 4.8100000000000005, 4.61, 4.31, 4.17, 4.16, 3.83, 3.61, 3.5, 3.4399999999999995, 3.08, 2.99, 2.91, 2.76, 2.73, 2.6, 2.37, 2.23], \"colorscale\": \"Viridis\"}, \"name\": \"Global\", \"x\": [\"Duck Hunt\", \"The Legend of Zelda\", \"Golf\", \"Baseball\", \"The Legend of Zelda: A Link to the Past\", \"Asteroids\", \"Teenage Mutant Ninja Turtles\", \"Tennis\", \"The Legend of Zelda: Link's Awakening\", \"Doom II: Hell on Earth\", \"Kung Fu\", \"NBA Jam\", \"World Class Track Meet\", \"Star Fox\", \"Ice Hockey\", \"Missile Command\", \"Metroid\", \"Streets of Rage\", \"NBA Jam Tournament Edition\", \"Teenage Mutant Ninja Turtles II: The Arcade Game\"], \"y\": [28.31, 6.51, 6.13, 4.8100000000000005, 4.61, 4.31, 4.17, 4.16, 3.83, 3.61, 3.5, 3.4399999999999995, 3.08, 2.99, 2.91, 2.76, 2.73, 2.6, 2.37, 2.23], \"type\": \"bar\", \"uid\": \"63431084-4546-4858-a383-a556d24ddc54\", \"xaxis\": \"x\", \"yaxis\": \"y\"}, {\"marker\": {\"color\": [26.93, 4.0, 3.74, 3.38, 2.94, 2.56, 2.42, 2.21, 2.06, 2.05, 2.05, 1.99, 1.96, 1.92, 1.86, 1.84, 1.74, 1.73, 1.64, 1.61], \"colorscale\": \"Viridis\"}, \"name\": \"North America\", \"x\": [\"Duck Hunt\", \"Asteroids\", \"The Legend of Zelda\", \"Teenage Mutant Ninja Turtles\", \"NBA Jam\", \"Missile Command\", \"The Legend of Zelda: A Link to the Past\", \"The Legend of Zelda: Link's Awakening\", \"Frogger\", \"Golf\", \"Doom II: Hell on Earth\", \"Demon Attack\", \"NBA Jam Tournament Edition\", \"World Class Track Meet\", \"Streets of Rage\", \"E.T.: The Extra Terrestrial\", \"Teenage Mutant Ninja Turtles II: The Arcade Game\", \"Ice Hockey\", \"Kung Fu\", \"Star Fox\"], \"y\": [26.93, 4.0, 3.74, 3.38, 2.94, 2.56, 2.42, 2.21, 2.06, 2.05, 2.05, 1.99, 1.96, 1.92, 1.86, 1.84, 1.74, 1.73, 1.64, 1.61], \"type\": \"bar\", \"uid\": \"426de097-35a3-4de3-b133-0f30f784a12a\", \"xaxis\": \"x2\", \"yaxis\": \"y2\"}, {\"marker\": {\"color\": [1.4, 0.96, 0.93, 0.91, 0.77, 0.63, 0.6100000000000001, 0.55, 0.51, 0.5, 0.45, 0.44, 0.41000000000000003, 0.41, 0.39, 0.38, 0.38, 0.37, 0.35, 0.35], \"colorscale\": \"Viridis\"}, \"name\": \"Europe\", \"x\": [\"Doom II: Hell on Earth\", \"The Legend of Zelda: Link's Awakening\", \"The Legend of Zelda\", \"The Legend of Zelda: A Link to the Past\", \"Star Wars: Dark Forces\", \"Duck Hunt\", \"Golf\", \"Streets of Rage\", \"Star Fox\", \"Nintendo World Cup\", \"World Class Track Meet\", \"Teenage Mutant Ninja Turtles\", \"NBA Jam\", \"Tennis\", \"SolarStriker\", \"Kung Fu\", \"Super Scope 6\", \"Baseball\", \"Ice Hockey\", \"NBA Jam Tournament Edition\"], \"y\": [1.4, 0.96, 0.93, 0.91, 0.77, 0.63, 0.6100000000000001, 0.55, 0.51, 0.5, 0.45, 0.44, 0.41000000000000003, 0.41, 0.39, 0.38, 0.38, 0.37, 0.35, 0.35], \"type\": \"bar\", \"uid\": \"04889f9f-0e95-4aee-ba40-c30747271e51\", \"xaxis\": \"x3\", \"yaxis\": \"y3\"}, {\"marker\": {\"color\": [3.38, 3.0, 2.46, 2.05, 1.98, 1.69, 1.53, 1.42, 1.3, 1.27, 1.2, 1.15, 1.15, 1.15, 1.08, 1.04, 1.0, 0.87, 0.83, 0.83], \"colorscale\": \"Viridis\"}, \"name\": \"Japan\", \"x\": [\"Golf\", \"Baseball\", \"Tennis\", \"Pro Yakyuu Family Stadium\", \"Volleyball\", \"The Legend of Zelda\", \"Soccer\", \"Kung Fu\", \"Pro Yakyuu Family Stadium '87\", \"Xevious\", \"TwinBee\", \"The Legend of Zelda: A Link to the Past\", \"Doraemon\", \"Derby Stallion III\", \"Pro Yakyuu Family Stadium '88\", \"Metroid\", \"Gradius\", \"Derby Stallion II\", \"Mobile Suit Gundam\", \"Pinball\"], \"y\": [3.38, 3.0, 2.46, 2.05, 1.98, 1.69, 1.53, 1.42, 1.3, 1.27, 1.2, 1.15, 1.15, 1.15, 1.08, 1.04, 1.0, 0.87, 0.83, 0.83], \"type\": \"bar\", \"uid\": \"8abc76a9-8a73-47dc-bbec-92c0bb931ebc\", \"xaxis\": \"x4\", \"yaxis\": \"y4\"}], {\"annotations\": [{\"font\": {\"size\": 16}, \"showarrow\": false, \"text\": \"Global\", \"x\": 0.5, \"xanchor\": \"center\", \"xref\": \"paper\", \"y\": 1.0, \"yanchor\": \"bottom\", \"yref\": \"paper\"}, {\"font\": {\"size\": 16}, \"showarrow\": false, \"text\": \"North America\", \"x\": 0.5, \"xanchor\": \"center\", \"xref\": \"paper\", \"y\": 0.71875, \"yanchor\": \"bottom\", \"yref\": \"paper\"}, {\"font\": {\"size\": 16}, \"showarrow\": false, \"text\": \"Europe\", \"x\": 0.5, \"xanchor\": \"center\", \"xref\": \"paper\", \"y\": 0.4375, \"yanchor\": \"bottom\", \"yref\": \"paper\"}, {\"font\": {\"size\": 16}, \"showarrow\": false, \"text\": \"Japan\", \"x\": 0.5, \"xanchor\": \"center\", \"xref\": \"paper\", \"y\": 0.15625, \"yanchor\": \"bottom\", \"yref\": \"paper\"}], \"xaxis\": {\"anchor\": \"y\", \"domain\": [0.0, 1.0]}, \"yaxis\": {\"anchor\": \"x\", \"domain\": [0.84375, 1.0]}, \"xaxis2\": {\"anchor\": \"y2\", \"domain\": [0.0, 1.0]}, \"yaxis2\": {\"anchor\": \"x2\", \"domain\": [0.5625, 0.71875], \"titlefont\": {\"size\": 25, \"color\": \"#4292f4\"}, \"title\": \"Total Sales\"}, \"xaxis3\": {\"anchor\": \"y3\", \"domain\": [0.0, 1.0]}, \"yaxis3\": {\"anchor\": \"x3\", \"domain\": [0.28125, 0.4375]}, \"xaxis4\": {\"anchor\": \"y4\", \"domain\": [0.0, 1.0], \"titlefont\": {\"size\": 25, \"color\": \"#4292f4\"}, \"title\": \"Title of the Game\"}, \"yaxis4\": {\"anchor\": \"x4\", \"domain\": [0.0, 0.15625]}, \"titlefont\": {\"size\": 30, \"color\": \"#4292f4\"}, \"margin\": {\"b\": 200, \"l\": 100, \"pad\": 10, \"r\": 100, \"t\": 100}, \"title\": \"Top 10 Retro Game Titles  Sell\", \"showlegend\": false, \"height\": 3000, \"width\": 900}, {\"showLink\": false, \"linkText\": \"Export to plot.ly\", \"plotlyServerURL\": \"https://plot.ly\"})});</script>"
      ]
     },
     "metadata": {},
     "output_type": "display_data"
    }
   ],
   "source": [
    "from plotly import tools\n",
    "\n",
    "\n",
    "trace1 = go.Bar(\n",
    "                x = top_20_vgs_global.Name.tolist(),\n",
    "                y =top_20_vgs_global['Global_Sales'].tolist(),\n",
    "                name = 'Global',\n",
    "    marker={'color': top_20_vgs_global['Global_Sales'].tolist(),\n",
    "        'colorscale': 'Viridis'\n",
    "\n",
    "           }\n",
    "               )\n",
    "\n",
    "\n",
    "\n",
    "trace2 = go.Bar(\n",
    "                x = top_20_vgs_na.Name.tolist(),\n",
    "                y =top_20_vgs_na['NA_Sales'].tolist(),\n",
    "                name = 'North America',\n",
    "    marker={'color': top_20_vgs_na['NA_Sales'].tolist(),\n",
    "        'colorscale': 'Viridis'\n",
    "\n",
    "           }\n",
    "               )\n",
    "\n",
    "trace3 = go.Bar(\n",
    "                x = top_20_vgs_eu.Name.tolist(),\n",
    "                y =top_20_vgs_eu['EU_Sales'].tolist(),\n",
    "                name = 'Europe',\n",
    "    marker={'color': top_20_vgs_eu['EU_Sales'].tolist(),\n",
    "        'colorscale': 'Viridis'\n",
    "\n",
    "           }\n",
    "               )\n",
    "\n",
    "trace4 = go.Bar(\n",
    "                x = top_20_vgs_jp.Name.tolist(),\n",
    "                y =top_20_vgs_jp['JP_Sales'].tolist(),\n",
    "                name = 'Japan',\n",
    "    marker={'color': top_20_vgs_jp['JP_Sales'].tolist(),\n",
    "        'colorscale': 'Viridis'\n",
    "\n",
    "           }\n",
    "               )\n",
    "               \n",
    "data = [trace1,trace2,trace3,trace4]\n",
    "fig = tools.make_subplots(rows=4, cols=1, subplot_titles=('Global','North America', 'Europe','Japan'), print_grid=False,shared_yaxes=True)\n",
    "\n",
    "fig.append_trace(trace1, 1, 1)\n",
    "fig.append_trace(trace2, 2, 1)\n",
    "fig.append_trace(trace3, 3, 1)\n",
    "fig.append_trace(trace4, 4, 1)\n",
    "\n",
    "fig['layout']['xaxis4'].update(title='Title of the Game',titlefont={'size' : 25,'color' : '#4292f4'})\n",
    "fig['layout']['yaxis2'].update(title='Total Sales',titlefont={'size' : 25,'color' : '#4292f4'})\n",
    "fig['layout'].update(title=\"Top 10 Retro Game Titles  Sell\",titlefont={'size' : 30,'color' : '#4292f4'}, showlegend=False,height=3000, width=900,margin=go.layout.Margin(\n",
    "        l=100,\n",
    "        r=100,\n",
    "        b=200,\n",
    "        t=100,\n",
    "        pad=10\n",
    "    ))\n",
    "                     \n",
    "config={'showLink': False}\n",
    "iplot(fig,filename='grouped bar',config=config, image_width=800, image_height=1200)"
   ]
  },
  {
   "cell_type": "markdown",
   "metadata": {},
   "source": [
    "# Regression Analysis"
   ]
  },
  {
   "cell_type": "markdown",
   "metadata": {},
   "source": [
    "#### Getting missing data"
   ]
  },
  {
   "cell_type": "code",
   "execution_count": 32,
   "metadata": {},
   "outputs": [
    {
     "data": {
      "text/plain": [
       "Name                0.011962\n",
       "Platform            0.000000\n",
       "Year_of_Release     0.000000\n",
       "Genre               0.000000\n",
       "Publisher           0.000000\n",
       "NA_Sales            0.000000\n",
       "EU_Sales            0.000000\n",
       "JP_Sales            0.000000\n",
       "Global_Sales        0.000000\n",
       "Critic_Score       51.330821\n",
       "Critic_Count       51.330821\n",
       "User_Score         40.098092\n",
       "User_Count         54.602548\n",
       "Developer          39.613613\n",
       "Rating             40.486871\n",
       "dtype: float64"
      ]
     },
     "execution_count": 32,
     "metadata": {},
     "output_type": "execute_result"
    }
   ],
   "source": [
    "columns = vgs.columns\n",
    "percent_missing = vgs.isnull().sum() * 100 / len(vgs)\n",
    "missing_value_df = pd.DataFrame({'column_name': columns,\n",
    "                                 'percent_missing': percent_missing})\n",
    "missing_value_df.sort_values('percent_missing', inplace=True)\n",
    "percent_missing = vgs.isnull().sum() * 100 / len(vgs)\n",
    "percent_missing"
   ]
  },
  {
   "cell_type": "code",
   "execution_count": 33,
   "metadata": {},
   "outputs": [
    {
     "data": {
      "text/plain": [
       "(16719, 15)"
      ]
     },
     "execution_count": 33,
     "metadata": {},
     "output_type": "execute_result"
    }
   ],
   "source": [
    "data = vgs.copy()\n",
    "data.shape"
   ]
  },
  {
   "cell_type": "code",
   "execution_count": 34,
   "metadata": {},
   "outputs": [
    {
     "data": {
      "text/html": [
       "<div>\n",
       "<style scoped>\n",
       "    .dataframe tbody tr th:only-of-type {\n",
       "        vertical-align: middle;\n",
       "    }\n",
       "\n",
       "    .dataframe tbody tr th {\n",
       "        vertical-align: top;\n",
       "    }\n",
       "\n",
       "    .dataframe thead th {\n",
       "        text-align: right;\n",
       "    }\n",
       "</style>\n",
       "<table border=\"1\" class=\"dataframe\">\n",
       "  <thead>\n",
       "    <tr style=\"text-align: right;\">\n",
       "      <th></th>\n",
       "      <th>Name</th>\n",
       "      <th>Platform</th>\n",
       "      <th>Year_of_Release</th>\n",
       "      <th>Genre</th>\n",
       "      <th>Publisher</th>\n",
       "      <th>NA_Sales</th>\n",
       "      <th>EU_Sales</th>\n",
       "      <th>JP_Sales</th>\n",
       "      <th>Global_Sales</th>\n",
       "      <th>Critic_Score</th>\n",
       "      <th>Critic_Count</th>\n",
       "      <th>User_Score</th>\n",
       "      <th>User_Count</th>\n",
       "      <th>Developer</th>\n",
       "      <th>Rating</th>\n",
       "    </tr>\n",
       "  </thead>\n",
       "  <tbody>\n",
       "    <tr>\n",
       "      <th>0</th>\n",
       "      <td>Wii Sports</td>\n",
       "      <td>Wii</td>\n",
       "      <td>2006</td>\n",
       "      <td>Sports</td>\n",
       "      <td>Nintendo</td>\n",
       "      <td>41.36</td>\n",
       "      <td>28.96</td>\n",
       "      <td>3.77</td>\n",
       "      <td>82.53</td>\n",
       "      <td>76.0</td>\n",
       "      <td>51.0</td>\n",
       "      <td>8</td>\n",
       "      <td>322.0</td>\n",
       "      <td>Nintendo</td>\n",
       "      <td>E</td>\n",
       "    </tr>\n",
       "    <tr>\n",
       "      <th>1</th>\n",
       "      <td>Super Mario Bros.</td>\n",
       "      <td>NES</td>\n",
       "      <td>1985</td>\n",
       "      <td>Platform</td>\n",
       "      <td>Nintendo</td>\n",
       "      <td>29.08</td>\n",
       "      <td>3.58</td>\n",
       "      <td>6.81</td>\n",
       "      <td>40.24</td>\n",
       "      <td>NaN</td>\n",
       "      <td>NaN</td>\n",
       "      <td>NaN</td>\n",
       "      <td>NaN</td>\n",
       "      <td>NaN</td>\n",
       "      <td>NaN</td>\n",
       "    </tr>\n",
       "    <tr>\n",
       "      <th>2</th>\n",
       "      <td>Mario Kart Wii</td>\n",
       "      <td>Wii</td>\n",
       "      <td>2008</td>\n",
       "      <td>Racing</td>\n",
       "      <td>Nintendo</td>\n",
       "      <td>15.68</td>\n",
       "      <td>12.76</td>\n",
       "      <td>3.79</td>\n",
       "      <td>35.52</td>\n",
       "      <td>82.0</td>\n",
       "      <td>73.0</td>\n",
       "      <td>8.3</td>\n",
       "      <td>709.0</td>\n",
       "      <td>Nintendo</td>\n",
       "      <td>E</td>\n",
       "    </tr>\n",
       "  </tbody>\n",
       "</table>\n",
       "</div>"
      ],
      "text/plain": [
       "                Name Platform  Year_of_Release     Genre Publisher  NA_Sales  \\\n",
       "0         Wii Sports      Wii             2006    Sports  Nintendo     41.36   \n",
       "1  Super Mario Bros.      NES             1985  Platform  Nintendo     29.08   \n",
       "2     Mario Kart Wii      Wii             2008    Racing  Nintendo     15.68   \n",
       "\n",
       "   EU_Sales  JP_Sales  Global_Sales  Critic_Score  Critic_Count User_Score  \\\n",
       "0     28.96      3.77         82.53          76.0          51.0          8   \n",
       "1      3.58      6.81         40.24           NaN           NaN        NaN   \n",
       "2     12.76      3.79         35.52          82.0          73.0        8.3   \n",
       "\n",
       "   User_Count Developer Rating  \n",
       "0       322.0  Nintendo      E  \n",
       "1         NaN       NaN    NaN  \n",
       "2       709.0  Nintendo      E  "
      ]
     },
     "execution_count": 34,
     "metadata": {},
     "output_type": "execute_result"
    }
   ],
   "source": [
    "data.head(3)"
   ]
  },
  {
   "cell_type": "markdown",
   "metadata": {},
   "source": [
    "## Exploratory data analysis"
   ]
  },
  {
   "cell_type": "markdown",
   "metadata": {},
   "source": [
    "* In previewing the head of the data we have 15 columns in total. Now we have to decide\n",
    "\n",
    "a) Which sales feature do we want to use as the **dependent variable**\n",
    "\n",
    "b) Which features do we want to use as the **independent variables**\n",
    "\n",
    "* Important things to consider here include making a distinction with platforms. There are platforms from both the current console generation and the previous one as well as many others.. As the video game industry has grown rapidly there may be significant time variance if we want to look at all consoles from each generation.\n",
    "\n",
    "* As the video game industry is global, let's have global sales as the dependent variable. This means later on we can drop all other sales features.\n",
    "\n",
    "* Before we decide on independent variables, let's do some more exploration first."
   ]
  },
  {
   "cell_type": "markdown",
   "metadata": {},
   "source": [
    "####  Lets Check for outliers"
   ]
  },
  {
   "cell_type": "code",
   "execution_count": 35,
   "metadata": {},
   "outputs": [
    {
     "data": {
      "image/png": "[encoded data removed]",
      "text/plain": [
       "<Figure size 432x288 with 1 Axes>"
      ]
     },
     "metadata": {
      "needs_background": "light"
     },
     "output_type": "display_data"
    }
   ],
   "source": [
    "fig, ax = plt.subplots()\n",
    "ax.scatter(x = data['Critic_Score'], y = data['Global_Sales'])\n",
    "plt.ylabel('Global_Sales', fontsize=13)\n",
    "plt.xlabel('Critic_Score', fontsize=13)\n",
    "plt.show()"
   ]
  },
  {
   "cell_type": "markdown",
   "metadata": {},
   "source": [
    "There's really only one clear outlier in the dataset, so lets get rid of it"
   ]
  },
  {
   "cell_type": "code",
   "execution_count": 36,
   "metadata": {},
   "outputs": [],
   "source": [
    "data = data.drop(data[(data['Critic_Score']>60) & (data['Global_Sales']>60)].index)"
   ]
  },
  {
   "cell_type": "markdown",
   "metadata": {},
   "source": [
    "Let's check the plot again to confirm we are rid of the outlier"
   ]
  },
  {
   "cell_type": "code",
   "execution_count": 37,
   "metadata": {},
   "outputs": [
    {
     "data": {
      "image/png": "[encoded data removed]",
      "text/plain": [
       "<Figure size 432x288 with 1 Axes>"
      ]
     },
     "metadata": {
      "needs_background": "light"
     },
     "output_type": "display_data"
    }
   ],
   "source": [
    "fig, ax = plt.subplots()\n",
    "ax.scatter(x = data['Critic_Score'], y = data['Global_Sales'])\n",
    "plt.ylabel('Global_Sales', fontsize=13)\n",
    "plt.xlabel('Critic_Score', fontsize=13)\n",
    "plt.show()"
   ]
  },
  {
   "cell_type": "markdown",
   "metadata": {},
   "source": [
    "Here we get to the question of \"what constitutes an outlier?\". If we look at the plot post-outlier removal, it still looks as if though there are outliers in the data. However, removing too many data points that are seemingly outliers may cross over to data tampering, which we don't want to get into. So for now, lets keep the data as it is."
   ]
  },
  {
   "cell_type": "markdown",
   "metadata": {},
   "source": [
    "#### The Target Variable\n",
    "\n",
    "Our dependent variable is Global_Sales, so lets explore it some more.\n",
    "\n",
    "Let's look at its distribution"
   ]
  },
  {
   "cell_type": "code",
   "execution_count": 38,
   "metadata": {},
   "outputs": [
    {
     "name": "stderr",
     "output_type": "stream",
     "text": [
      "/home/bat/anaconda3/lib/python3.6/site-packages/scipy/stats/stats.py:1713: FutureWarning:\n",
      "\n",
      "Using a non-tuple sequence for multidimensional indexing is deprecated; use `arr[tuple(seq)]` instead of `arr[seq]`. In the future this will be interpreted as an array index, `arr[np.array(seq)]`, which will result either in an error or a different result.\n",
      "\n"
     ]
    },
    {
     "name": "stdout",
     "output_type": "stream",
     "text": [
      "\n",
      " mu = 0.53 and sigma = 1.41\n",
      "\n"
     ]
    },
    {
     "data": {
      "image/png": "[encoded data removed]",
      "text/plain": [
       "<Figure size 432x288 with 1 Axes>"
      ]
     },
     "metadata": {
      "needs_background": "light"
     },
     "output_type": "display_data"
    },
    {
     "data": {
      "image/png": "[encoded data removed]",
      "text/plain": [
       "<Figure size 432x288 with 1 Axes>"
      ]
     },
     "metadata": {
      "needs_background": "light"
     },
     "output_type": "display_data"
    }
   ],
   "source": [
    "sns.distplot(data['Global_Sales'] , fit=norm);\n",
    "\n",
    "# Get the fitted parameters used by the function\n",
    "(mu, sigma) = norm.fit(data['Global_Sales'])\n",
    "print( '\\n mu = {:.2f} and sigma = {:.2f}\\n'.format(mu, sigma))\n",
    "\n",
    "#Now plot the distribution\n",
    "plt.legend(['Normal dist. ($\\mu=$ {:.2f} and $\\sigma=$ {:.2f} )'.format(mu, sigma)],\n",
    "            loc='best')\n",
    "plt.ylabel('Frequency')\n",
    "plt.title('Global_Sales distribution')\n",
    "\n",
    "#Get also the QQ-plot\n",
    "fig = plt.figure()\n",
    "res = stats.probplot(data['Global_Sales'], plot=plt)\n",
    "plt.show()"
   ]
  },
  {
   "cell_type": "markdown",
   "metadata": {},
   "source": [
    "* As we can see, **Global_Sales** is nowhere normally distributed, which may be problematic for us down the line. However, as we have yet to further investigate the data, let's not do any transformations just yet. We'll look at doing a log-transformation down the line.\n",
    "\n",
    "\n",
    "\n",
    "* Before we move on to splitting the data into training and test sets, lets look at some feature correlations, to ensure that our independent variables don't suffer from autocorrelation, which may be problematic in some linear models such as liner regression if we want to look at feature importance through the intercepts. Let's do this by plotting a correlation heatmap with Seaborn."
   ]
  },
  {
   "cell_type": "code",
   "execution_count": 39,
   "metadata": {
    "scrolled": false
   },
   "outputs": [
    {
     "data": {
      "image/png": "[encoded data removed]",
      "text/plain": [
       "<Figure size 1008x792 with 2 Axes>"
      ]
     },
     "metadata": {
      "needs_background": "light"
     },
     "output_type": "display_data"
    }
   ],
   "source": [
    "str_list = [] # empty list to contain columns with strings (words)\n",
    "for colname, colvalue in vgs.iteritems():\n",
    "    if type(colvalue[2]) == str:\n",
    "         str_list.append(colname)\n",
    "# Get to the numeric columns by inversion            \n",
    "num_list = vgs.columns.difference(str_list) \n",
    "# Create Dataframe containing only numerical features\n",
    "data_num = vgs[num_list]\n",
    "f, ax = plt.subplots(figsize=(14, 11))\n",
    "plt.title('Correlation of Video Game Numerical Features')\n",
    "# Draw the heatmap using seaborn\n",
    "sns.heatmap(data_num.astype(float).corr(),linewidths=0.25,vmax=1.0, \n",
    "            square=True, cmap=\"cubehelix_r\", linecolor='k', annot=True)\n",
    "plt.show()"
   ]
  },
  {
   "cell_type": "markdown",
   "metadata": {},
   "source": [
    "* In terms of autocorrelation the prospective independent variables aren't too highly correlated with each other in the correlation heat map. \n",
    "\n",
    "\n",
    "* Only sales numbers are highly correlated with each other. Therefore we can look at intercepts of regression models without too much worries if we wish to do so later on. \n",
    "\n",
    "\n",
    "* Higher correlations between sales figures may speak to the global nature of the video game industry: a success in one continent usually means a success in another continent as well. This lends greater confidence to using just Global_Sales as the dependent variable."
   ]
  },
  {
   "cell_type": "markdown",
   "metadata": {},
   "source": [
    "#### Feature Engineering"
   ]
  },
  {
   "cell_type": "markdown",
   "metadata": {},
   "source": [
    "Let's look at what features have N/A values"
   ]
  },
  {
   "cell_type": "code",
   "execution_count": 40,
   "metadata": {},
   "outputs": [
    {
     "data": {
      "text/html": [
       "<div>\n",
       "<style scoped>\n",
       "    .dataframe tbody tr th:only-of-type {\n",
       "        vertical-align: middle;\n",
       "    }\n",
       "\n",
       "    .dataframe tbody tr th {\n",
       "        vertical-align: top;\n",
       "    }\n",
       "\n",
       "    .dataframe thead th {\n",
       "        text-align: right;\n",
       "    }\n",
       "</style>\n",
       "<table border=\"1\" class=\"dataframe\">\n",
       "  <thead>\n",
       "    <tr style=\"text-align: right;\">\n",
       "      <th></th>\n",
       "      <th>Missing Ratio</th>\n",
       "    </tr>\n",
       "  </thead>\n",
       "  <tbody>\n",
       "    <tr>\n",
       "      <th>User_Count</th>\n",
       "      <td>54.605814</td>\n",
       "    </tr>\n",
       "    <tr>\n",
       "      <th>Critic_Count</th>\n",
       "      <td>51.333892</td>\n",
       "    </tr>\n",
       "    <tr>\n",
       "      <th>Critic_Score</th>\n",
       "      <td>51.333892</td>\n",
       "    </tr>\n",
       "    <tr>\n",
       "      <th>Rating</th>\n",
       "      <td>40.489293</td>\n",
       "    </tr>\n",
       "    <tr>\n",
       "      <th>User_Score</th>\n",
       "      <td>40.100490</td>\n",
       "    </tr>\n",
       "    <tr>\n",
       "      <th>Developer</th>\n",
       "      <td>39.615983</td>\n",
       "    </tr>\n",
       "    <tr>\n",
       "      <th>Name</th>\n",
       "      <td>0.011963</td>\n",
       "    </tr>\n",
       "  </tbody>\n",
       "</table>\n",
       "</div>"
      ],
      "text/plain": [
       "              Missing Ratio\n",
       "User_Count        54.605814\n",
       "Critic_Count      51.333892\n",
       "Critic_Score      51.333892\n",
       "Rating            40.489293\n",
       "User_Score        40.100490\n",
       "Developer         39.615983\n",
       "Name               0.011963"
      ]
     },
     "execution_count": 40,
     "metadata": {},
     "output_type": "execute_result"
    }
   ],
   "source": [
    "data_na = (data.isnull().sum() / len(data)) * 100\n",
    "data_na = data_na.drop(data_na[data_na == 0].index).sort_values(ascending=False)[:30]\n",
    "missing_data = pd.DataFrame({'Missing Ratio' :data_na})\n",
    "missing_data.head(15)"
   ]
  },
  {
   "cell_type": "markdown",
   "metadata": {},
   "source": [
    "* Here we have an issue. Critic_Score which may very well be the most important independent variable, has almost 50 % of its values as N/A. Similarly roughly 40 % of data points are missing for User_Score which is highly likely one of the most important independent variables. This ratio of missing data is so large, that it cannot feasibly be filled with median values for instance.\n",
    "\n",
    "\n",
    "* Lets try a workaround. As previously mentioned, it may be more relevant to look at only current or previous generation consoles. So let's find out what all the consoles in the dataset are. Then lets choose a subset of those and this will likely automatically reduce the missing ratio of the independent variables as lesser known consoles and console games might not have Metacritic scores. Two birds with one stone."
   ]
  },
  {
   "cell_type": "code",
   "execution_count": 41,
   "metadata": {},
   "outputs": [
    {
     "name": "stdout",
     "output_type": "stream",
     "text": [
      "PS2     2161\n",
      "DS      2152\n",
      "PS3     1331\n",
      "Wii     1319\n",
      "X360    1262\n",
      "PSP     1209\n",
      "PS      1197\n",
      "PC       974\n",
      "XB       824\n",
      "GBA      822\n",
      "GC       556\n",
      "3DS      520\n",
      "PSV      432\n",
      "PS4      393\n",
      "N64      319\n",
      "XOne     247\n",
      "SNES     239\n",
      "SAT      173\n",
      "WiiU     147\n",
      "2600     133\n",
      "NES       98\n",
      "GB        98\n",
      "DC        52\n",
      "GEN       29\n",
      "NG        12\n",
      "WS         6\n",
      "SCD        6\n",
      "3DO        3\n",
      "TG16       2\n",
      "GG         1\n",
      "PCFX       1\n",
      "Name: Platform, dtype: int64\n"
     ]
    }
   ],
   "source": [
    "print(pd.value_counts(data[\"Platform\"]))"
   ]
  },
  {
   "cell_type": "markdown",
   "metadata": {},
   "source": [
    "* As we can see, there are actually a lot of different platforms in the dataset. As previously mentioned, it might be most relevant to look at only current gen consoles in our model, however the issue here is that we will have a limited amount of data. \n",
    "\n",
    "\n",
    "* Therefore, let's widen our scope somewhat and look at the following platforms: PS3, PS4, X360, XOne, PC, Wii and WiiU. This ensures that we won't have too little data. Let's keep only relevant platforms."
   ]
  },
  {
   "cell_type": "code",
   "execution_count": 42,
   "metadata": {},
   "outputs": [
    {
     "name": "stdout",
     "output_type": "stream",
     "text": [
      "PS3     1331\n",
      "Wii     1319\n",
      "X360    1262\n",
      "PC       974\n",
      "PS4      393\n",
      "XOne     247\n",
      "WiiU     147\n",
      "Name: Platform, dtype: int64\n",
      "(5673, 15)\n"
     ]
    },
    {
     "data": {
      "text/html": [
       "<div>\n",
       "<style scoped>\n",
       "    .dataframe tbody tr th:only-of-type {\n",
       "        vertical-align: middle;\n",
       "    }\n",
       "\n",
       "    .dataframe tbody tr th {\n",
       "        vertical-align: top;\n",
       "    }\n",
       "\n",
       "    .dataframe thead th {\n",
       "        text-align: right;\n",
       "    }\n",
       "</style>\n",
       "<table border=\"1\" class=\"dataframe\">\n",
       "  <thead>\n",
       "    <tr style=\"text-align: right;\">\n",
       "      <th></th>\n",
       "      <th>Missing Ratio</th>\n",
       "    </tr>\n",
       "  </thead>\n",
       "  <tbody>\n",
       "    <tr>\n",
       "      <th>Critic_Count</th>\n",
       "      <td>37.493390</td>\n",
       "    </tr>\n",
       "    <tr>\n",
       "      <th>Critic_Score</th>\n",
       "      <td>37.493390</td>\n",
       "    </tr>\n",
       "    <tr>\n",
       "      <th>User_Count</th>\n",
       "      <td>34.584876</td>\n",
       "    </tr>\n",
       "    <tr>\n",
       "      <th>Rating</th>\n",
       "      <td>23.761678</td>\n",
       "    </tr>\n",
       "    <tr>\n",
       "      <th>User_Score</th>\n",
       "      <td>22.563018</td>\n",
       "    </tr>\n",
       "    <tr>\n",
       "      <th>Developer</th>\n",
       "      <td>21.716905</td>\n",
       "    </tr>\n",
       "  </tbody>\n",
       "</table>\n",
       "</div>"
      ],
      "text/plain": [
       "              Missing Ratio\n",
       "Critic_Count      37.493390\n",
       "Critic_Score      37.493390\n",
       "User_Count        34.584876\n",
       "Rating            23.761678\n",
       "User_Score        22.563018\n",
       "Developer         21.716905"
      ]
     },
     "execution_count": 42,
     "metadata": {},
     "output_type": "execute_result"
    }
   ],
   "source": [
    "data = data[(data['Platform'] == 'PS3') | (data['Platform'] == 'PS4') | (data['Platform'] == 'X360') | (data['Platform'] == 'XOne') | (data['Platform'] == 'Wii') | (data['Platform'] == 'WiiU') | (data['Platform'] == 'PC')]\n",
    "\n",
    "#Let's double check the value counts to be sure\n",
    "print(pd.value_counts(data[\"Platform\"]))\n",
    "\n",
    "#Let's see the shape of the data again\n",
    "print(data.shape)\n",
    "\n",
    "#Lets see the missing ratios again\n",
    "data_na = (data.isnull().sum() / len(data)) * 100\n",
    "data_na = data_na.drop(data_na[data_na == 0].index).sort_values(ascending=False)[:30]\n",
    "missing_data = pd.DataFrame({'Missing Ratio' :data_na})\n",
    "missing_data.head(16)"
   ]
  },
  {
   "cell_type": "markdown",
   "metadata": {
    "collapsed": true
   },
   "source": [
    "So we still have almost 40 % of data points missing the critic score. This is still way too big, so let's drop all rows, that have N/A for Critic_Score. We cannot replace 40 % of the data with say, the median values. We must therefore eliminate N/A observations themselves."
   ]
  },
  {
   "cell_type": "code",
   "execution_count": 43,
   "metadata": {},
   "outputs": [
    {
     "name": "stdout",
     "output_type": "stream",
     "text": [
      "(3546, 15)\n"
     ]
    },
    {
     "data": {
      "text/html": [
       "<div>\n",
       "<style scoped>\n",
       "    .dataframe tbody tr th:only-of-type {\n",
       "        vertical-align: middle;\n",
       "    }\n",
       "\n",
       "    .dataframe tbody tr th {\n",
       "        vertical-align: top;\n",
       "    }\n",
       "\n",
       "    .dataframe thead th {\n",
       "        text-align: right;\n",
       "    }\n",
       "</style>\n",
       "<table border=\"1\" class=\"dataframe\">\n",
       "  <thead>\n",
       "    <tr style=\"text-align: right;\">\n",
       "      <th></th>\n",
       "      <th>Missing Ratio</th>\n",
       "    </tr>\n",
       "  </thead>\n",
       "  <tbody>\n",
       "    <tr>\n",
       "      <th>User_Count</th>\n",
       "      <td>5.019741</td>\n",
       "    </tr>\n",
       "    <tr>\n",
       "      <th>Rating</th>\n",
       "      <td>2.002256</td>\n",
       "    </tr>\n",
       "    <tr>\n",
       "      <th>User_Score</th>\n",
       "      <td>0.564016</td>\n",
       "    </tr>\n",
       "    <tr>\n",
       "      <th>Developer</th>\n",
       "      <td>0.084602</td>\n",
       "    </tr>\n",
       "  </tbody>\n",
       "</table>\n",
       "</div>"
      ],
      "text/plain": [
       "            Missing Ratio\n",
       "User_Count       5.019741\n",
       "Rating           2.002256\n",
       "User_Score       0.564016\n",
       "Developer        0.084602"
      ]
     },
     "execution_count": 43,
     "metadata": {},
     "output_type": "execute_result"
    }
   ],
   "source": [
    "data = data.dropna(subset=['Critic_Score'])\n",
    "\n",
    "#Let's see the shape of the data again\n",
    "print(data.shape)\n",
    "\n",
    "#Lets see the missing ratios again\n",
    "data_na = (data.isnull().sum() / len(data)) * 100\n",
    "data_na = data_na.drop(data_na[data_na == 0].index).sort_values(ascending=False)[:30]\n",
    "missing_data = pd.DataFrame({'Missing Ratio' :data_na})\n",
    "missing_data.head(16)"
   ]
  },
  {
   "cell_type": "markdown",
   "metadata": {},
   "source": [
    "* This looks better already. We've reached the point where we've dealt with N/A values for the most important variable and we still have enough data to work with. We still have to handle N/A values for the rest of the variables however, but this isn't as glaring of an issue as the missing ratios are relatively small, the highest being roughly 5 % for User_Count.\n",
    "\n",
    "\n",
    "* Let's deal with the rest of the N/A values next."
   ]
  },
  {
   "cell_type": "markdown",
   "metadata": {},
   "source": [
    "####  For Publisher let's fill N/A's with the mode\n"
   ]
  },
  {
   "cell_type": "code",
   "execution_count": 44,
   "metadata": {},
   "outputs": [],
   "source": [
    "data['Publisher'] = data['Publisher'].fillna(data['Publisher'].mode()[0])"
   ]
  },
  {
   "cell_type": "markdown",
   "metadata": {},
   "source": [
    "#### For Developer let's fill N/A's with the mode"
   ]
  },
  {
   "cell_type": "code",
   "execution_count": 45,
   "metadata": {},
   "outputs": [],
   "source": [
    "data['Developer'] = data['Developer'].fillna(data['Developer'].mode()[0])"
   ]
  },
  {
   "cell_type": "markdown",
   "metadata": {},
   "source": [
    "#### For Rating let's fill N/A's with the mode"
   ]
  },
  {
   "cell_type": "code",
   "execution_count": 46,
   "metadata": {},
   "outputs": [],
   "source": [
    "data['Rating'] = data['Rating'].fillna(data['Rating'].mode()[0])"
   ]
  },
  {
   "cell_type": "markdown",
   "metadata": {},
   "source": [
    "#### For Year_of_Release let's fill with the median value"
   ]
  },
  {
   "cell_type": "code",
   "execution_count": 47,
   "metadata": {},
   "outputs": [],
   "source": [
    "data['Year_of_Release'] = data['Year_of_Release'].fillna(data['Year_of_Release'].median())"
   ]
  },
  {
   "cell_type": "markdown",
   "metadata": {},
   "source": [
    "#### For User_Score let's fill with the median value"
   ]
  },
  {
   "cell_type": "code",
   "execution_count": 48,
   "metadata": {},
   "outputs": [],
   "source": [
    "#There's \"tbd\" values in the mix here which we need to handle first\n",
    "data['User_Score'] = data['User_Score'].replace('tbd', None)\n",
    "\n",
    "#Now we can handle the N/A's appropriately\n",
    "data['User_Score'] = data['User_Score'].fillna(data['User_Score'].median())"
   ]
  },
  {
   "cell_type": "markdown",
   "metadata": {},
   "source": [
    "#### For User_Count let's fill with the median value"
   ]
  },
  {
   "cell_type": "code",
   "execution_count": 49,
   "metadata": {},
   "outputs": [],
   "source": [
    "data['User_Count'] = data['User_Count'].fillna(data['User_Count'].median())\n"
   ]
  },
  {
   "cell_type": "markdown",
   "metadata": {},
   "source": [
    "#### Now let's verify that we don't have any more missing values"
   ]
  },
  {
   "cell_type": "code",
   "execution_count": 50,
   "metadata": {},
   "outputs": [
    {
     "data": {
      "text/html": [
       "<div>\n",
       "<style scoped>\n",
       "    .dataframe tbody tr th:only-of-type {\n",
       "        vertical-align: middle;\n",
       "    }\n",
       "\n",
       "    .dataframe tbody tr th {\n",
       "        vertical-align: top;\n",
       "    }\n",
       "\n",
       "    .dataframe thead th {\n",
       "        text-align: right;\n",
       "    }\n",
       "</style>\n",
       "<table border=\"1\" class=\"dataframe\">\n",
       "  <thead>\n",
       "    <tr style=\"text-align: right;\">\n",
       "      <th></th>\n",
       "      <th>Missing Ratio</th>\n",
       "    </tr>\n",
       "  </thead>\n",
       "  <tbody>\n",
       "  </tbody>\n",
       "</table>\n",
       "</div>"
      ],
      "text/plain": [
       "Empty DataFrame\n",
       "Columns: [Missing Ratio]\n",
       "Index: []"
      ]
     },
     "execution_count": 50,
     "metadata": {},
     "output_type": "execute_result"
    }
   ],
   "source": [
    "#Lets see the missing ratios again\n",
    "data_na = (data.isnull().sum() / len(data)) * 100\n",
    "data_na = data_na.drop(data_na[data_na == 0].index).sort_values(ascending=False)[:30]\n",
    "missing_data = pd.DataFrame({'Missing Ratio' :data_na})\n",
    "missing_data.head(16)"
   ]
  },
  {
   "cell_type": "markdown",
   "metadata": {},
   "source": [
    "We've dealt with all the missing values finally. Now let's deal with categorical values next. We need to change the following independent variables to dummy variables:\n",
    "\n",
    "* Platform\n",
    "* Genre\n",
    "* Publisher\n",
    "* Developer\n",
    "* Rating\n",
    "\n",
    "\n",
    "However, here we have an issue. Publisher and Developer will cause a massive influx of features as there are so many unique values in the mix. At this point it seems best to drop these features entirely.\n",
    "\n",
    "Instead, let's only create dummies for:\n",
    "\n",
    "* Platform\n",
    "* Genre\n",
    "* Rating"
   ]
  },
  {
   "cell_type": "code",
   "execution_count": 51,
   "metadata": {},
   "outputs": [
    {
     "name": "stdout",
     "output_type": "stream",
     "text": [
      "(3546, 15)\n",
      "(3546, 36)\n"
     ]
    },
    {
     "data": {
      "text/html": [
       "<div>\n",
       "<style scoped>\n",
       "    .dataframe tbody tr th:only-of-type {\n",
       "        vertical-align: middle;\n",
       "    }\n",
       "\n",
       "    .dataframe tbody tr th {\n",
       "        vertical-align: top;\n",
       "    }\n",
       "\n",
       "    .dataframe thead th {\n",
       "        text-align: right;\n",
       "    }\n",
       "</style>\n",
       "<table border=\"1\" class=\"dataframe\">\n",
       "  <thead>\n",
       "    <tr style=\"text-align: right;\">\n",
       "      <th></th>\n",
       "      <th>Name</th>\n",
       "      <th>Year_of_Release</th>\n",
       "      <th>Publisher</th>\n",
       "      <th>NA_Sales</th>\n",
       "      <th>EU_Sales</th>\n",
       "      <th>JP_Sales</th>\n",
       "      <th>Global_Sales</th>\n",
       "      <th>Critic_Score</th>\n",
       "      <th>Critic_Count</th>\n",
       "      <th>User_Score</th>\n",
       "      <th>...</th>\n",
       "      <th>Genre_Role-Playing</th>\n",
       "      <th>Genre_Shooter</th>\n",
       "      <th>Genre_Simulation</th>\n",
       "      <th>Genre_Sports</th>\n",
       "      <th>Genre_Strategy</th>\n",
       "      <th>Rating_E</th>\n",
       "      <th>Rating_E10+</th>\n",
       "      <th>Rating_M</th>\n",
       "      <th>Rating_RP</th>\n",
       "      <th>Rating_T</th>\n",
       "    </tr>\n",
       "  </thead>\n",
       "  <tbody>\n",
       "    <tr>\n",
       "      <th>2</th>\n",
       "      <td>Mario Kart Wii</td>\n",
       "      <td>2008</td>\n",
       "      <td>Nintendo</td>\n",
       "      <td>15.68</td>\n",
       "      <td>12.76</td>\n",
       "      <td>3.79</td>\n",
       "      <td>35.52</td>\n",
       "      <td>82.0</td>\n",
       "      <td>73.0</td>\n",
       "      <td>8.3</td>\n",
       "      <td>...</td>\n",
       "      <td>0</td>\n",
       "      <td>0</td>\n",
       "      <td>0</td>\n",
       "      <td>0</td>\n",
       "      <td>0</td>\n",
       "      <td>1</td>\n",
       "      <td>0</td>\n",
       "      <td>0</td>\n",
       "      <td>0</td>\n",
       "      <td>0</td>\n",
       "    </tr>\n",
       "    <tr>\n",
       "      <th>3</th>\n",
       "      <td>Wii Sports Resort</td>\n",
       "      <td>2009</td>\n",
       "      <td>Nintendo</td>\n",
       "      <td>15.61</td>\n",
       "      <td>10.93</td>\n",
       "      <td>3.28</td>\n",
       "      <td>32.77</td>\n",
       "      <td>80.0</td>\n",
       "      <td>73.0</td>\n",
       "      <td>8</td>\n",
       "      <td>...</td>\n",
       "      <td>0</td>\n",
       "      <td>0</td>\n",
       "      <td>0</td>\n",
       "      <td>1</td>\n",
       "      <td>0</td>\n",
       "      <td>1</td>\n",
       "      <td>0</td>\n",
       "      <td>0</td>\n",
       "      <td>0</td>\n",
       "      <td>0</td>\n",
       "    </tr>\n",
       "    <tr>\n",
       "      <th>7</th>\n",
       "      <td>Wii Play</td>\n",
       "      <td>2006</td>\n",
       "      <td>Nintendo</td>\n",
       "      <td>13.96</td>\n",
       "      <td>9.18</td>\n",
       "      <td>2.93</td>\n",
       "      <td>28.92</td>\n",
       "      <td>58.0</td>\n",
       "      <td>41.0</td>\n",
       "      <td>6.6</td>\n",
       "      <td>...</td>\n",
       "      <td>0</td>\n",
       "      <td>0</td>\n",
       "      <td>0</td>\n",
       "      <td>0</td>\n",
       "      <td>0</td>\n",
       "      <td>1</td>\n",
       "      <td>0</td>\n",
       "      <td>0</td>\n",
       "      <td>0</td>\n",
       "      <td>0</td>\n",
       "    </tr>\n",
       "    <tr>\n",
       "      <th>8</th>\n",
       "      <td>New Super Mario Bros. Wii</td>\n",
       "      <td>2009</td>\n",
       "      <td>Nintendo</td>\n",
       "      <td>14.44</td>\n",
       "      <td>6.94</td>\n",
       "      <td>4.70</td>\n",
       "      <td>28.32</td>\n",
       "      <td>87.0</td>\n",
       "      <td>80.0</td>\n",
       "      <td>8.4</td>\n",
       "      <td>...</td>\n",
       "      <td>0</td>\n",
       "      <td>0</td>\n",
       "      <td>0</td>\n",
       "      <td>0</td>\n",
       "      <td>0</td>\n",
       "      <td>1</td>\n",
       "      <td>0</td>\n",
       "      <td>0</td>\n",
       "      <td>0</td>\n",
       "      <td>0</td>\n",
       "    </tr>\n",
       "    <tr>\n",
       "      <th>13</th>\n",
       "      <td>Wii Fit</td>\n",
       "      <td>2007</td>\n",
       "      <td>Nintendo</td>\n",
       "      <td>8.92</td>\n",
       "      <td>8.03</td>\n",
       "      <td>3.60</td>\n",
       "      <td>22.70</td>\n",
       "      <td>80.0</td>\n",
       "      <td>63.0</td>\n",
       "      <td>7.7</td>\n",
       "      <td>...</td>\n",
       "      <td>0</td>\n",
       "      <td>0</td>\n",
       "      <td>0</td>\n",
       "      <td>1</td>\n",
       "      <td>0</td>\n",
       "      <td>1</td>\n",
       "      <td>0</td>\n",
       "      <td>0</td>\n",
       "      <td>0</td>\n",
       "      <td>0</td>\n",
       "    </tr>\n",
       "  </tbody>\n",
       "</table>\n",
       "<p>5 rows × 36 columns</p>\n",
       "</div>"
      ],
      "text/plain": [
       "                         Name  Year_of_Release Publisher  NA_Sales  EU_Sales  \\\n",
       "2              Mario Kart Wii             2008  Nintendo     15.68     12.76   \n",
       "3           Wii Sports Resort             2009  Nintendo     15.61     10.93   \n",
       "7                    Wii Play             2006  Nintendo     13.96      9.18   \n",
       "8   New Super Mario Bros. Wii             2009  Nintendo     14.44      6.94   \n",
       "13                    Wii Fit             2007  Nintendo      8.92      8.03   \n",
       "\n",
       "    JP_Sales  Global_Sales  Critic_Score  Critic_Count User_Score    ...     \\\n",
       "2       3.79         35.52          82.0          73.0        8.3    ...      \n",
       "3       3.28         32.77          80.0          73.0          8    ...      \n",
       "7       2.93         28.92          58.0          41.0        6.6    ...      \n",
       "8       4.70         28.32          87.0          80.0        8.4    ...      \n",
       "13      3.60         22.70          80.0          63.0        7.7    ...      \n",
       "\n",
       "    Genre_Role-Playing Genre_Shooter  Genre_Simulation  Genre_Sports  \\\n",
       "2                    0             0                 0             0   \n",
       "3                    0             0                 0             1   \n",
       "7                    0             0                 0             0   \n",
       "8                    0             0                 0             0   \n",
       "13                   0             0                 0             1   \n",
       "\n",
       "    Genre_Strategy  Rating_E  Rating_E10+  Rating_M  Rating_RP  Rating_T  \n",
       "2                0         1            0         0          0         0  \n",
       "3                0         1            0         0          0         0  \n",
       "7                0         1            0         0          0         0  \n",
       "8                0         1            0         0          0         0  \n",
       "13               0         1            0         0          0         0  \n",
       "\n",
       "[5 rows x 36 columns]"
      ]
     },
     "execution_count": 51,
     "metadata": {},
     "output_type": "execute_result"
    }
   ],
   "source": [
    "print(data.shape) #pre-dummies shape\n",
    "data = pd.get_dummies(data=data, columns=['Platform', 'Genre', 'Rating'])\n",
    "print(data.shape) #post-dummies shape\n",
    "data.head() #Check to verify that dummies are ok"
   ]
  },
  {
   "cell_type": "markdown",
   "metadata": {},
   "source": [
    "Let's drop the features we wish to discard for our models. These include:\n",
    "\n",
    "* Name\n",
    "* Publisher\n",
    "* Developer\n",
    "* NA_Sales\n",
    "* EU_Sales\n",
    "* JP_Sales\n",
    "* Other_Sales"
   ]
  },
  {
   "cell_type": "code",
   "execution_count": 52,
   "metadata": {},
   "outputs": [],
   "source": [
    "data = data.drop(['Name', 'Publisher', 'Developer', 'NA_Sales', 'EU_Sales', 'JP_Sales'], axis=1)"
   ]
  },
  {
   "cell_type": "markdown",
   "metadata": {},
   "source": [
    "Let's define X and Y and then split into training and test data"
   ]
  },
  {
   "cell_type": "code",
   "execution_count": 53,
   "metadata": {},
   "outputs": [
    {
     "data": {
      "text/plain": [
       "Index(['Year_of_Release', 'Global_Sales', 'Critic_Score', 'Critic_Count',\n",
       "       'User_Score', 'User_Count', 'Platform_PC', 'Platform_PS3',\n",
       "       'Platform_PS4', 'Platform_Wii', 'Platform_WiiU', 'Platform_X360',\n",
       "       'Platform_XOne', 'Genre_Action', 'Genre_Adventure', 'Genre_Fighting',\n",
       "       'Genre_Misc', 'Genre_Platform', 'Genre_Puzzle', 'Genre_Racing',\n",
       "       'Genre_Role-Playing', 'Genre_Shooter', 'Genre_Simulation',\n",
       "       'Genre_Sports', 'Genre_Strategy', 'Rating_E', 'Rating_E10+', 'Rating_M',\n",
       "       'Rating_RP', 'Rating_T'],\n",
       "      dtype='object')"
      ]
     },
     "execution_count": 53,
     "metadata": {},
     "output_type": "execute_result"
    }
   ],
   "source": [
    "data.columns"
   ]
  },
  {
   "cell_type": "code",
   "execution_count": 54,
   "metadata": {},
   "outputs": [
    {
     "name": "stdout",
     "output_type": "stream",
     "text": [
      "(3546, 29)\n",
      "(3546, 1)\n"
     ]
    }
   ],
   "source": [
    "Y = data[['Global_Sales']]\n",
    "\n",
    "X = data.drop(['Global_Sales'],axis =1)\n",
    "\n",
    "\n",
    "\n",
    "#Double checking the shape\n",
    "print(X.shape)\n",
    "print(Y.shape)"
   ]
  },
  {
   "cell_type": "code",
   "execution_count": 55,
   "metadata": {},
   "outputs": [
    {
     "name": "stdout",
     "output_type": "stream",
     "text": [
      "X_train shape: (2659, 29)\n",
      "Y_train shape: (2659, 1)\n",
      "X_test shape: (887, 29)\n",
      "Y_test shape: (887, 1)\n"
     ]
    }
   ],
   "source": [
    "from sklearn.model_selection import train_test_split\n",
    "\n",
    "X_train, X_test, Y_train, Y_test = train_test_split(X, Y, random_state=42)\n",
    "\n",
    "#Let's check the shape of the split data as a precaution\n",
    "print(\"X_train shape: {}\".format(X_train.shape))\n",
    "print(\"Y_train shape: {}\".format(Y_train.shape))\n",
    "\n",
    "print(\"X_test shape: {}\".format(X_test.shape))\n",
    "print(\"Y_test shape: {}\".format(Y_test.shape))"
   ]
  },
  {
   "cell_type": "markdown",
   "metadata": {},
   "source": [
    "* Now that we have the test split into training and test data we can still do some final scaling of the data before fitting the models.\n",
    "\n",
    "* As mentioned previously, lets do a log-transformation of the dependent variable in both the training and test data."
   ]
  },
  {
   "cell_type": "code",
   "execution_count": 56,
   "metadata": {},
   "outputs": [],
   "source": [
    "#We use the numpy fuction log1p which  applies log(1+x) to all elements of the column\n",
    "Y_train = np.log1p(Y_train)\n",
    "Y_test = np.log1p(Y_test)"
   ]
  },
  {
   "cell_type": "code",
   "execution_count": 57,
   "metadata": {},
   "outputs": [
    {
     "name": "stderr",
     "output_type": "stream",
     "text": [
      "/home/bat/anaconda3/lib/python3.6/site-packages/scipy/stats/stats.py:1713: FutureWarning:\n",
      "\n",
      "Using a non-tuple sequence for multidimensional indexing is deprecated; use `arr[tuple(seq)]` instead of `arr[seq]`. In the future this will be interpreted as an array index, `arr[np.array(seq)]`, which will result either in an error or a different result.\n",
      "\n"
     ]
    },
    {
     "name": "stdout",
     "output_type": "stream",
     "text": [
      "\n",
      " mu = 0.43 and sigma = 0.48\n",
      "\n"
     ]
    },
    {
     "data": {
      "image/png": "[encoded data removed]",
      "text/plain": [
       "<Figure size 432x288 with 1 Axes>"
      ]
     },
     "metadata": {
      "needs_background": "light"
     },
     "output_type": "display_data"
    },
    {
     "data": {
      "image/png": "[encoded data removed]",
      "text/plain": [
       "<Figure size 432x288 with 1 Axes>"
      ]
     },
     "metadata": {
      "needs_background": "light"
     },
     "output_type": "display_data"
    }
   ],
   "source": [
    "#Check the new distribution \n",
    "Y_log_transformed = np.log1p(data['Global_Sales']) #For comparison to earlier, here's the whole Y transformed\n",
    "sns.distplot(Y_log_transformed , fit=norm);\n",
    "\n",
    "# Get the fitted parameters used by the function\n",
    "(mu, sigma) = norm.fit(Y_log_transformed)\n",
    "print( '\\n mu = {:.2f} and sigma = {:.2f}\\n'.format(mu, sigma))\n",
    "\n",
    "#Now plot the distribution\n",
    "plt.legend(['Normal dist. ($\\mu=$ {:.2f} and $\\sigma=$ {:.2f} )'.format(mu, sigma)],\n",
    "            loc='best')\n",
    "plt.ylabel('Frequency')\n",
    "plt.title('Global_Sales distribution')\n",
    "\n",
    "#Get also the QQ-plot\n",
    "fig = plt.figure()\n",
    "res = stats.probplot(Y_log_transformed, plot=plt)\n",
    "plt.show()"
   ]
  },
  {
   "cell_type": "markdown",
   "metadata": {},
   "source": [
    "* As we can see, the log-transformation didn't do too much to help us normalize the data. To be honest, this step might not be all that useful, especially if we choose to fit models that can handle non-linear data pretty well. None the less, not much harm done either, so let's proceed.\n",
    "\n",
    "* Let's fit X_train and scale X_train and X_test with the MinMax Scaler to get all independent variables in a similar range.\n",
    "\n"
   ]
  },
  {
   "cell_type": "code",
   "execution_count": 58,
   "metadata": {},
   "outputs": [],
   "source": [
    "from sklearn.preprocessing import MinMaxScaler\n",
    "\n",
    "scaler = MinMaxScaler()\n",
    "scaler.fit(X_train)\n",
    "\n",
    "X_train_scaled = scaler.transform(X_train) \n",
    "X_test_scaled = scaler.transform(X_test)"
   ]
  },
  {
   "cell_type": "code",
   "execution_count": 59,
   "metadata": {},
   "outputs": [],
   "source": [
    "param_grid_gbr = [\n",
    "    {'n_estimators': [200, 225, 250, 275], 'max_features': [6, 8, 10, 12], 'max_depth': [5, 7, 9]}\n",
    "]\n",
    "\n",
    "from sklearn.model_selection import GridSearchCV"
   ]
  },
  {
   "cell_type": "code",
   "execution_count": 60,
   "metadata": {},
   "outputs": [
    {
     "name": "stdout",
     "output_type": "stream",
     "text": [
      "Best parameters: {'max_depth': 5, 'max_features': 6, 'n_estimators': 225}\n",
      "Best cross-validation score: 0.32\n",
      "Test set score: 0.33\n"
     ]
    }
   ],
   "source": [
    "from sklearn.ensemble import GradientBoostingRegressor\n",
    "\n",
    "grid_search_gbr = GridSearchCV(GradientBoostingRegressor(), param_grid_gbr, cv=5, scoring='neg_mean_squared_error')\n",
    "grid_search_gbr.fit(X_train, Y_train)\n",
    "print(\"Best parameters: {}\".format(grid_search_gbr.best_params_))\n",
    "gbr_best_cross_val_score = (np.sqrt(-grid_search_gbr.best_score_))\n",
    "print(\"Best cross-validation score: {:.2f}\".format(np.expm1(gbr_best_cross_val_score)))\n",
    "gbr_score = np.sqrt(-grid_search_gbr.score(X_test, Y_test))\n",
    "print(\"Test set score: {:.2f}\".format(np.expm1(gbr_score)))"
   ]
  },
  {
   "cell_type": "markdown",
   "metadata": {},
   "source": [
    "So the best model out of the seven we trained is the GBR! Let's therefore take a loot at the feature importances of the model as well to find out which features are the most important ones in explaining the results."
   ]
  },
  {
   "cell_type": "code",
   "execution_count": 61,
   "metadata": {},
   "outputs": [
    {
     "data": {
      "image/png": "[encoded data removed]",
      "text/plain": [
       "<Figure size 1440x720 with 1 Axes>"
      ]
     },
     "metadata": {
      "needs_background": "light"
     },
     "output_type": "display_data"
    }
   ],
   "source": [
    "# Plot feature importance\n",
    "feature_importance = grid_search_gbr.best_estimator_.feature_importances_\n",
    "# make importances relative to max importance\n",
    "feature_importance = 100.0 * (feature_importance / feature_importance.max())\n",
    "sorted_idx = np.argsort(feature_importance)\n",
    "pos = np.arange(sorted_idx.shape[0]) + .5\n",
    "plt.figure(figsize=(20,10))\n",
    "plt.subplot(1, 2, 2)\n",
    "plt.barh(pos, feature_importance[sorted_idx], align='center')\n",
    "plt.yticks(pos, X_train.columns.values[sorted_idx]) #Not 100 % sure the feature names match the importances correctly...\n",
    "plt.xlabel('Relative Importance')\n",
    "plt.title('Variable Importance')\n",
    "plt.show()"
   ]
  },
  {
   "cell_type": "markdown",
   "metadata": {},
   "source": [
    "# Result"
   ]
  },
  {
   "cell_type": "markdown",
   "metadata": {},
   "source": [
    "* The best model Is Gradient Boosting Regressor.\n",
    "\n",
    "\n",
    "* So the GBR's best cross-validation score and its test score are both 0.33 as measured in RMSE. This means that first off, the model generalizes well as the difference between the cross-validation score and the test set score is negligible. In more concrete terms however, it means that the average error the model makes in its predicitons amount to 330k units. That means that in making a forecast, on average the model will be wrong in forecasting video game sales by 330k units.\n",
    "\n",
    "\n",
    "* Additionally, an interesting finding is that the amount of users and the amount of critics rating a game on Metacritic is more important in explaining the results than the scores themselves. My initial hypothesis would have been the other way around. In this regard, it seems that it doesn't necessarily matter as much that a game has a single esteemed critic scoring the game a 100, but rather that the game has lots of critics scoring it potentially even at a lower level to drive those unit sales.\n",
    "\n",
    "\n",
    "* Another interesting finding is that the year of release is the fifth most important factor in explaingin the results. I would wager here that this is an indication of the fast growing video game industry: as the value for the year increases, unit sales increases mainly due to the market itself growing.\n",
    "\n",
    "\n",
    "* In terms of platforms, the only ones that maintained some relevant measure of explanatory power was whether the game was released on PC and whether it was released on Wii. There may be many interpretations here, so it is best to be wary in interpreting this. A game being released on Wii might speak towards explaining lower unit sales due to the platform not being as popular as it's counter parts PS3 and Xbox 360. In the case of a game being released on PC, it is difficult to say which way this explanatory power goes, as PC is such a large platform with all kinds of games being released on it.\n",
    "\n",
    "\n",
    "* If we would use this model to forecast the unit sales of a small video game developer's game, you would be better of using other methods. The reason is that typically independent smaller studios sell under a million copies. In this case, an error of 330k units is a lot and can have a tremendous financial impact on the company, if you are relying on forecasting sales with this model. \n",
    "\n",
    "\n",
    "* However, if you use this model to forecast the unit sales of larger AAA game developer's game, an error of 330k units, isn't that fatal. If you're forecasting the unit sales of a developer who typically sells say 3 million copies, then a roughly 10 % deviation is not fatal. Sure it isn't close to perfect, but these type of models typically aren't.\n",
    "\n",
    "\n",
    "* This model could thus be used as an extra input in making those sales forecasts."
   ]
  },
  {
   "cell_type": "code",
   "execution_count": null,
   "metadata": {},
   "outputs": [],
   "source": []
  },
  {
   "cell_type": "code",
   "execution_count": null,
   "metadata": {},
   "outputs": [],
   "source": []
  },
  {
   "cell_type": "code",
   "execution_count": null,
   "metadata": {},
   "outputs": [],
   "source": []
  },
  {
   "cell_type": "markdown",
   "metadata": {},
   "source": [
    "# EXTRA"
   ]
  },
  {
   "cell_type": "code",
   "execution_count": 62,
   "metadata": {},
   "outputs": [],
   "source": [
    "def rm_outliers(df, list_of_keys):\n",
    "    df_out = df\n",
    "    for key in list_of_keys:\n",
    "        # Calculate first and third quartile\n",
    "        first_quartile = df_out[key].describe()[\"25%\"]\n",
    "        third_quartile = df_out[key].describe()[\"75%\"]\n",
    "\n",
    "        # Interquartile range\n",
    "        iqr = third_quartile - first_quartile\n",
    "\n",
    "        # Remove outliers\n",
    "        removed = df_out[(df_out[key] <= (first_quartile - 3 * iqr)) |\n",
    "                    (df_out[key] >= (third_quartile + 3 * iqr))] \n",
    "        df_out = df_out[(df_out[key] > (first_quartile - 3 * iqr)) &\n",
    "                    (df_out[key] < (third_quartile + 3 * iqr))]\n",
    "    return df_out, removed"
   ]
  },
  {
   "cell_type": "code",
   "execution_count": 63,
   "metadata": {},
   "outputs": [
    {
     "data": {
      "text/html": [
       "<div>\n",
       "<style scoped>\n",
       "    .dataframe tbody tr th:only-of-type {\n",
       "        vertical-align: middle;\n",
       "    }\n",
       "\n",
       "    .dataframe tbody tr th {\n",
       "        vertical-align: top;\n",
       "    }\n",
       "\n",
       "    .dataframe thead th {\n",
       "        text-align: right;\n",
       "    }\n",
       "</style>\n",
       "<table border=\"1\" class=\"dataframe\">\n",
       "  <thead>\n",
       "    <tr style=\"text-align: right;\">\n",
       "      <th></th>\n",
       "      <th>Year_of_Release</th>\n",
       "      <th>NA_Sales</th>\n",
       "      <th>EU_Sales</th>\n",
       "      <th>JP_Sales</th>\n",
       "      <th>Global_Sales</th>\n",
       "      <th>Critic_Score</th>\n",
       "      <th>Critic_Count</th>\n",
       "      <th>User_Count</th>\n",
       "    </tr>\n",
       "  </thead>\n",
       "  <tbody>\n",
       "    <tr>\n",
       "      <th>count</th>\n",
       "      <td>15661.000000</td>\n",
       "      <td>15661.000000</td>\n",
       "      <td>15661.000000</td>\n",
       "      <td>15661.000000</td>\n",
       "      <td>15661.000000</td>\n",
       "      <td>7432.000000</td>\n",
       "      <td>7432.000000</td>\n",
       "      <td>6867.000000</td>\n",
       "    </tr>\n",
       "    <tr>\n",
       "      <th>mean</th>\n",
       "      <td>2006.780410</td>\n",
       "      <td>0.144871</td>\n",
       "      <td>0.072520</td>\n",
       "      <td>0.046943</td>\n",
       "      <td>0.288936</td>\n",
       "      <td>67.761302</td>\n",
       "      <td>24.465689</td>\n",
       "      <td>111.447648</td>\n",
       "    </tr>\n",
       "    <tr>\n",
       "      <th>std</th>\n",
       "      <td>5.893531</td>\n",
       "      <td>0.210715</td>\n",
       "      <td>0.131171</td>\n",
       "      <td>0.130259</td>\n",
       "      <td>0.346530</td>\n",
       "      <td>13.635510</td>\n",
       "      <td>17.190641</td>\n",
       "      <td>406.312019</td>\n",
       "    </tr>\n",
       "    <tr>\n",
       "      <th>min</th>\n",
       "      <td>1980.000000</td>\n",
       "      <td>0.000000</td>\n",
       "      <td>0.000000</td>\n",
       "      <td>0.000000</td>\n",
       "      <td>0.010000</td>\n",
       "      <td>13.000000</td>\n",
       "      <td>3.000000</td>\n",
       "      <td>4.000000</td>\n",
       "    </tr>\n",
       "    <tr>\n",
       "      <th>25%</th>\n",
       "      <td>2003.000000</td>\n",
       "      <td>0.000000</td>\n",
       "      <td>0.000000</td>\n",
       "      <td>0.000000</td>\n",
       "      <td>0.060000</td>\n",
       "      <td>59.000000</td>\n",
       "      <td>11.000000</td>\n",
       "      <td>9.000000</td>\n",
       "    </tr>\n",
       "    <tr>\n",
       "      <th>50%</th>\n",
       "      <td>2008.000000</td>\n",
       "      <td>0.070000</td>\n",
       "      <td>0.020000</td>\n",
       "      <td>0.000000</td>\n",
       "      <td>0.150000</td>\n",
       "      <td>70.000000</td>\n",
       "      <td>20.000000</td>\n",
       "      <td>21.000000</td>\n",
       "    </tr>\n",
       "    <tr>\n",
       "      <th>75%</th>\n",
       "      <td>2011.000000</td>\n",
       "      <td>0.190000</td>\n",
       "      <td>0.080000</td>\n",
       "      <td>0.030000</td>\n",
       "      <td>0.380000</td>\n",
       "      <td>78.000000</td>\n",
       "      <td>34.000000</td>\n",
       "      <td>61.000000</td>\n",
       "    </tr>\n",
       "    <tr>\n",
       "      <th>max</th>\n",
       "      <td>2020.000000</td>\n",
       "      <td>1.670000</td>\n",
       "      <td>1.580000</td>\n",
       "      <td>1.650000</td>\n",
       "      <td>1.690000</td>\n",
       "      <td>98.000000</td>\n",
       "      <td>106.000000</td>\n",
       "      <td>10665.000000</td>\n",
       "    </tr>\n",
       "  </tbody>\n",
       "</table>\n",
       "</div>"
      ],
      "text/plain": [
       "       Year_of_Release      NA_Sales      EU_Sales      JP_Sales  \\\n",
       "count     15661.000000  15661.000000  15661.000000  15661.000000   \n",
       "mean       2006.780410      0.144871      0.072520      0.046943   \n",
       "std           5.893531      0.210715      0.131171      0.130259   \n",
       "min        1980.000000      0.000000      0.000000      0.000000   \n",
       "25%        2003.000000      0.000000      0.000000      0.000000   \n",
       "50%        2008.000000      0.070000      0.020000      0.000000   \n",
       "75%        2011.000000      0.190000      0.080000      0.030000   \n",
       "max        2020.000000      1.670000      1.580000      1.650000   \n",
       "\n",
       "       Global_Sales  Critic_Score  Critic_Count    User_Count  \n",
       "count  15661.000000   7432.000000   7432.000000   6867.000000  \n",
       "mean       0.288936     67.761302     24.465689    111.447648  \n",
       "std        0.346530     13.635510     17.190641    406.312019  \n",
       "min        0.010000     13.000000      3.000000      4.000000  \n",
       "25%        0.060000     59.000000     11.000000      9.000000  \n",
       "50%        0.150000     70.000000     20.000000     21.000000  \n",
       "75%        0.380000     78.000000     34.000000     61.000000  \n",
       "max        1.690000     98.000000    106.000000  10665.000000  "
      ]
     },
     "execution_count": 63,
     "metadata": {},
     "output_type": "execute_result"
    }
   ],
   "source": [
    "data1, rmvd_global = rm_outliers(vgs, [\"Global_Sales\"])\n",
    "data1.describe()"
   ]
  },
  {
   "cell_type": "code",
   "execution_count": 64,
   "metadata": {},
   "outputs": [
    {
     "data": {
      "text/html": [
       "<div>\n",
       "<style scoped>\n",
       "    .dataframe tbody tr th:only-of-type {\n",
       "        vertical-align: middle;\n",
       "    }\n",
       "\n",
       "    .dataframe tbody tr th {\n",
       "        vertical-align: top;\n",
       "    }\n",
       "\n",
       "    .dataframe thead th {\n",
       "        text-align: right;\n",
       "    }\n",
       "</style>\n",
       "<table border=\"1\" class=\"dataframe\">\n",
       "  <thead>\n",
       "    <tr style=\"text-align: right;\">\n",
       "      <th></th>\n",
       "      <th>Name</th>\n",
       "      <th>Platform</th>\n",
       "      <th>Year_of_Release</th>\n",
       "      <th>Genre</th>\n",
       "      <th>Publisher</th>\n",
       "      <th>NA_Sales</th>\n",
       "      <th>EU_Sales</th>\n",
       "      <th>JP_Sales</th>\n",
       "      <th>Global_Sales</th>\n",
       "      <th>Critic_Score</th>\n",
       "      <th>Critic_Count</th>\n",
       "      <th>User_Score</th>\n",
       "      <th>User_Count</th>\n",
       "      <th>Developer</th>\n",
       "      <th>Rating</th>\n",
       "    </tr>\n",
       "  </thead>\n",
       "  <tbody>\n",
       "    <tr>\n",
       "      <th>1058</th>\n",
       "      <td>Cabela's Big Game Hunter 2010</td>\n",
       "      <td>Wii</td>\n",
       "      <td>2009</td>\n",
       "      <td>Sports</td>\n",
       "      <td>Activision Value</td>\n",
       "      <td>1.58</td>\n",
       "      <td>0.0</td>\n",
       "      <td>0.0</td>\n",
       "      <td>1.69</td>\n",
       "      <td>NaN</td>\n",
       "      <td>NaN</td>\n",
       "      <td>7.8</td>\n",
       "      <td>4.0</td>\n",
       "      <td>Activision</td>\n",
       "      <td>T</td>\n",
       "    </tr>\n",
       "  </tbody>\n",
       "</table>\n",
       "</div>"
      ],
      "text/plain": [
       "                               Name Platform  Year_of_Release   Genre  \\\n",
       "1058  Cabela's Big Game Hunter 2010      Wii             2009  Sports   \n",
       "\n",
       "             Publisher  NA_Sales  EU_Sales  JP_Sales  Global_Sales  \\\n",
       "1058  Activision Value      1.58       0.0       0.0          1.69   \n",
       "\n",
       "      Critic_Score  Critic_Count User_Score  User_Count   Developer Rating  \n",
       "1058           NaN           NaN        7.8         4.0  Activision      T  "
      ]
     },
     "execution_count": 64,
     "metadata": {},
     "output_type": "execute_result"
    }
   ],
   "source": [
    "data1.head(1)"
   ]
  },
  {
   "cell_type": "code",
   "execution_count": 65,
   "metadata": {},
   "outputs": [],
   "source": [
    "data1[\"Has_Score\"] = data1[\"User_Score\"].notnull() & data1[\"Critic_Score\"].notnull()\n",
    "rmvd_global[\"Has_Score\"] = rmvd_global[\"User_Score\"].notnull() & rmvd_global[\"Critic_Score\"].notnull()"
   ]
  },
  {
   "cell_type": "code",
   "execution_count": 66,
   "metadata": {},
   "outputs": [
    {
     "data": {
      "image/png": "[encoded data removed]",
      "text/plain": [
       "<Figure size 432x288 with 1 Axes>"
      ]
     },
     "metadata": {
      "needs_background": "light"
     },
     "output_type": "display_data"
    }
   ],
   "source": [
    "from matplotlib.lines import Line2D\n",
    "plt.hist(data1[data1[\"Has_Score\"]==True][\"Year_of_Release\"], color=\"limegreen\", alpha=0.5, \n",
    "         bins=range(1980, 2021), edgecolor=\"black\")\n",
    "plt.hist(data1[data1[\"Has_Score\"]==False][\"Year_of_Release\"], color=\"indianred\", alpha=0.5, \n",
    "         bins=range(1980, 2021), edgecolor=\"black\")\n",
    "plt.title(\"Distribution of year of release\")\n",
    "plt.xlabel(\"Year of release\")\n",
    "plt.ylabel(\"Number of games\")\n",
    "plt.legend(handles=[Line2D([0], [0], color=\"limegreen\", lw=20, label=\"True\", alpha=0.5),\n",
    "                    Line2D([0], [0], color=\"indianred\", lw=20, label=\"False\", alpha=0.5)],\n",
    "           title=\"Has_Score\", loc=6);\n",
    "plt.show()"
   ]
  },
  {
   "cell_type": "code",
   "execution_count": 67,
   "metadata": {},
   "outputs": [
    {
     "data": {
      "image/png": "[encoded data removed]",
      "text/plain": [
       "<Figure size 432x288 with 1 Axes>"
      ]
     },
     "metadata": {
      "needs_background": "light"
     },
     "output_type": "display_data"
    }
   ],
   "source": [
    "plt.hist(data1[data1[\"Has_Score\"]==True][\"Global_Sales\"], color=\"limegreen\", alpha=0.5, \n",
    "         edgecolor=\"black\")\n",
    "plt.hist(data1[data1[\"Has_Score\"]==False][\"Global_Sales\"], color=\"indianred\", alpha=0.5, \n",
    "         edgecolor=\"black\")\n",
    "plt.title(\"Distribution of global sales\")\n",
    "plt.xlabel(\"Global sales, $M\")\n",
    "plt.ylabel(\"Number of games\")\n",
    "plt.legend(handles=[Line2D([0], [0], color=\"limegreen\", lw=20, label=\"True\", alpha=0.5),\n",
    "                    Line2D([0], [0], color=\"indianred\", lw=20, label=\"False\", alpha=0.5)],\n",
    "           title=\"Has_Score\", loc=7);\n",
    "plt.show()"
   ]
  },
  {
   "cell_type": "markdown",
   "metadata": {
    "collapsed": true
   },
   "source": [
    "data[\"Country\"] = data[[\"NA\", \"EU\", \"JP\", \"Other\"]].idxmax(1, skipna=True)\n",
    "palette = {True: \"limegreen\", False: \"indianred\"}\n",
    "sns.factorplot(y=\"Country\", hue=\"Has_Score\", data=data, size=8, kind=\"count\", palette=palette)\n",
    "sns.factorplot(y=\"Country\", x=\"Global\", hue=\"Has_Score\", data=data, size=8, kind=\"bar\", palette=palette,\n",
    "               estimator=lambda x: np.median(x));"
   ]
  },
  {
   "cell_type": "code",
   "execution_count": 69,
   "metadata": {},
   "outputs": [
    {
     "data": {
      "text/html": [
       "<div>\n",
       "<style scoped>\n",
       "    .dataframe tbody tr th:only-of-type {\n",
       "        vertical-align: middle;\n",
       "    }\n",
       "\n",
       "    .dataframe tbody tr th {\n",
       "        vertical-align: top;\n",
       "    }\n",
       "\n",
       "    .dataframe thead th {\n",
       "        text-align: right;\n",
       "    }\n",
       "</style>\n",
       "<table border=\"1\" class=\"dataframe\">\n",
       "  <thead>\n",
       "    <tr style=\"text-align: right;\">\n",
       "      <th></th>\n",
       "      <th>Year_of_Release</th>\n",
       "      <th>NA_Sales</th>\n",
       "      <th>EU_Sales</th>\n",
       "      <th>JP_Sales</th>\n",
       "      <th>Global_Sales</th>\n",
       "      <th>Critic_Score</th>\n",
       "      <th>Critic_Count</th>\n",
       "      <th>User_Count</th>\n",
       "    </tr>\n",
       "  </thead>\n",
       "  <tbody>\n",
       "    <tr>\n",
       "      <th>count</th>\n",
       "      <td>7324.000000</td>\n",
       "      <td>7324.000000</td>\n",
       "      <td>7324.000000</td>\n",
       "      <td>7324.000000</td>\n",
       "      <td>7324.000000</td>\n",
       "      <td>7324.000000</td>\n",
       "      <td>7324.000000</td>\n",
       "      <td>6251.000000</td>\n",
       "    </tr>\n",
       "    <tr>\n",
       "      <th>mean</th>\n",
       "      <td>2007.327826</td>\n",
       "      <td>0.195986</td>\n",
       "      <td>0.102845</td>\n",
       "      <td>0.025337</td>\n",
       "      <td>0.360244</td>\n",
       "      <td>67.765565</td>\n",
       "      <td>24.577826</td>\n",
       "      <td>118.994881</td>\n",
       "    </tr>\n",
       "    <tr>\n",
       "      <th>std</th>\n",
       "      <td>4.338376</td>\n",
       "      <td>0.222782</td>\n",
       "      <td>0.149133</td>\n",
       "      <td>0.088268</td>\n",
       "      <td>0.377483</td>\n",
       "      <td>13.640267</td>\n",
       "      <td>17.227077</td>\n",
       "      <td>423.959357</td>\n",
       "    </tr>\n",
       "    <tr>\n",
       "      <th>min</th>\n",
       "      <td>1985.000000</td>\n",
       "      <td>0.000000</td>\n",
       "      <td>0.000000</td>\n",
       "      <td>0.000000</td>\n",
       "      <td>0.010000</td>\n",
       "      <td>13.000000</td>\n",
       "      <td>3.000000</td>\n",
       "      <td>4.000000</td>\n",
       "    </tr>\n",
       "    <tr>\n",
       "      <th>25%</th>\n",
       "      <td>2004.000000</td>\n",
       "      <td>0.050000</td>\n",
       "      <td>0.010000</td>\n",
       "      <td>0.000000</td>\n",
       "      <td>0.090000</td>\n",
       "      <td>59.000000</td>\n",
       "      <td>11.000000</td>\n",
       "      <td>10.000000</td>\n",
       "    </tr>\n",
       "    <tr>\n",
       "      <th>50%</th>\n",
       "      <td>2007.000000</td>\n",
       "      <td>0.110000</td>\n",
       "      <td>0.040000</td>\n",
       "      <td>0.000000</td>\n",
       "      <td>0.210000</td>\n",
       "      <td>70.000000</td>\n",
       "      <td>20.000000</td>\n",
       "      <td>23.000000</td>\n",
       "    </tr>\n",
       "    <tr>\n",
       "      <th>75%</th>\n",
       "      <td>2010.000000</td>\n",
       "      <td>0.260000</td>\n",
       "      <td>0.130000</td>\n",
       "      <td>0.000000</td>\n",
       "      <td>0.510000</td>\n",
       "      <td>78.000000</td>\n",
       "      <td>34.000000</td>\n",
       "      <td>66.000000</td>\n",
       "    </tr>\n",
       "    <tr>\n",
       "      <th>max</th>\n",
       "      <td>2018.000000</td>\n",
       "      <td>1.670000</td>\n",
       "      <td>1.580000</td>\n",
       "      <td>1.390000</td>\n",
       "      <td>1.690000</td>\n",
       "      <td>98.000000</td>\n",
       "      <td>106.000000</td>\n",
       "      <td>10665.000000</td>\n",
       "    </tr>\n",
       "  </tbody>\n",
       "</table>\n",
       "</div>"
      ],
      "text/plain": [
       "       Year_of_Release     NA_Sales     EU_Sales     JP_Sales  Global_Sales  \\\n",
       "count      7324.000000  7324.000000  7324.000000  7324.000000   7324.000000   \n",
       "mean       2007.327826     0.195986     0.102845     0.025337      0.360244   \n",
       "std           4.338376     0.222782     0.149133     0.088268      0.377483   \n",
       "min        1985.000000     0.000000     0.000000     0.000000      0.010000   \n",
       "25%        2004.000000     0.050000     0.010000     0.000000      0.090000   \n",
       "50%        2007.000000     0.110000     0.040000     0.000000      0.210000   \n",
       "75%        2010.000000     0.260000     0.130000     0.000000      0.510000   \n",
       "max        2018.000000     1.670000     1.580000     1.390000      1.690000   \n",
       "\n",
       "       Critic_Score  Critic_Count    User_Count  \n",
       "count   7324.000000   7324.000000   6251.000000  \n",
       "mean      67.765565     24.577826    118.994881  \n",
       "std       13.640267     17.227077    423.959357  \n",
       "min       13.000000      3.000000      4.000000  \n",
       "25%       59.000000     11.000000     10.000000  \n",
       "50%       70.000000     20.000000     23.000000  \n",
       "75%       78.000000     34.000000     66.000000  \n",
       "max       98.000000    106.000000  10665.000000  "
      ]
     },
     "execution_count": 69,
     "metadata": {},
     "output_type": "execute_result"
    }
   ],
   "source": [
    "scored = data1.dropna(subset=[\"User_Score\", \"Critic_Score\", \"Rating\"])\n",
    "scored.describe()"
   ]
  },
  {
   "cell_type": "code",
   "execution_count": 70,
   "metadata": {},
   "outputs": [
    {
     "data": {
      "text/html": [
       "<div>\n",
       "<style scoped>\n",
       "    .dataframe tbody tr th:only-of-type {\n",
       "        vertical-align: middle;\n",
       "    }\n",
       "\n",
       "    .dataframe tbody tr th {\n",
       "        vertical-align: top;\n",
       "    }\n",
       "\n",
       "    .dataframe thead th {\n",
       "        text-align: right;\n",
       "    }\n",
       "</style>\n",
       "<table border=\"1\" class=\"dataframe\">\n",
       "  <thead>\n",
       "    <tr style=\"text-align: right;\">\n",
       "      <th></th>\n",
       "      <th>Year_of_Release</th>\n",
       "      <th>NA_Sales</th>\n",
       "      <th>EU_Sales</th>\n",
       "      <th>JP_Sales</th>\n",
       "      <th>Global_Sales</th>\n",
       "      <th>Critic_Score</th>\n",
       "      <th>Critic_Count</th>\n",
       "      <th>User_Count</th>\n",
       "    </tr>\n",
       "  </thead>\n",
       "  <tbody>\n",
       "    <tr>\n",
       "      <th>count</th>\n",
       "      <td>5638.000000</td>\n",
       "      <td>5638.000000</td>\n",
       "      <td>5638.000000</td>\n",
       "      <td>5638.000000</td>\n",
       "      <td>5638.000000</td>\n",
       "      <td>5638.000000</td>\n",
       "      <td>5638.000000</td>\n",
       "      <td>5638.000000</td>\n",
       "    </tr>\n",
       "    <tr>\n",
       "      <th>mean</th>\n",
       "      <td>2007.257716</td>\n",
       "      <td>0.205695</td>\n",
       "      <td>0.098698</td>\n",
       "      <td>0.028703</td>\n",
       "      <td>0.369753</td>\n",
       "      <td>67.822277</td>\n",
       "      <td>24.956900</td>\n",
       "      <td>37.485811</td>\n",
       "    </tr>\n",
       "    <tr>\n",
       "      <th>std</th>\n",
       "      <td>4.237380</td>\n",
       "      <td>0.225221</td>\n",
       "      <td>0.138778</td>\n",
       "      <td>0.095149</td>\n",
       "      <td>0.367379</td>\n",
       "      <td>13.438418</td>\n",
       "      <td>15.727819</td>\n",
       "      <td>44.568979</td>\n",
       "    </tr>\n",
       "    <tr>\n",
       "      <th>min</th>\n",
       "      <td>1985.000000</td>\n",
       "      <td>0.000000</td>\n",
       "      <td>0.000000</td>\n",
       "      <td>0.000000</td>\n",
       "      <td>0.010000</td>\n",
       "      <td>13.000000</td>\n",
       "      <td>3.000000</td>\n",
       "      <td>4.000000</td>\n",
       "    </tr>\n",
       "    <tr>\n",
       "      <th>25%</th>\n",
       "      <td>2004.000000</td>\n",
       "      <td>0.060000</td>\n",
       "      <td>0.010000</td>\n",
       "      <td>0.000000</td>\n",
       "      <td>0.100000</td>\n",
       "      <td>60.000000</td>\n",
       "      <td>13.000000</td>\n",
       "      <td>9.000000</td>\n",
       "    </tr>\n",
       "    <tr>\n",
       "      <th>50%</th>\n",
       "      <td>2007.000000</td>\n",
       "      <td>0.130000</td>\n",
       "      <td>0.040000</td>\n",
       "      <td>0.000000</td>\n",
       "      <td>0.230000</td>\n",
       "      <td>70.000000</td>\n",
       "      <td>22.000000</td>\n",
       "      <td>20.000000</td>\n",
       "    </tr>\n",
       "    <tr>\n",
       "      <th>75%</th>\n",
       "      <td>2010.000000</td>\n",
       "      <td>0.280000</td>\n",
       "      <td>0.130000</td>\n",
       "      <td>0.000000</td>\n",
       "      <td>0.520000</td>\n",
       "      <td>78.000000</td>\n",
       "      <td>34.000000</td>\n",
       "      <td>45.750000</td>\n",
       "    </tr>\n",
       "    <tr>\n",
       "      <th>max</th>\n",
       "      <td>2018.000000</td>\n",
       "      <td>1.670000</td>\n",
       "      <td>1.160000</td>\n",
       "      <td>1.390000</td>\n",
       "      <td>1.690000</td>\n",
       "      <td>98.000000</td>\n",
       "      <td>91.000000</td>\n",
       "      <td>233.000000</td>\n",
       "    </tr>\n",
       "  </tbody>\n",
       "</table>\n",
       "</div>"
      ],
      "text/plain": [
       "       Year_of_Release     NA_Sales     EU_Sales     JP_Sales  Global_Sales  \\\n",
       "count      5638.000000  5638.000000  5638.000000  5638.000000   5638.000000   \n",
       "mean       2007.257716     0.205695     0.098698     0.028703      0.369753   \n",
       "std           4.237380     0.225221     0.138778     0.095149      0.367379   \n",
       "min        1985.000000     0.000000     0.000000     0.000000      0.010000   \n",
       "25%        2004.000000     0.060000     0.010000     0.000000      0.100000   \n",
       "50%        2007.000000     0.130000     0.040000     0.000000      0.230000   \n",
       "75%        2010.000000     0.280000     0.130000     0.000000      0.520000   \n",
       "max        2018.000000     1.670000     1.160000     1.390000      1.690000   \n",
       "\n",
       "       Critic_Score  Critic_Count   User_Count  \n",
       "count   5638.000000   5638.000000  5638.000000  \n",
       "mean      67.822277     24.956900    37.485811  \n",
       "std       13.438418     15.727819    44.568979  \n",
       "min       13.000000      3.000000     4.000000  \n",
       "25%       60.000000     13.000000     9.000000  \n",
       "50%       70.000000     22.000000    20.000000  \n",
       "75%       78.000000     34.000000    45.750000  \n",
       "max       98.000000     91.000000   233.000000  "
      ]
     },
     "execution_count": 70,
     "metadata": {},
     "output_type": "execute_result"
    }
   ],
   "source": [
    "scored, rmvd_user_count = rm_outliers(scored, [\"User_Count\"])\n",
    "scored.describe()"
   ]
  },
  {
   "cell_type": "code",
   "execution_count": 85,
   "metadata": {},
   "outputs": [
    {
     "data": {
      "text/html": [
       "<div>\n",
       "<style scoped>\n",
       "    .dataframe tbody tr th:only-of-type {\n",
       "        vertical-align: middle;\n",
       "    }\n",
       "\n",
       "    .dataframe tbody tr th {\n",
       "        vertical-align: top;\n",
       "    }\n",
       "\n",
       "    .dataframe thead th {\n",
       "        text-align: right;\n",
       "    }\n",
       "</style>\n",
       "<table border=\"1\" class=\"dataframe\">\n",
       "  <thead>\n",
       "    <tr style=\"text-align: right;\">\n",
       "      <th></th>\n",
       "      <th>Name</th>\n",
       "      <th>Platform</th>\n",
       "      <th>Year_of_Release</th>\n",
       "      <th>Genre</th>\n",
       "      <th>Publisher</th>\n",
       "      <th>NA_Sales</th>\n",
       "      <th>EU_Sales</th>\n",
       "      <th>JP_Sales</th>\n",
       "      <th>Global_Sales</th>\n",
       "      <th>Critic_Score</th>\n",
       "      <th>Critic_Count</th>\n",
       "      <th>User_Score</th>\n",
       "      <th>User_Count</th>\n",
       "      <th>Developer</th>\n",
       "      <th>Rating</th>\n",
       "      <th>Has_Score</th>\n",
       "    </tr>\n",
       "  </thead>\n",
       "  <tbody>\n",
       "    <tr>\n",
       "      <th>1059</th>\n",
       "      <td>SOCOM 3: U.S. Navy SEALs</td>\n",
       "      <td>PS2</td>\n",
       "      <td>2005</td>\n",
       "      <td>Shooter</td>\n",
       "      <td>Sony Computer Entertainment</td>\n",
       "      <td>1.22</td>\n",
       "      <td>0.34</td>\n",
       "      <td>0.04</td>\n",
       "      <td>1.69</td>\n",
       "      <td>82.0</td>\n",
       "      <td>59.0</td>\n",
       "      <td>8.8</td>\n",
       "      <td>64.0</td>\n",
       "      <td>Zipper Interactive</td>\n",
       "      <td>M</td>\n",
       "      <td>True</td>\n",
       "    </tr>\n",
       "  </tbody>\n",
       "</table>\n",
       "</div>"
      ],
      "text/plain": [
       "                          Name Platform  Year_of_Release    Genre  \\\n",
       "1059  SOCOM 3: U.S. Navy SEALs      PS2             2005  Shooter   \n",
       "\n",
       "                        Publisher  NA_Sales  EU_Sales  JP_Sales  Global_Sales  \\\n",
       "1059  Sony Computer Entertainment      1.22      0.34      0.04          1.69   \n",
       "\n",
       "      Critic_Score  Critic_Count  User_Score  User_Count           Developer  \\\n",
       "1059          82.0          59.0         8.8        64.0  Zipper Interactive   \n",
       "\n",
       "     Rating  Has_Score  \n",
       "1059      M       True  "
      ]
     },
     "execution_count": 85,
     "metadata": {},
     "output_type": "execute_result"
    }
   ],
   "source": [
    "scored.head(1)"
   ]
  },
  {
   "cell_type": "code",
   "execution_count": 88,
   "metadata": {},
   "outputs": [],
   "source": [
    "import category_encoders as ce\n",
    "# Select the numeric columns\n",
    "\n",
    "scored['User_Score'] = scored['User_Score'].astype('float64')\n",
    "numeric_subset = scored[['Year_of_Release','Critic_Score','Critic_Count','User_Score','User_Count','Global_Sales']]\n",
    "\n",
    "# Select the categorical column\n",
    "categorical_subset = scored[[\"Platform\", \"Genre\", \"Rating\"]]\n",
    "\n",
    "# One hot encode\n",
    "encoder = ce.one_hot.OneHotEncoder()\n",
    "categorical_subset = encoder.fit_transform(categorical_subset)\n",
    "\n",
    "# Join the two dataframes using concat\n",
    "# Make sure to use axis = 1 to perform a column bind\n",
    "features = pd.concat([numeric_subset, categorical_subset], axis = 1)\n",
    "\n",
    "# Find correlations with the score \n",
    "correlations = features.corr()[\"Global_Sales\"].dropna().sort_values()"
   ]
  },
  {
   "cell_type": "code",
   "execution_count": 91,
   "metadata": {},
   "outputs": [
    {
     "data": {
      "text/plain": [
       "Index(['Year_of_Release', 'Critic_Score', 'Critic_Count', 'User_Score',\n",
       "       'User_Count', 'Global_Sales', 'Platform_1', 'Platform_2', 'Platform_3',\n",
       "       'Platform_4', 'Platform_5', 'Platform_6', 'Platform_7', 'Platform_8',\n",
       "       'Platform_9', 'Platform_10', 'Platform_11', 'Platform_12',\n",
       "       'Platform_13', 'Platform_14', 'Platform_15', 'Platform_16',\n",
       "       'Platform_17', 'Platform_-1', 'Genre_1', 'Genre_2', 'Genre_3',\n",
       "       'Genre_4', 'Genre_5', 'Genre_6', 'Genre_7', 'Genre_8', 'Genre_9',\n",
       "       'Genre_10', 'Genre_11', 'Genre_12', 'Genre_-1', 'Rating_1', 'Rating_2',\n",
       "       'Rating_3', 'Rating_4', 'Rating_5', 'Rating_-1'],\n",
       "      dtype='object')"
      ]
     },
     "execution_count": 91,
     "metadata": {},
     "output_type": "execute_result"
    }
   ],
   "source": [
    "features.columns"
   ]
  },
  {
   "cell_type": "code",
   "execution_count": null,
   "metadata": {},
   "outputs": [],
   "source": []
  },
  {
   "cell_type": "code",
   "execution_count": null,
   "metadata": {},
   "outputs": [],
   "source": []
  },
  {
   "cell_type": "code",
   "execution_count": 92,
   "metadata": {},
   "outputs": [
    {
     "data": {
      "text/plain": [
       "Platform_5    -0.186835\n",
       "Genre_10      -0.094490\n",
       "Genre_12      -0.083940\n",
       "Platform_17   -0.069198\n",
       "Platform_15   -0.061921\n",
       "Name: Global_Sales, dtype: float64"
      ]
     },
     "execution_count": 92,
     "metadata": {},
     "output_type": "execute_result"
    }
   ],
   "source": [
    "correlations.head()"
   ]
  },
  {
   "cell_type": "code",
   "execution_count": 93,
   "metadata": {},
   "outputs": [
    {
     "data": {
      "text/plain": [
       "(5638, 43)"
      ]
     },
     "execution_count": 93,
     "metadata": {},
     "output_type": "execute_result"
    }
   ],
   "source": [
    "features.shape"
   ]
  },
  {
   "cell_type": "code",
   "execution_count": 94,
   "metadata": {},
   "outputs": [],
   "source": [
    "from sklearn.model_selection import train_test_split\n",
    "basic_target = pd.Series(features[\"Global_Sales\"])\n",
    "basic_features = features.drop(columns=\"Global_Sales\")\n",
    "features_train, features_test, target_train, target_test = train_test_split(basic_features, basic_target,test_size=0.2,\n",
    "                                                                            random_state=42)\n",
    "           "
   ]
  },
  {
   "cell_type": "code",
   "execution_count": 95,
   "metadata": {},
   "outputs": [
    {
     "name": "stdout",
     "output_type": "stream",
     "text": [
      "(4510, 42)\n",
      "(1128, 42)\n",
      "(4510,)\n",
      "(1128,)\n"
     ]
    }
   ],
   "source": [
    "print(features_train.shape)\n",
    "print(features_test.shape)\n",
    "print(target_train.shape)\n",
    "print(target_test.shape)"
   ]
  },
  {
   "cell_type": "code",
   "execution_count": 96,
   "metadata": {},
   "outputs": [],
   "source": [
    "def mae(y_true, y_pred):\n",
    "    return np.average(abs(y_true - y_pred))"
   ]
  },
  {
   "cell_type": "code",
   "execution_count": 97,
   "metadata": {},
   "outputs": [
    {
     "name": "stdout",
     "output_type": "stream",
     "text": [
      "Baseline guess for global sales is: 0.23\n",
      "Baseline Performance on the test set: MAE = 0.2794\n"
     ]
    }
   ],
   "source": [
    "baseline_guess = np.median(target_train)\n",
    "basic_baseline_mae = mae(target_test, baseline_guess)\n",
    "print(\"Baseline guess for global sales is: {:.02f}\".format(baseline_guess))\n",
    "print(\"Baseline Performance on the test set: MAE = {:.04f}\".format(basic_baseline_mae))"
   ]
  },
  {
   "cell_type": "code",
   "execution_count": 98,
   "metadata": {},
   "outputs": [
    {
     "data": {
      "text/plain": [
       "Index(['Year_of_Release', 'Critic_Score', 'Critic_Count', 'User_Score',\n",
       "       'User_Count', 'Platform_1', 'Platform_2', 'Platform_3', 'Platform_4',\n",
       "       'Platform_5', 'Platform_6', 'Platform_7', 'Platform_8', 'Platform_9',\n",
       "       'Platform_10', 'Platform_11', 'Platform_12', 'Platform_13',\n",
       "       'Platform_14', 'Platform_15', 'Platform_16', 'Platform_17',\n",
       "       'Platform_-1', 'Genre_1', 'Genre_2', 'Genre_3', 'Genre_4', 'Genre_5',\n",
       "       'Genre_6', 'Genre_7', 'Genre_8', 'Genre_9', 'Genre_10', 'Genre_11',\n",
       "       'Genre_12', 'Genre_-1', 'Rating_1', 'Rating_2', 'Rating_3', 'Rating_4',\n",
       "       'Rating_5', 'Rating_-1'],\n",
       "      dtype='object')"
      ]
     },
     "execution_count": 98,
     "metadata": {},
     "output_type": "execute_result"
    }
   ],
   "source": [
    "features_train.columns"
   ]
  },
  {
   "cell_type": "code",
   "execution_count": 99,
   "metadata": {},
   "outputs": [],
   "source": [
    "def fit_and_evaluate(model):\n",
    "    \n",
    "    # Train the model\n",
    "    model.fit(features_train, target_train)\n",
    "    \n",
    "    # Make predictions and evalute\n",
    "    model_pred = model.predict(features_test)\n",
    "    model_mae = mae(target_test, model_pred)\n",
    "    \n",
    "    # Return the performance metric\n",
    "    return model_mae"
   ]
  },
  {
   "cell_type": "code",
   "execution_count": 101,
   "metadata": {},
   "outputs": [],
   "source": [
    "from sklearn.linear_model import LinearRegression, Ridge\n",
    "from sklearn.ensemble import RandomForestRegressor, GradientBoostingRegressor\n",
    "from sklearn.svm import SVR\n",
    "from sklearn.neighbors import KNeighborsRegressor"
   ]
  },
  {
   "cell_type": "code",
   "execution_count": 102,
   "metadata": {},
   "outputs": [
    {
     "name": "stdout",
     "output_type": "stream",
     "text": [
      "Linear Regression Performance on the test set: MAE = 0.2358\n"
     ]
    }
   ],
   "source": [
    "lr = LinearRegression()\n",
    "lr_mae = fit_and_evaluate(lr)\n",
    "\n",
    "print(\"Linear Regression Performance on the test set: MAE = {:.04f}\".format(lr_mae))"
   ]
  },
  {
   "cell_type": "code",
   "execution_count": 103,
   "metadata": {},
   "outputs": [
    {
     "name": "stdout",
     "output_type": "stream",
     "text": [
      "Support Vector Machine Regression Performance on the test set: MAE = 0.2879\n"
     ]
    }
   ],
   "source": [
    "svm = SVR(C = 1000, gamma=0.1)\n",
    "svm_mae = fit_and_evaluate(svm)\n",
    "\n",
    "print(\"Support Vector Machine Regression Performance on the test set: MAE = {:.04f}\".format(svm_mae))"
   ]
  },
  {
   "cell_type": "code",
   "execution_count": 104,
   "metadata": {},
   "outputs": [
    {
     "name": "stdout",
     "output_type": "stream",
     "text": [
      "Random Forest Regression Performance on the test set: MAE = 0.2325\n"
     ]
    }
   ],
   "source": [
    "random_forest = RandomForestRegressor(random_state=60)\n",
    "random_forest_mae = fit_and_evaluate(random_forest)\n",
    "\n",
    "print(\"Random Forest Regression Performance on the test set: MAE = {:.04f}\".format(random_forest_mae))"
   ]
  },
  {
   "cell_type": "code",
   "execution_count": 105,
   "metadata": {},
   "outputs": [
    {
     "name": "stdout",
     "output_type": "stream",
     "text": [
      "Gradient Boosting Regression Performance on the test set: MAE = 0.2203\n"
     ]
    }
   ],
   "source": [
    "gradient_boosting = GradientBoostingRegressor(random_state=60)\n",
    "gradient_boosting_mae = fit_and_evaluate(gradient_boosting)\n",
    "\n",
    "print(\"Gradient Boosting Regression Performance on the test set: MAE = {:.04f}\".format(gradient_boosting_mae))"
   ]
  },
  {
   "cell_type": "code",
   "execution_count": 106,
   "metadata": {},
   "outputs": [
    {
     "name": "stdout",
     "output_type": "stream",
     "text": [
      "K-Nearest Neighbors Regression Performance on the test set: MAE = 0.2603\n"
     ]
    }
   ],
   "source": [
    "knn = KNeighborsRegressor(n_neighbors=10)\n",
    "knn_mae = fit_and_evaluate(knn)\n",
    "\n",
    "print(\"K-Nearest Neighbors Regression Performance on the test set: MAE = {:.04f}\".format(knn_mae))"
   ]
  },
  {
   "cell_type": "code",
   "execution_count": 107,
   "metadata": {},
   "outputs": [
    {
     "name": "stdout",
     "output_type": "stream",
     "text": [
      "Ridge Regression Performance on the test set: MAE = 0.2353\n"
     ]
    }
   ],
   "source": [
    "ridge = Ridge(alpha=10)\n",
    "ridge_mae = fit_and_evaluate(ridge)\n",
    "\n",
    "print(\"Ridge Regression Performance on the test set: MAE = {:.04f}\".format(ridge_mae))"
   ]
  },
  {
   "cell_type": "code",
   "execution_count": 108,
   "metadata": {},
   "outputs": [
    {
     "data": {
      "image/png": "[encoded data removed]",
      "text/plain": [
       "<Figure size 432x288 with 1 Axes>"
      ]
     },
     "metadata": {
      "needs_background": "light"
     },
     "output_type": "display_data"
    }
   ],
   "source": [
    "model_comparison = pd.DataFrame({\"model\": [\"Linear Regression\", \"Support Vector Machine\",\n",
    "                                           \"Random Forest\", \"Gradient Boosting\",\n",
    "                                            \"K-Nearest Neighbors\", \"Baseline (median)\", \"Ridge\"],\n",
    "                                 \"mae\": [lr_mae, svm_mae, random_forest_mae, \n",
    "                                         gradient_boosting_mae, knn_mae, basic_baseline_mae, ridge_mae]})\n",
    "model_comparison.sort_values(\"mae\", ascending=False).plot(x=\"model\", y=\"mae\", kind=\"barh\",\n",
    "                                                           color=\"lightskyblue\", legend=False)\n",
    "plt.ylabel(\"\"); plt.yticks(size=14); plt.xlabel(\"Mean Absolute Error\"); plt.xticks(size=14)\n",
    "plt.title(\"Model Comparison on Test MAE\", size=20);"
   ]
  },
  {
   "cell_type": "code",
   "execution_count": 109,
   "metadata": {},
   "outputs": [],
   "source": [
    "# Loss function to be optimized\n",
    "loss = [\"ls\", \"lad\", \"huber\"]\n",
    "\n",
    "# Maximum depth of each tree\n",
    "max_depth = [2, 3, 5, 10, 15]\n",
    "\n",
    "# Minimum number of samples per leaf\n",
    "min_samples_leaf = [1, 2, 4, 6, 8]\n",
    "\n",
    "# Minimum number of samples to split a node\n",
    "min_samples_split = [2, 4, 6, 10]\n",
    "\n",
    "# Maximum number of features to consider for making splits\n",
    "max_features = [\"auto\", \"sqrt\", \"log2\", None]\n",
    "\n",
    "hyperparameter_grid = {\"loss\": loss,\n",
    "                       \"max_depth\": max_depth,\n",
    "                       \"min_samples_leaf\": min_samples_leaf,\n",
    "                       \"min_samples_split\": min_samples_split,\n",
    "                       \"max_features\": max_features}"
   ]
  },
  {
   "cell_type": "code",
   "execution_count": 110,
   "metadata": {},
   "outputs": [],
   "source": [
    "from sklearn.model_selection import RandomizedSearchCV\n",
    "basic_model = GradientBoostingRegressor(random_state = 42)\n",
    "\n",
    "random_cv = RandomizedSearchCV(estimator=basic_model,\n",
    "                               param_distributions=hyperparameter_grid,\n",
    "                               cv=4, n_iter=20, \n",
    "                               scoring=\"neg_mean_absolute_error\",\n",
    "                               n_jobs=-1, verbose=1, \n",
    "                               return_train_score=True,\n",
    "                               random_state=42)"
   ]
  },
  {
   "cell_type": "code",
   "execution_count": 111,
   "metadata": {},
   "outputs": [
    {
     "name": "stdout",
     "output_type": "stream",
     "text": [
      "Fitting 4 folds for each of 20 candidates, totalling 80 fits\n"
     ]
    },
    {
     "name": "stderr",
     "output_type": "stream",
     "text": [
      "[Parallel(n_jobs=-1)]: Using backend LokyBackend with 4 concurrent workers.\n",
      "[Parallel(n_jobs=-1)]: Done  42 tasks      | elapsed:  1.8min\n",
      "[Parallel(n_jobs=-1)]: Done  80 out of  80 | elapsed:  2.3min finished\n"
     ]
    },
    {
     "data": {
      "text/plain": [
       "RandomizedSearchCV(cv=4, error_score='raise-deprecating',\n",
       "          estimator=GradientBoostingRegressor(alpha=0.9, criterion='friedman_mse', init=None,\n",
       "             learning_rate=0.1, loss='ls', max_depth=3, max_features=None,\n",
       "             max_leaf_nodes=None, min_impurity_decrease=0.0,\n",
       "             min_impurity_split=None, min_samples_leaf=1,\n",
       "             min_sampl...te=42, subsample=1.0, tol=0.0001,\n",
       "             validation_fraction=0.1, verbose=0, warm_start=False),\n",
       "          fit_params=None, iid='warn', n_iter=20, n_jobs=-1,\n",
       "          param_distributions={'loss': ['ls', 'lad', 'huber'], 'max_depth': [2, 3, 5, 10, 15], 'min_samples_leaf': [1, 2, 4, 6, 8], 'min_samples_split': [2, 4, 6, 10], 'max_features': ['auto', 'sqrt', 'log2', None]},\n",
       "          pre_dispatch='2*n_jobs', random_state=42, refit=True,\n",
       "          return_train_score=True, scoring='neg_mean_absolute_error',\n",
       "          verbose=1)"
      ]
     },
     "execution_count": 111,
     "metadata": {},
     "output_type": "execute_result"
    }
   ],
   "source": [
    "random_cv.fit(features_train, target_train)"
   ]
  },
  {
   "cell_type": "code",
   "execution_count": 112,
   "metadata": {},
   "outputs": [
    {
     "data": {
      "text/html": [
       "<div>\n",
       "<style scoped>\n",
       "    .dataframe tbody tr th:only-of-type {\n",
       "        vertical-align: middle;\n",
       "    }\n",
       "\n",
       "    .dataframe tbody tr th {\n",
       "        vertical-align: top;\n",
       "    }\n",
       "\n",
       "    .dataframe thead th {\n",
       "        text-align: right;\n",
       "    }\n",
       "</style>\n",
       "<table border=\"1\" class=\"dataframe\">\n",
       "  <thead>\n",
       "    <tr style=\"text-align: right;\">\n",
       "      <th></th>\n",
       "      <th>mean_test_score</th>\n",
       "      <th>param_loss</th>\n",
       "      <th>param_max_depth</th>\n",
       "      <th>param_min_samples_leaf</th>\n",
       "      <th>param_min_samples_split</th>\n",
       "      <th>param_max_features</th>\n",
       "    </tr>\n",
       "  </thead>\n",
       "  <tbody>\n",
       "    <tr>\n",
       "      <th>17</th>\n",
       "      <td>-0.201855</td>\n",
       "      <td>lad</td>\n",
       "      <td>15</td>\n",
       "      <td>2</td>\n",
       "      <td>4</td>\n",
       "      <td>log2</td>\n",
       "    </tr>\n",
       "    <tr>\n",
       "      <th>7</th>\n",
       "      <td>-0.202835</td>\n",
       "      <td>huber</td>\n",
       "      <td>5</td>\n",
       "      <td>6</td>\n",
       "      <td>6</td>\n",
       "      <td>auto</td>\n",
       "    </tr>\n",
       "    <tr>\n",
       "      <th>0</th>\n",
       "      <td>-0.203393</td>\n",
       "      <td>huber</td>\n",
       "      <td>15</td>\n",
       "      <td>8</td>\n",
       "      <td>6</td>\n",
       "      <td>log2</td>\n",
       "    </tr>\n",
       "    <tr>\n",
       "      <th>15</th>\n",
       "      <td>-0.209414</td>\n",
       "      <td>ls</td>\n",
       "      <td>5</td>\n",
       "      <td>4</td>\n",
       "      <td>6</td>\n",
       "      <td>auto</td>\n",
       "    </tr>\n",
       "    <tr>\n",
       "      <th>16</th>\n",
       "      <td>-0.209531</td>\n",
       "      <td>lad</td>\n",
       "      <td>3</td>\n",
       "      <td>1</td>\n",
       "      <td>10</td>\n",
       "      <td>log2</td>\n",
       "    </tr>\n",
       "    <tr>\n",
       "      <th>8</th>\n",
       "      <td>-0.210933</td>\n",
       "      <td>lad</td>\n",
       "      <td>2</td>\n",
       "      <td>4</td>\n",
       "      <td>10</td>\n",
       "      <td>auto</td>\n",
       "    </tr>\n",
       "    <tr>\n",
       "      <th>3</th>\n",
       "      <td>-0.214143</td>\n",
       "      <td>lad</td>\n",
       "      <td>2</td>\n",
       "      <td>8</td>\n",
       "      <td>10</td>\n",
       "      <td>sqrt</td>\n",
       "    </tr>\n",
       "    <tr>\n",
       "      <th>19</th>\n",
       "      <td>-0.214182</td>\n",
       "      <td>lad</td>\n",
       "      <td>2</td>\n",
       "      <td>1</td>\n",
       "      <td>10</td>\n",
       "      <td>sqrt</td>\n",
       "    </tr>\n",
       "    <tr>\n",
       "      <th>1</th>\n",
       "      <td>-0.215159</td>\n",
       "      <td>huber</td>\n",
       "      <td>2</td>\n",
       "      <td>2</td>\n",
       "      <td>4</td>\n",
       "      <td>None</td>\n",
       "    </tr>\n",
       "    <tr>\n",
       "      <th>18</th>\n",
       "      <td>-0.218188</td>\n",
       "      <td>huber</td>\n",
       "      <td>2</td>\n",
       "      <td>8</td>\n",
       "      <td>6</td>\n",
       "      <td>sqrt</td>\n",
       "    </tr>\n",
       "  </tbody>\n",
       "</table>\n",
       "</div>"
      ],
      "text/plain": [
       "    mean_test_score param_loss param_max_depth param_min_samples_leaf  \\\n",
       "17        -0.201855        lad              15                      2   \n",
       "7         -0.202835      huber               5                      6   \n",
       "0         -0.203393      huber              15                      8   \n",
       "15        -0.209414         ls               5                      4   \n",
       "16        -0.209531        lad               3                      1   \n",
       "8         -0.210933        lad               2                      4   \n",
       "3         -0.214143        lad               2                      8   \n",
       "19        -0.214182        lad               2                      1   \n",
       "1         -0.215159      huber               2                      2   \n",
       "18        -0.218188      huber               2                      8   \n",
       "\n",
       "   param_min_samples_split param_max_features  \n",
       "17                       4               log2  \n",
       "7                        6               auto  \n",
       "0                        6               log2  \n",
       "15                       6               auto  \n",
       "16                      10               log2  \n",
       "8                       10               auto  \n",
       "3                       10               sqrt  \n",
       "19                      10               sqrt  \n",
       "1                        4               None  \n",
       "18                       6               sqrt  "
      ]
     },
     "execution_count": 112,
     "metadata": {},
     "output_type": "execute_result"
    }
   ],
   "source": [
    "random_results = pd.DataFrame(random_cv.cv_results_).sort_values(\"mean_test_score\", ascending=False)\n",
    "random_results.head(10)[[\"mean_test_score\", \"param_loss\",\n",
    "                         \"param_max_depth\", \"param_min_samples_leaf\", \"param_min_samples_split\",\n",
    "                         \"param_max_features\"]]"
   ]
  },
  {
   "cell_type": "code",
   "execution_count": 113,
   "metadata": {},
   "outputs": [
    {
     "data": {
      "text/plain": [
       "GradientBoostingRegressor(alpha=0.9, criterion='friedman_mse', init=None,\n",
       "             learning_rate=0.1, loss='lad', max_depth=15,\n",
       "             max_features='log2', max_leaf_nodes=None,\n",
       "             min_impurity_decrease=0.0, min_impurity_split=None,\n",
       "             min_samples_leaf=2, min_samples_split=4,\n",
       "             min_weight_fraction_leaf=0.0, n_estimators=100,\n",
       "             n_iter_no_change=None, presort='auto', random_state=42,\n",
       "             subsample=1.0, tol=0.0001, validation_fraction=0.1, verbose=0,\n",
       "             warm_start=False)"
      ]
     },
     "execution_count": 113,
     "metadata": {},
     "output_type": "execute_result"
    }
   ],
   "source": [
    "random_cv.best_estimator_"
   ]
  },
  {
   "cell_type": "code",
   "execution_count": 114,
   "metadata": {},
   "outputs": [],
   "source": [
    "from sklearn.model_selection import GridSearchCV\n",
    "trees_grid = {\"n_estimators\": [50, 100, 150, 200, 250, 300]}\n",
    "\n",
    "basic_model = random_cv.best_estimator_\n",
    "grid_search = GridSearchCV(estimator=basic_model, param_grid=trees_grid, cv=4, \n",
    "                           scoring=\"neg_mean_absolute_error\", verbose=1,\n",
    "                           n_jobs=-1, return_train_score=True)"
   ]
  },
  {
   "cell_type": "code",
   "execution_count": 116,
   "metadata": {},
   "outputs": [
    {
     "name": "stdout",
     "output_type": "stream",
     "text": [
      "Fitting 4 folds for each of 6 candidates, totalling 24 fits\n"
     ]
    },
    {
     "name": "stderr",
     "output_type": "stream",
     "text": [
      "[Parallel(n_jobs=-1)]: Using backend LokyBackend with 4 concurrent workers.\n",
      "[Parallel(n_jobs=-1)]: Done  24 out of  24 | elapsed:  2.4min finished\n"
     ]
    }
   ],
   "source": [
    "grid_search.fit(features_train, target_train);"
   ]
  },
  {
   "cell_type": "code",
   "execution_count": 117,
   "metadata": {},
   "outputs": [
    {
     "data": {
      "image/png": "[encoded data removed]",
      "text/plain": [
       "<Figure size 432x288 with 1 Axes>"
      ]
     },
     "metadata": {
      "needs_background": "light"
     },
     "output_type": "display_data"
    }
   ],
   "source": [
    "results = pd.DataFrame(grid_search.cv_results_)\n",
    "\n",
    "plt.plot(results[\"param_n_estimators\"], -1 * results[\"mean_test_score\"], label = \"Testing Error\")\n",
    "plt.plot(results[\"param_n_estimators\"], -1 * results[\"mean_train_score\"], label = \"Training Error\")\n",
    "plt.xlabel(\"Number of Trees\"); plt.ylabel(\"Mean Abosolute Error\"); plt.legend();\n",
    "plt.title(\"Performance vs Number of Trees\");"
   ]
  },
  {
   "cell_type": "code",
   "execution_count": 118,
   "metadata": {},
   "outputs": [
    {
     "data": {
      "text/plain": [
       "GradientBoostingRegressor(alpha=0.9, criterion='friedman_mse', init=None,\n",
       "             learning_rate=0.1, loss='lad', max_depth=15,\n",
       "             max_features='log2', max_leaf_nodes=None,\n",
       "             min_impurity_decrease=0.0, min_impurity_split=None,\n",
       "             min_samples_leaf=2, min_samples_split=4,\n",
       "             min_weight_fraction_leaf=0.0, n_estimators=50,\n",
       "             n_iter_no_change=None, presort='auto', random_state=42,\n",
       "             subsample=1.0, tol=0.0001, validation_fraction=0.1, verbose=0,\n",
       "             warm_start=False)"
      ]
     },
     "execution_count": 118,
     "metadata": {},
     "output_type": "execute_result"
    }
   ],
   "source": [
    "basic_final_model = grid_search.best_estimator_\n",
    "basic_final_model"
   ]
  },
  {
   "cell_type": "code",
   "execution_count": 119,
   "metadata": {},
   "outputs": [
    {
     "name": "stdout",
     "output_type": "stream",
     "text": [
      "Final model performance on the test set: MAE = 0.2103.\n"
     ]
    }
   ],
   "source": [
    "basic_final_pred = basic_final_model.predict(features_test)\n",
    "basic_final_mae = mae(target_test, basic_final_pred)\n",
    "print(\"Final model performance on the test set: MAE = {:.04f}.\".format(basic_final_mae))"
   ]
  },
  {
   "cell_type": "code",
   "execution_count": 120,
   "metadata": {},
   "outputs": [
    {
     "name": "stderr",
     "output_type": "stream",
     "text": [
      "/home/bat/anaconda3/lib/python3.6/site-packages/scipy/stats/stats.py:1713: FutureWarning:\n",
      "\n",
      "Using a non-tuple sequence for multidimensional indexing is deprecated; use `arr[tuple(seq)]` instead of `arr[seq]`. In the future this will be interpreted as an array index, `arr[np.array(seq)]`, which will result either in an error or a different result.\n",
      "\n"
     ]
    },
    {
     "data": {
      "image/png": "[encoded data removed]",
      "text/plain": [
       "<Figure size 432x288 with 1 Axes>"
      ]
     },
     "metadata": {
      "needs_background": "light"
     },
     "output_type": "display_data"
    }
   ],
   "source": [
    "sns.kdeplot(basic_final_pred, label = \"Predictions\")\n",
    "sns.kdeplot(target_test, label = \"Test\")\n",
    "sns.kdeplot(target_train, label = \"Train\")\n",
    "\n",
    "plt.xlabel(\"Global Sales\"); plt.ylabel(\"Density\");\n",
    "plt.title(\"Test, Train Values and Predictions\");"
   ]
  },
  {
   "cell_type": "code",
   "execution_count": 121,
   "metadata": {},
   "outputs": [
    {
     "data": {
      "image/png": "[encoded data removed]",
      "text/plain": [
       "<Figure size 432x288 with 1 Axes>"
      ]
     },
     "metadata": {
      "needs_background": "light"
     },
     "output_type": "display_data"
    }
   ],
   "source": [
    "basic_residuals = basic_final_pred - target_test\n",
    "\n",
    "sns.kdeplot(basic_residuals, color = \"lightskyblue\")\n",
    "plt.xlabel(\"Error\"); plt.ylabel(\"Count\")\n",
    "plt.title(\"Distribution of Residuals\");"
   ]
  },
  {
   "cell_type": "code",
   "execution_count": null,
   "metadata": {},
   "outputs": [],
   "source": []
  },
  {
   "cell_type": "code",
   "execution_count": null,
   "metadata": {},
   "outputs": [],
   "source": []
  },
  {
   "cell_type": "code",
   "execution_count": null,
   "metadata": {},
   "outputs": [],
   "source": []
  },
  {
   "cell_type": "code",
   "execution_count": null,
   "metadata": {},
   "outputs": [],
   "source": []
  },
  {
   "cell_type": "code",
   "execution_count": null,
   "metadata": {},
   "outputs": [],
   "source": []
  },
  {
   "cell_type": "code",
   "execution_count": null,
   "metadata": {},
   "outputs": [],
   "source": []
  },
  {
   "cell_type": "code",
   "execution_count": null,
   "metadata": {},
   "outputs": [],
   "source": []
  },
  {
   "cell_type": "code",
   "execution_count": null,
   "metadata": {},
   "outputs": [],
   "source": []
  },
  {
   "cell_type": "code",
   "execution_count": null,
   "metadata": {},
   "outputs": [],
   "source": []
  }
 ],
 "metadata": {
  "kernelspec": {
   "display_name": "Python 3",
   "language": "python",
   "name": "python3"
  },
  "language_info": {
   "codemirror_mode": {
    "name": "ipython",
    "version": 3
   },
   "file_extension": ".py",
   "mimetype": "text/x-python",
   "name": "python",
   "nbconvert_exporter": "python",
   "pygments_lexer": "ipython3",
   "version": "3.6.6"
  }
 },
 "nbformat": 4,
 "nbformat_minor": 2
}
